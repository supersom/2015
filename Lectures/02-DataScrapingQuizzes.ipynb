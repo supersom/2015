{
 "cells": [
  {
   "cell_type": "code",
   "execution_count": 176,
   "metadata": {
    "collapsed": false,
    "slideshow": {
     "slide_type": "skip"
    }
   },
   "outputs": [],
   "source": [
    "## all imports\n",
    "from IPython.display import HTML\n",
    "import numpy as np\n",
    "import urllib2\n",
    "import bs4 #this is beautiful soup\n",
    "import time\n",
    "import operator\n",
    "import socket\n",
    "import cPickle\n",
    "import re # regular expressions\n",
    "\n",
    "from pandas import Series\n",
    "import pandas as pd\n",
    "from pandas import DataFrame\n",
    "\n",
    "import matplotlib\n",
    "import matplotlib.pyplot as plt\n",
    "%matplotlib inline\n",
    "\n",
    "import seaborn as sns\n",
    "sns.set_context(\"talk\")\n",
    "sns.set_style(\"white\")"
   ]
  },
  {
   "cell_type": "markdown",
   "metadata": {
    "slideshow": {
     "slide_type": "skip"
    }
   },
   "source": [
    "API registrations\n",
    "=================\n",
    "\n",
    "If you would like to run all the examples in this notebook, you need to register for the following APIs:\n",
    "\n",
    "* Rotten Tomatoes\n",
    "\n",
    "http://developer.rottentomatoes.com/member/register\n",
    "\n",
    "* Twitter\n",
    "\n",
    "https://apps.twitter.com/app/new\n",
    "\n",
    "* Twitter instructions\n",
    "\n",
    "https://twittercommunity.com/t/how-to-get-my-api-key/7033"
   ]
  },
  {
   "cell_type": "markdown",
   "metadata": {
    "slideshow": {
     "slide_type": "slide"
    }
   },
   "source": [
    "CS109\n",
    "=====\n",
    "\n",
    "Verena Kaynig-Fittkau, Joe Blitzstein, Hanspeter Pfister\n",
    "\n",
    "* vkaynig@seas.harvard.edu\n",
    "* staff@cs109.org"
   ]
  },
  {
   "cell_type": "markdown",
   "metadata": {
    "slideshow": {
     "slide_type": "slide"
    }
   },
   "source": [
    "Announcements\n",
    "==============\n",
    "\n",
    "* Over 400 sign ups on github!\n",
    "* If you are still missing, fill out the survey, time is running out!\n",
    "* Make sure you are on Piazza!\n",
    "\n",
    "\n",
    "* More [git help](https://www.youtube.com/channel/UC0-KaiZFXBlGOFN71YsEV8g/videos)\n",
    "\n",
    "\n",
    "* HW0 is due on Thursday \n",
    "* HW1 is coming out on Thursday\n"
   ]
  },
  {
   "cell_type": "markdown",
   "metadata": {
    "slideshow": {
     "slide_type": "slide"
    }
   },
   "source": [
    "Todays lecture:\n",
    "===============\n",
    "\n",
    "* introduction to pandas\n",
    "    - read a table\n",
    "    - do some plots\n",
    "\n",
    "* all about data scraping\n",
    "* ***What is it? ***\n",
    "* How to do it:\n",
    "    - from a website\n",
    "    - with an API"
   ]
  },
  {
   "cell_type": "markdown",
   "metadata": {
    "slideshow": {
     "slide_type": "slide"
    }
   },
   "source": [
    "IPython Notebooks:\n",
    "===================\n",
    "\n",
    "![IPython](images/ipython.png \"IPython\")"
   ]
  },
  {
   "cell_type": "markdown",
   "metadata": {
    "collapsed": true,
    "slideshow": {
     "slide_type": "slide"
    }
   },
   "source": [
    "IPython Notebooks:\n",
    "===================\n",
    "\n",
    "* These slides are an IPython notebook!\n",
    "* https://github.com/damianavila/live_reveal"
   ]
  },
  {
   "cell_type": "code",
   "execution_count": 177,
   "metadata": {
    "collapsed": false
   },
   "outputs": [
    {
     "name": "stdout",
     "output_type": "stream",
     "text": [
      "Hello CS109\n",
      "I love IPython\n"
     ]
    }
   ],
   "source": [
    "print \"Hello CS109\"\n",
    "\n",
    "print \"I love IPython\"\n",
    "\n",
    "# Ipython notebook have tab completion!\n",
    "# and inbuild help\n",
    "  \n",
    "a = np.zeros(3)"
   ]
  },
  {
   "cell_type": "markdown",
   "metadata": {
    "slideshow": {
     "slide_type": "slide"
    }
   },
   "source": [
    "General advice about programming\n",
    "==================================\n",
    "\n",
    "* You will find nearly everything on google\n",
    "* Try: length of a list in python\n",
    "* A programmer is someone who can turn stack overflow snippets into running code\n",
    "* Use tab completion\n",
    "* Make your variable names meaningful\n"
   ]
  },
  {
   "cell_type": "markdown",
   "metadata": {
    "slideshow": {
     "slide_type": "slide"
    }
   },
   "source": [
    "How to load a table\n",
    "===================\n",
    "\n",
    "* we use Pandas for this\n",
    "* Pandas can do a __lot__ more\n",
    "* more about it later"
   ]
  },
  {
   "cell_type": "markdown",
   "metadata": {
    "slideshow": {
     "slide_type": "slide"
    }
   },
   "source": [
    "The MovieLens data\n",
    "===================\n",
    "\n",
    "http://grouplens.org/datasets/movielens/\n",
    "\n",
    "![Grouplens](images/grouplens.jpg \"Grouplens\")\n",
    "\n",
    "Example inspired by [Greg Reda](http://www.gregreda.com/2013/10/26/using-pandas-on-the-movielens-dataset/)"
   ]
  },
  {
   "cell_type": "markdown",
   "metadata": {
    "slideshow": {
     "slide_type": "slide"
    }
   },
   "source": [
    "Read the user data\n",
    "=================="
   ]
  },
  {
   "cell_type": "code",
   "execution_count": 178,
   "metadata": {
    "collapsed": false,
    "slideshow": {
     "slide_type": "-"
    }
   },
   "outputs": [
    {
     "data": {
      "text/html": [
       "<div>\n",
       "<table border=\"1\" class=\"dataframe\">\n",
       "  <thead>\n",
       "    <tr style=\"text-align: right;\">\n",
       "      <th></th>\n",
       "      <th>user_id</th>\n",
       "      <th>age</th>\n",
       "      <th>sex</th>\n",
       "      <th>occupation</th>\n",
       "      <th>zip_code</th>\n",
       "    </tr>\n",
       "  </thead>\n",
       "  <tbody>\n",
       "    <tr>\n",
       "      <th>0</th>\n",
       "      <td>1</td>\n",
       "      <td>24</td>\n",
       "      <td>M</td>\n",
       "      <td>technician</td>\n",
       "      <td>85711</td>\n",
       "    </tr>\n",
       "    <tr>\n",
       "      <th>1</th>\n",
       "      <td>2</td>\n",
       "      <td>53</td>\n",
       "      <td>F</td>\n",
       "      <td>other</td>\n",
       "      <td>94043</td>\n",
       "    </tr>\n",
       "    <tr>\n",
       "      <th>2</th>\n",
       "      <td>3</td>\n",
       "      <td>23</td>\n",
       "      <td>M</td>\n",
       "      <td>writer</td>\n",
       "      <td>32067</td>\n",
       "    </tr>\n",
       "    <tr>\n",
       "      <th>3</th>\n",
       "      <td>4</td>\n",
       "      <td>24</td>\n",
       "      <td>M</td>\n",
       "      <td>technician</td>\n",
       "      <td>43537</td>\n",
       "    </tr>\n",
       "    <tr>\n",
       "      <th>4</th>\n",
       "      <td>5</td>\n",
       "      <td>33</td>\n",
       "      <td>F</td>\n",
       "      <td>other</td>\n",
       "      <td>15213</td>\n",
       "    </tr>\n",
       "  </tbody>\n",
       "</table>\n",
       "</div>"
      ],
      "text/plain": [
       "   user_id  age sex  occupation zip_code\n",
       "0        1   24   M  technician    85711\n",
       "1        2   53   F       other    94043\n",
       "2        3   23   M      writer    32067\n",
       "3        4   24   M  technician    43537\n",
       "4        5   33   F       other    15213"
      ]
     },
     "execution_count": 178,
     "metadata": {},
     "output_type": "execute_result"
    }
   ],
   "source": [
    "# pass in column names for each CSV\n",
    "u_cols = ['user_id', 'age', 'sex', 'occupation', 'zip_code']\n",
    "\n",
    "users = pd.read_csv(\n",
    "    'http://files.grouplens.org/datasets/movielens/ml-100k/u.user', \n",
    "    sep='|', names=u_cols)\n",
    "\n",
    "users.head()"
   ]
  },
  {
   "cell_type": "markdown",
   "metadata": {
    "slideshow": {
     "slide_type": "slide"
    }
   },
   "source": [
    "Read the ratings\n",
    "============"
   ]
  },
  {
   "cell_type": "code",
   "execution_count": 179,
   "metadata": {
    "collapsed": false
   },
   "outputs": [
    {
     "data": {
      "text/html": [
       "<div>\n",
       "<table border=\"1\" class=\"dataframe\">\n",
       "  <thead>\n",
       "    <tr style=\"text-align: right;\">\n",
       "      <th></th>\n",
       "      <th>user_id</th>\n",
       "      <th>movie_id</th>\n",
       "      <th>rating</th>\n",
       "      <th>unix_timestamp</th>\n",
       "    </tr>\n",
       "  </thead>\n",
       "  <tbody>\n",
       "    <tr>\n",
       "      <th>0</th>\n",
       "      <td>196</td>\n",
       "      <td>242</td>\n",
       "      <td>3</td>\n",
       "      <td>881250949</td>\n",
       "    </tr>\n",
       "    <tr>\n",
       "      <th>1</th>\n",
       "      <td>186</td>\n",
       "      <td>302</td>\n",
       "      <td>3</td>\n",
       "      <td>891717742</td>\n",
       "    </tr>\n",
       "    <tr>\n",
       "      <th>2</th>\n",
       "      <td>22</td>\n",
       "      <td>377</td>\n",
       "      <td>1</td>\n",
       "      <td>878887116</td>\n",
       "    </tr>\n",
       "    <tr>\n",
       "      <th>3</th>\n",
       "      <td>244</td>\n",
       "      <td>51</td>\n",
       "      <td>2</td>\n",
       "      <td>880606923</td>\n",
       "    </tr>\n",
       "    <tr>\n",
       "      <th>4</th>\n",
       "      <td>166</td>\n",
       "      <td>346</td>\n",
       "      <td>1</td>\n",
       "      <td>886397596</td>\n",
       "    </tr>\n",
       "  </tbody>\n",
       "</table>\n",
       "</div>"
      ],
      "text/plain": [
       "   user_id  movie_id  rating  unix_timestamp\n",
       "0      196       242       3       881250949\n",
       "1      186       302       3       891717742\n",
       "2       22       377       1       878887116\n",
       "3      244        51       2       880606923\n",
       "4      166       346       1       886397596"
      ]
     },
     "execution_count": 179,
     "metadata": {},
     "output_type": "execute_result"
    }
   ],
   "source": [
    "r_cols = ['user_id', 'movie_id', 'rating', 'unix_timestamp']\n",
    "ratings = pd.read_csv(\n",
    "    'http://files.grouplens.org/datasets/movielens/ml-100k/u.data', \n",
    "    sep='\\t', names=r_cols)\n",
    "\n",
    "ratings.head() "
   ]
  },
  {
   "cell_type": "markdown",
   "metadata": {
    "slideshow": {
     "slide_type": "slide"
    }
   },
   "source": [
    "Now data about the movies\n",
    "========================="
   ]
  },
  {
   "cell_type": "code",
   "execution_count": 180,
   "metadata": {
    "collapsed": false
   },
   "outputs": [
    {
     "data": {
      "text/html": [
       "<div>\n",
       "<table border=\"1\" class=\"dataframe\">\n",
       "  <thead>\n",
       "    <tr style=\"text-align: right;\">\n",
       "      <th></th>\n",
       "      <th>movie_id</th>\n",
       "      <th>title</th>\n",
       "      <th>release_date</th>\n",
       "      <th>video_release_date</th>\n",
       "      <th>imdb_url</th>\n",
       "    </tr>\n",
       "  </thead>\n",
       "  <tbody>\n",
       "    <tr>\n",
       "      <th>0</th>\n",
       "      <td>1</td>\n",
       "      <td>Toy Story (1995)</td>\n",
       "      <td>01-Jan-1995</td>\n",
       "      <td>NaN</td>\n",
       "      <td>http://us.imdb.com/M/title-exact?Toy%20Story%2...</td>\n",
       "    </tr>\n",
       "    <tr>\n",
       "      <th>1</th>\n",
       "      <td>2</td>\n",
       "      <td>GoldenEye (1995)</td>\n",
       "      <td>01-Jan-1995</td>\n",
       "      <td>NaN</td>\n",
       "      <td>http://us.imdb.com/M/title-exact?GoldenEye%20(...</td>\n",
       "    </tr>\n",
       "    <tr>\n",
       "      <th>2</th>\n",
       "      <td>3</td>\n",
       "      <td>Four Rooms (1995)</td>\n",
       "      <td>01-Jan-1995</td>\n",
       "      <td>NaN</td>\n",
       "      <td>http://us.imdb.com/M/title-exact?Four%20Rooms%...</td>\n",
       "    </tr>\n",
       "    <tr>\n",
       "      <th>3</th>\n",
       "      <td>4</td>\n",
       "      <td>Get Shorty (1995)</td>\n",
       "      <td>01-Jan-1995</td>\n",
       "      <td>NaN</td>\n",
       "      <td>http://us.imdb.com/M/title-exact?Get%20Shorty%...</td>\n",
       "    </tr>\n",
       "    <tr>\n",
       "      <th>4</th>\n",
       "      <td>5</td>\n",
       "      <td>Copycat (1995)</td>\n",
       "      <td>01-Jan-1995</td>\n",
       "      <td>NaN</td>\n",
       "      <td>http://us.imdb.com/M/title-exact?Copycat%20(1995)</td>\n",
       "    </tr>\n",
       "  </tbody>\n",
       "</table>\n",
       "</div>"
      ],
      "text/plain": [
       "   movie_id              title release_date  video_release_date  \\\n",
       "0         1   Toy Story (1995)  01-Jan-1995                 NaN   \n",
       "1         2   GoldenEye (1995)  01-Jan-1995                 NaN   \n",
       "2         3  Four Rooms (1995)  01-Jan-1995                 NaN   \n",
       "3         4  Get Shorty (1995)  01-Jan-1995                 NaN   \n",
       "4         5     Copycat (1995)  01-Jan-1995                 NaN   \n",
       "\n",
       "                                            imdb_url  \n",
       "0  http://us.imdb.com/M/title-exact?Toy%20Story%2...  \n",
       "1  http://us.imdb.com/M/title-exact?GoldenEye%20(...  \n",
       "2  http://us.imdb.com/M/title-exact?Four%20Rooms%...  \n",
       "3  http://us.imdb.com/M/title-exact?Get%20Shorty%...  \n",
       "4  http://us.imdb.com/M/title-exact?Copycat%20(1995)  "
      ]
     },
     "execution_count": 180,
     "metadata": {},
     "output_type": "execute_result"
    }
   ],
   "source": [
    "# the movies file contains columns indicating the movie's genres\n",
    "# let's only load the first five columns of the file with usecols\n",
    "m_cols = ['movie_id', 'title', 'release_date', \n",
    "            'video_release_date', 'imdb_url']\n",
    "\n",
    "movies = pd.read_csv(\n",
    "    'http://files.grouplens.org/datasets/movielens/ml-100k/u.item', \n",
    "    sep='|', names=m_cols, usecols=range(5))\n",
    "\n",
    "movies.head()"
   ]
  },
  {
   "cell_type": "markdown",
   "metadata": {
    "slideshow": {
     "slide_type": "slide"
    }
   },
   "source": [
    "Get information about data\n",
    "======================="
   ]
  },
  {
   "cell_type": "code",
   "execution_count": 181,
   "metadata": {
    "collapsed": false
   },
   "outputs": [
    {
     "name": "stdout",
     "output_type": "stream",
     "text": [
      "movie_id                int64\n",
      "title                  object\n",
      "release_date           object\n",
      "video_release_date    float64\n",
      "imdb_url               object\n",
      "dtype: object\n",
      "\n",
      "          movie_id  video_release_date\n",
      "count  1682.000000                   0\n",
      "mean    841.500000                 NaN\n",
      "std     485.695893                 NaN\n",
      "min       1.000000                 NaN\n",
      "25%     421.250000                 NaN\n",
      "50%     841.500000                 NaN\n",
      "75%    1261.750000                 NaN\n",
      "max    1682.000000                 NaN\n"
     ]
    }
   ],
   "source": [
    "print movies.dtypes\n",
    "print\n",
    "print movies.describe()\n",
    "# *** Why only those two columns? ***"
   ]
  },
  {
   "cell_type": "markdown",
   "metadata": {
    "slideshow": {
     "slide_type": "slide"
    }
   },
   "source": [
    "Selecting data\n",
    "==============\n",
    "\n",
    "* DataFrame => group of Series with shared index\n",
    "* single DataFrame column => Series"
   ]
  },
  {
   "cell_type": "code",
   "execution_count": 182,
   "metadata": {
    "collapsed": false,
    "slideshow": {
     "slide_type": "slide"
    }
   },
   "outputs": [
    {
     "name": "stdout",
     "output_type": "stream",
     "text": [
      "   user_id  age sex  occupation zip_code\n",
      "0        1   24   M  technician    85711\n",
      "1        2   53   F       other    94043\n",
      "2        3   23   M      writer    32067\n",
      "3        4   24   M  technician    43537\n",
      "4        5   33   F       other    15213\n",
      "user_id                4\n",
      "age                   24\n",
      "sex                    M\n",
      "occupation    technician\n",
      "zip_code           43537\n",
      "Name: 3, dtype: object\n"
     ]
    }
   ],
   "source": [
    "users.head()\n",
    "users['occupation'].head()\n",
    "## *** Where did the nice design go? ***\n",
    "columns_you_want = ['occupation', 'sex'] \n",
    "users[columns_you_want].head()\n",
    "\n",
    "print users.head()\n",
    "\n",
    "print users.iloc[3]"
   ]
  },
  {
   "cell_type": "markdown",
   "metadata": {
    "slideshow": {
     "slide_type": "slide"
    }
   },
   "source": [
    "Filtering data\n",
    "==============\n",
    "\n",
    "Select users older than 25"
   ]
  },
  {
   "cell_type": "code",
   "execution_count": 183,
   "metadata": {
    "collapsed": false
   },
   "outputs": [
    {
     "data": {
      "text/html": [
       "<div>\n",
       "<table border=\"1\" class=\"dataframe\">\n",
       "  <thead>\n",
       "    <tr style=\"text-align: right;\">\n",
       "      <th></th>\n",
       "      <th>user_id</th>\n",
       "      <th>age</th>\n",
       "      <th>sex</th>\n",
       "      <th>occupation</th>\n",
       "      <th>zip_code</th>\n",
       "    </tr>\n",
       "  </thead>\n",
       "  <tbody>\n",
       "    <tr>\n",
       "      <th>1</th>\n",
       "      <td>2</td>\n",
       "      <td>53</td>\n",
       "      <td>F</td>\n",
       "      <td>other</td>\n",
       "      <td>94043</td>\n",
       "    </tr>\n",
       "    <tr>\n",
       "      <th>4</th>\n",
       "      <td>5</td>\n",
       "      <td>33</td>\n",
       "      <td>F</td>\n",
       "      <td>other</td>\n",
       "      <td>15213</td>\n",
       "    </tr>\n",
       "    <tr>\n",
       "      <th>5</th>\n",
       "      <td>6</td>\n",
       "      <td>42</td>\n",
       "      <td>M</td>\n",
       "      <td>executive</td>\n",
       "      <td>98101</td>\n",
       "    </tr>\n",
       "    <tr>\n",
       "      <th>6</th>\n",
       "      <td>7</td>\n",
       "      <td>57</td>\n",
       "      <td>M</td>\n",
       "      <td>administrator</td>\n",
       "      <td>91344</td>\n",
       "    </tr>\n",
       "    <tr>\n",
       "      <th>7</th>\n",
       "      <td>8</td>\n",
       "      <td>36</td>\n",
       "      <td>M</td>\n",
       "      <td>administrator</td>\n",
       "      <td>05201</td>\n",
       "    </tr>\n",
       "  </tbody>\n",
       "</table>\n",
       "</div>"
      ],
      "text/plain": [
       "   user_id  age sex     occupation zip_code\n",
       "1        2   53   F          other    94043\n",
       "4        5   33   F          other    15213\n",
       "5        6   42   M      executive    98101\n",
       "6        7   57   M  administrator    91344\n",
       "7        8   36   M  administrator    05201"
      ]
     },
     "execution_count": 183,
     "metadata": {},
     "output_type": "execute_result"
    }
   ],
   "source": [
    "oldUsers = users[users.age > 25]\n",
    "oldUsers.head()"
   ]
  },
  {
   "cell_type": "markdown",
   "metadata": {
    "slideshow": {
     "slide_type": "slide"
    }
   },
   "source": [
    "Quiz:\n",
    "=====\n",
    "\n",
    "* show users aged 40 and male\n",
    "\n",
    "* show the mean age of female programmers"
   ]
  },
  {
   "cell_type": "code",
   "execution_count": 184,
   "metadata": {
    "collapsed": false,
    "slideshow": {
     "slide_type": "slide"
    }
   },
   "outputs": [
    {
     "name": "stdout",
     "output_type": "stream",
     "text": [
      "(14, 5)\n"
     ]
    },
    {
     "data": {
      "text/html": [
       "<div>\n",
       "<table border=\"1\" class=\"dataframe\">\n",
       "  <thead>\n",
       "    <tr style=\"text-align: right;\">\n",
       "      <th></th>\n",
       "      <th>user_id</th>\n",
       "      <th>age</th>\n",
       "      <th>sex</th>\n",
       "      <th>occupation</th>\n",
       "      <th>zip_code</th>\n",
       "    </tr>\n",
       "  </thead>\n",
       "  <tbody>\n",
       "    <tr>\n",
       "      <th>18</th>\n",
       "      <td>19</td>\n",
       "      <td>40</td>\n",
       "      <td>M</td>\n",
       "      <td>librarian</td>\n",
       "      <td>02138</td>\n",
       "    </tr>\n",
       "    <tr>\n",
       "      <th>82</th>\n",
       "      <td>83</td>\n",
       "      <td>40</td>\n",
       "      <td>M</td>\n",
       "      <td>other</td>\n",
       "      <td>44133</td>\n",
       "    </tr>\n",
       "    <tr>\n",
       "      <th>115</th>\n",
       "      <td>116</td>\n",
       "      <td>40</td>\n",
       "      <td>M</td>\n",
       "      <td>healthcare</td>\n",
       "      <td>97232</td>\n",
       "    </tr>\n",
       "    <tr>\n",
       "      <th>199</th>\n",
       "      <td>200</td>\n",
       "      <td>40</td>\n",
       "      <td>M</td>\n",
       "      <td>programmer</td>\n",
       "      <td>93402</td>\n",
       "    </tr>\n",
       "    <tr>\n",
       "      <th>283</th>\n",
       "      <td>284</td>\n",
       "      <td>40</td>\n",
       "      <td>M</td>\n",
       "      <td>executive</td>\n",
       "      <td>92629</td>\n",
       "    </tr>\n",
       "  </tbody>\n",
       "</table>\n",
       "</div>"
      ],
      "text/plain": [
       "     user_id  age sex  occupation zip_code\n",
       "18        19   40   M   librarian    02138\n",
       "82        83   40   M       other    44133\n",
       "115      116   40   M  healthcare    97232\n",
       "199      200   40   M  programmer    93402\n",
       "283      284   40   M   executive    92629"
      ]
     },
     "execution_count": 184,
     "metadata": {},
     "output_type": "execute_result"
    }
   ],
   "source": [
    "# users aged 40 AND male\n",
    "# your code here\n",
    "#users_40 = users[users.age == 40]\n",
    "#male_40_users = users_40[users_40.sex == 'M']\n",
    "male_40_users = users[(users.age == 40) & (users.sex == 'M')]\n",
    "print male_40_users.shape\n",
    "male_40_users.head()"
   ]
  },
  {
   "cell_type": "code",
   "execution_count": 185,
   "metadata": {
    "collapsed": false,
    "slideshow": {
     "slide_type": "slide"
    }
   },
   "outputs": [
    {
     "data": {
      "text/html": [
       "<div>\n",
       "<table border=\"1\" class=\"dataframe\">\n",
       "  <thead>\n",
       "    <tr style=\"text-align: right;\">\n",
       "      <th></th>\n",
       "      <th>user_id</th>\n",
       "      <th>age</th>\n",
       "    </tr>\n",
       "  </thead>\n",
       "  <tbody>\n",
       "    <tr>\n",
       "      <th>count</th>\n",
       "      <td>6.000000</td>\n",
       "      <td>6.000000</td>\n",
       "    </tr>\n",
       "    <tr>\n",
       "      <th>mean</th>\n",
       "      <td>411.166667</td>\n",
       "      <td>32.166667</td>\n",
       "    </tr>\n",
       "    <tr>\n",
       "      <th>std</th>\n",
       "      <td>149.987222</td>\n",
       "      <td>5.115336</td>\n",
       "    </tr>\n",
       "    <tr>\n",
       "      <th>min</th>\n",
       "      <td>292.000000</td>\n",
       "      <td>26.000000</td>\n",
       "    </tr>\n",
       "    <tr>\n",
       "      <th>25%</th>\n",
       "      <td>313.000000</td>\n",
       "      <td>28.250000</td>\n",
       "    </tr>\n",
       "    <tr>\n",
       "      <th>50%</th>\n",
       "      <td>378.000000</td>\n",
       "      <td>32.000000</td>\n",
       "    </tr>\n",
       "    <tr>\n",
       "      <th>75%</th>\n",
       "      <td>416.750000</td>\n",
       "      <td>36.500000</td>\n",
       "    </tr>\n",
       "    <tr>\n",
       "      <th>max</th>\n",
       "      <td>698.000000</td>\n",
       "      <td>38.000000</td>\n",
       "    </tr>\n",
       "  </tbody>\n",
       "</table>\n",
       "</div>"
      ],
      "text/plain": [
       "          user_id        age\n",
       "count    6.000000   6.000000\n",
       "mean   411.166667  32.166667\n",
       "std    149.987222   5.115336\n",
       "min    292.000000  26.000000\n",
       "25%    313.000000  28.250000\n",
       "50%    378.000000  32.000000\n",
       "75%    416.750000  36.500000\n",
       "max    698.000000  38.000000"
      ]
     },
     "execution_count": 185,
     "metadata": {},
     "output_type": "execute_result"
    }
   ],
   "source": [
    "## users who are female and programmers\n",
    "# your code here\n",
    "fem_users = users[users.sex == 'F']\n",
    "fem_prog_users = fem_users[fem_users.occupation == 'programmer']\n",
    "fem_prog_users\n",
    "\n",
    "## show statistic summary or compute mean\n",
    "# your code here\n",
    "fem_prog_users.describe()"
   ]
  },
  {
   "cell_type": "markdown",
   "metadata": {
    "slideshow": {
     "slide_type": "slide"
    }
   },
   "source": [
    "Split-apply-combine\n",
    "===================\n",
    "\n",
    "* splitting the data into groups based on some criteria\n",
    "* applying a function to each group independently\n",
    "* combining the results into a data structure"
   ]
  },
  {
   "cell_type": "markdown",
   "metadata": {
    "slideshow": {
     "slide_type": "slide"
    }
   },
   "source": [
    "Split-apply-combine\n",
    "===================\n",
    "\n",
    "<img src=http://i.imgur.com/yjNkiwL.png></img>"
   ]
  },
  {
   "cell_type": "markdown",
   "metadata": {
    "slideshow": {
     "slide_type": "slide"
    }
   },
   "source": [
    "Find Diligent Users\n",
    "===================\n",
    "\n",
    "* split data per user ID\n",
    "* count ratings\n",
    "* combine result"
   ]
  },
  {
   "cell_type": "code",
   "execution_count": 186,
   "metadata": {
    "collapsed": false,
    "slideshow": {
     "slide_type": "slide"
    }
   },
   "outputs": [
    {
     "name": "stdout",
     "output_type": "stream",
     "text": [
      "   user_id  movie_id  rating  unix_timestamp\n",
      "0      196       242       3       881250949\n",
      "1      186       302       3       891717742\n",
      "2       22       377       1       878887116\n",
      "3      244        51       2       880606923\n",
      "4      166       346       1       886397596\n"
     ]
    },
    {
     "data": {
      "text/html": [
       "<div>\n",
       "<table border=\"1\" class=\"dataframe\">\n",
       "  <thead>\n",
       "    <tr style=\"text-align: right;\">\n",
       "      <th></th>\n",
       "      <th>movie_id</th>\n",
       "      <th>rating</th>\n",
       "      <th>unix_timestamp</th>\n",
       "    </tr>\n",
       "    <tr>\n",
       "      <th>user_id</th>\n",
       "      <th></th>\n",
       "      <th></th>\n",
       "      <th></th>\n",
       "    </tr>\n",
       "  </thead>\n",
       "  <tbody>\n",
       "    <tr>\n",
       "      <th>1</th>\n",
       "      <td>272</td>\n",
       "      <td>272</td>\n",
       "      <td>272</td>\n",
       "    </tr>\n",
       "    <tr>\n",
       "      <th>2</th>\n",
       "      <td>62</td>\n",
       "      <td>62</td>\n",
       "      <td>62</td>\n",
       "    </tr>\n",
       "    <tr>\n",
       "      <th>3</th>\n",
       "      <td>54</td>\n",
       "      <td>54</td>\n",
       "      <td>54</td>\n",
       "    </tr>\n",
       "    <tr>\n",
       "      <th>4</th>\n",
       "      <td>24</td>\n",
       "      <td>24</td>\n",
       "      <td>24</td>\n",
       "    </tr>\n",
       "    <tr>\n",
       "      <th>5</th>\n",
       "      <td>175</td>\n",
       "      <td>175</td>\n",
       "      <td>175</td>\n",
       "    </tr>\n",
       "  </tbody>\n",
       "</table>\n",
       "</div>"
      ],
      "text/plain": [
       "         movie_id  rating  unix_timestamp\n",
       "user_id                                  \n",
       "1             272     272             272\n",
       "2              62      62              62\n",
       "3              54      54              54\n",
       "4              24      24              24\n",
       "5             175     175             175"
      ]
     },
     "execution_count": 186,
     "metadata": {},
     "output_type": "execute_result"
    }
   ],
   "source": [
    "print ratings.head()\n",
    "## split data\n",
    "grouped_data = ratings.groupby('user_id')\n",
    "#grouped_data = ratings['movie_id'].groupby(ratings['user_id'])\n",
    "\n",
    "## count and combine\n",
    "ratings_per_user = grouped_data.count()\n",
    "\n",
    "ratings_per_user.head(5)"
   ]
  },
  {
   "cell_type": "markdown",
   "metadata": {
    "slideshow": {
     "slide_type": "slide"
    }
   },
   "source": [
    "Quiz\n",
    "====\n",
    "\n",
    "* get the average rating per movie\n",
    "* advanced: get the movie titles with the highest average rating"
   ]
  },
  {
   "cell_type": "code",
   "execution_count": 187,
   "metadata": {
    "collapsed": false,
    "slideshow": {
     "slide_type": "slide"
    }
   },
   "outputs": [
    {
     "name": "stdout",
     "output_type": "stream",
     "text": [
      "Index([u'user_id', u'movie_id', u'rating', u'unix_timestamp'], dtype='object') (100000, 4)\n",
      "   user_id  movie_id  rating  unix_timestamp\n",
      "0      196       242       3       881250949\n",
      "1      186       302       3       891717742\n",
      "2       22       377       1       878887116\n",
      "3      244        51       2       880606923\n",
      "4      166       346       1       886397596\n",
      "max_ratings =  5.0\n",
      "Int64Index([814, 1122, 1189, 1201, 1293, 1467, 1500, 1536, 1599, 1653], dtype='int64', name=u'movie_id')\n"
     ]
    }
   ],
   "source": [
    "## split data\n",
    "# your code here\n",
    "print ratings.columns, ratings.shape\n",
    "print ratings.head()\n",
    "movie_grouped_data = ratings.groupby('movie_id')\n",
    "#movie_grouped_data = ratings['rating'].groupby(ratings['movie_id'])\n",
    "\n",
    "## average and combine\n",
    "# your code here\n",
    "avg_ratings = movie_grouped_data.rating.mean()\n",
    "#print avg_ratings\n",
    "\n",
    "# get the maximum rating\n",
    "# your code here\n",
    "max_ratings = avg_ratings.max()\n",
    "print \"max_ratings = \",max_ratings\n",
    "#avg_ratings.describe()\n",
    "\n",
    "# get movie ids with that rating\n",
    "# your code here\n",
    "print avg_ratings[avg_ratings == max_ratings].index\n",
    "#print movies, movies.dtypes(), movies.describe()"
   ]
  },
  {
   "cell_type": "code",
   "execution_count": 188,
   "metadata": {
    "collapsed": false,
    "slideshow": {
     "slide_type": "slide"
    }
   },
   "outputs": [
    {
     "name": "stdout",
     "output_type": "stream",
     "text": [
      "Good movie ids:\n",
      "\n",
      "Int64Index([814, 1122, 1189, 1201, 1293, 1467, 1500, 1536, 1599, 1653], dtype='int64', name=u'movie_id')\n",
      "Best movie titles\n",
      "\n",
      "813                         Great Day in Harlem, A (1994)\n",
      "1121                       They Made Me a Criminal (1939)\n",
      "1188                                   Prefontaine (1997)\n",
      "1200           Marlene Dietrich: Shadow and Light (1996) \n",
      "1292                                      Star Kid (1997)\n",
      "1466                 Saint of Fort Washington, The (1993)\n",
      "1499                            Santa with Muscles (1996)\n",
      "1535                                 Aiqing wansui (1994)\n",
      "1598                        Someone Else's America (1995)\n",
      "1652    Entertaining Angels: The Dorothy Day Story (1996)\n",
      "Name: title, dtype: object\n"
     ]
    }
   ],
   "source": [
    "print \"Good movie ids:\"\n",
    "print #your code here\n",
    "good_movies_id = avg_ratings[avg_ratings == max_ratings].index\n",
    "print good_movies_id\n",
    "\n",
    "\n",
    "print \"Best movie titles\"\n",
    "print # your code here\n",
    "print movies[movies['movie_id'].isin(good_movies_id)].title\n"
   ]
  },
  {
   "cell_type": "code",
   "execution_count": 189,
   "metadata": {
    "collapsed": false,
    "slideshow": {
     "slide_type": "slide"
    }
   },
   "outputs": [
    {
     "name": "stdout",
     "output_type": "stream",
     "text": [
      "Number of ratings per movie\n",
      "\n"
     ]
    },
    {
     "data": {
      "text/plain": [
       "movie_id\n",
       "1    452\n",
       "2    131\n",
       "3     90\n",
       "4    209\n",
       "5     86\n",
       "Name: rating, dtype: int64"
      ]
     },
     "execution_count": 189,
     "metadata": {},
     "output_type": "execute_result"
    }
   ],
   "source": [
    "# get number of ratings per movie\n",
    "# your code here\n",
    "\n",
    "print \"Number of ratings per movie\"\n",
    "print # your code here\n",
    "#ratings_per_movie = movie_grouped_data.count()\n",
    "ratings_per_movie = movie_grouped_data.rating.apply(lambda f: f.count())\n",
    "ratings_per_movie.head()"
   ]
  },
  {
   "cell_type": "markdown",
   "metadata": {
    "slideshow": {
     "slide_type": "slide"
    }
   },
   "source": [
    "Passing a Function\n",
    "==================\n"
   ]
  },
  {
   "cell_type": "code",
   "execution_count": 190,
   "metadata": {
    "collapsed": false
   },
   "outputs": [
    {
     "data": {
      "text/html": [
       "<div>\n",
       "<table border=\"1\" class=\"dataframe\">\n",
       "  <thead>\n",
       "    <tr style=\"text-align: right;\">\n",
       "      <th></th>\n",
       "      <th>user_id</th>\n",
       "      <th>movie_id</th>\n",
       "      <th>rating</th>\n",
       "      <th>unix_timestamp</th>\n",
       "    </tr>\n",
       "    <tr>\n",
       "      <th>user_id</th>\n",
       "      <th></th>\n",
       "      <th></th>\n",
       "      <th></th>\n",
       "      <th></th>\n",
       "    </tr>\n",
       "  </thead>\n",
       "  <tbody>\n",
       "    <tr>\n",
       "      <th>1</th>\n",
       "      <td>1</td>\n",
       "      <td>136.500000</td>\n",
       "      <td>3.610294</td>\n",
       "      <td>8.773916e+08</td>\n",
       "    </tr>\n",
       "    <tr>\n",
       "      <th>2</th>\n",
       "      <td>2</td>\n",
       "      <td>249.500000</td>\n",
       "      <td>3.709677</td>\n",
       "      <td>8.886204e+08</td>\n",
       "    </tr>\n",
       "    <tr>\n",
       "      <th>3</th>\n",
       "      <td>3</td>\n",
       "      <td>318.814815</td>\n",
       "      <td>2.796296</td>\n",
       "      <td>8.892372e+08</td>\n",
       "    </tr>\n",
       "    <tr>\n",
       "      <th>4</th>\n",
       "      <td>4</td>\n",
       "      <td>291.041667</td>\n",
       "      <td>4.333333</td>\n",
       "      <td>8.920028e+08</td>\n",
       "    </tr>\n",
       "    <tr>\n",
       "      <th>5</th>\n",
       "      <td>5</td>\n",
       "      <td>291.291429</td>\n",
       "      <td>2.874286</td>\n",
       "      <td>8.762081e+08</td>\n",
       "    </tr>\n",
       "  </tbody>\n",
       "</table>\n",
       "</div>"
      ],
      "text/plain": [
       "         user_id    movie_id    rating  unix_timestamp\n",
       "user_id                                               \n",
       "1              1  136.500000  3.610294    8.773916e+08\n",
       "2              2  249.500000  3.709677    8.886204e+08\n",
       "3              3  318.814815  2.796296    8.892372e+08\n",
       "4              4  291.041667  4.333333    8.920028e+08\n",
       "5              5  291.291429  2.874286    8.762081e+08"
      ]
     },
     "execution_count": 190,
     "metadata": {},
     "output_type": "execute_result"
    }
   ],
   "source": [
    "average_ratings = grouped_data.apply(lambda f: f.mean())\n",
    "average_ratings.head()"
   ]
  },
  {
   "cell_type": "markdown",
   "metadata": {
    "slideshow": {
     "slide_type": "slide"
    }
   },
   "source": [
    "Quiz\n",
    "====\n",
    "\n",
    "* get the average rating per user\n",
    "* advanced: list all occupations and if they are male or female dominant"
   ]
  },
  {
   "cell_type": "code",
   "execution_count": 191,
   "metadata": {
    "collapsed": false,
    "slideshow": {
     "slide_type": "slide"
    }
   },
   "outputs": [
    {
     "data": {
      "text/plain": [
       "user_id\n",
       "1    3.610294\n",
       "2    3.709677\n",
       "3    2.796296\n",
       "4    4.333333\n",
       "5    2.874286\n",
       "Name: rating, dtype: float64"
      ]
     },
     "execution_count": 191,
     "metadata": {},
     "output_type": "execute_result"
    }
   ],
   "source": [
    "# get the average rating per user\n",
    "# your code here\n",
    "avg_rating_per_user = grouped_data.rating.mean()\n",
    "avg_rating_per_user.head()"
   ]
  },
  {
   "cell_type": "code",
   "execution_count": 192,
   "metadata": {
    "collapsed": false,
    "slideshow": {
     "slide_type": "slide"
    }
   },
   "outputs": [
    {
     "name": "stdout",
     "output_type": "stream",
     "text": [
      "occupation\n",
      "administrator     True\n",
      "artist            True\n",
      "doctor            True\n",
      "educator          True\n",
      "engineer          True\n",
      "entertainment     True\n",
      "executive         True\n",
      "healthcare       False\n",
      "homemaker        False\n",
      "lawyer            True\n",
      "librarian        False\n",
      "marketing         True\n",
      "none              True\n",
      "other             True\n",
      "programmer        True\n",
      "retired           True\n",
      "salesman          True\n",
      "scientist         True\n",
      "student           True\n",
      "technician        True\n",
      "writer            True\n",
      "dtype: bool\n"
     ]
    }
   ],
   "source": [
    "# list all occupations and if they are male or female dominant\n",
    "# your code here\n",
    "users.head()\n",
    "user_sex_group_occu = users['sex'].groupby(users['occupation'])\n",
    "print user_sex_group_occu.apply(lambda f: sum(f == 'M') > sum(f == 'F'))\n"
   ]
  },
  {
   "cell_type": "code",
   "execution_count": 193,
   "metadata": {
    "collapsed": false,
    "slideshow": {
     "slide_type": "slide"
    }
   },
   "outputs": [
    {
     "name": "stdout",
     "output_type": "stream",
     "text": [
      "number of male users: \n",
      "670\n",
      "number of female users: \n",
      "273\n"
     ]
    }
   ],
   "source": [
    "print 'number of male users: '\n",
    "print sum(users['sex'] == 'M')\n",
    "\n",
    "print 'number of female users: '\n",
    "print sum(users['sex'] == 'F')"
   ]
  },
  {
   "cell_type": "markdown",
   "metadata": {
    "slideshow": {
     "slide_type": "slide"
    }
   },
   "source": [
    "Pandas \"wrapup\"\n",
    "==========\n",
    "\n",
    "- create data frames\n",
    "- get sub-frames\n",
    "- filter data \n",
    "- use group-by\n",
    "- apply a user defined function\n",
    "\n",
    "\n",
    "![cute panda](images/cute_panda.jpg)"
   ]
  },
  {
   "cell_type": "markdown",
   "metadata": {
    "slideshow": {
     "slide_type": "slide"
    }
   },
   "source": [
    "Python data scraping\n",
    "====================\n",
    "\n",
    "* Why scrape the web?\n",
    "    - vast source of information\n",
    "    - automate tasks\n",
    "    - keep up with sites\n",
    "    - fun!\n",
    "\n",
    "** Can you think of examples ? **"
   ]
  },
  {
   "cell_type": "markdown",
   "metadata": {
    "slideshow": {
     "slide_type": "slide"
    }
   },
   "source": [
    "Read and Tweet!\n",
    "=================\n",
    "\n",
    "![ReadTweet](http://developer.nytimes.com/files/readtweet.jpg)\n",
    "\n",
    "* by Justin Blinder\n",
    "* http://projects.justinblinder.com/We-Read-We-Tweet"
   ]
  },
  {
   "cell_type": "markdown",
   "metadata": {
    "slideshow": {
     "slide_type": "skip"
    }
   },
   "source": [
    "“We Read, We Tweet” geographically visualizes the dissemination of New York Times articles through Twitter. Each line connects the location of a tweet to the contextual location of the New York Times article it referenced. The lines are generated in a sequence based on the time in which a tweet occurs. The project explores digital news distribution in a temporal and spatial context through the social space of Twitter."
   ]
  },
  {
   "cell_type": "markdown",
   "metadata": {
    "slideshow": {
     "slide_type": "slide"
    }
   },
   "source": [
    "Twitter Sentiments\n",
    "=================\n",
    "\n",
    "![TwitterSentiments](http://www.csc.ncsu.edu/faculty/healey/tweet_viz/figs/tweet-viz-ex.png\n",
    " \"Twitter Sentiments\")\n",
    "\n",
    "* by Healey and Ramaswamy\n",
    "* http://www.csc.ncsu.edu/faculty/healey/tweet_viz/tweet_app/"
   ]
  },
  {
   "cell_type": "markdown",
   "metadata": {
    "slideshow": {
     "slide_type": "skip"
    }
   },
   "source": [
    "Type a keyword into the input field, then click the Query button. Recent tweets that contain your keyword are pulled from Twitter and visualized in the Sentiment tab as circles. Hover your mouse over a tweet or click on it to see its text."
   ]
  },
  {
   "cell_type": "markdown",
   "metadata": {
    "slideshow": {
     "slide_type": "slide"
    }
   },
   "source": [
    "Python data scraping\n",
    "====================\n",
    "\n",
    "* copyrights and permission:\n",
    "    - be careful and polite\n",
    "    - give credit\n",
    "    - care about media law\n",
    "    - don't be evil (no spam, overloading sites, etc.)"
   ]
  },
  {
   "cell_type": "markdown",
   "metadata": {
    "slideshow": {
     "slide_type": "slide"
    }
   },
   "source": [
    "Robots.txt\n",
    "==========\n",
    "\n",
    "![Robots.txt](images/robots_txt.jpg \"Robots.txt\")"
   ]
  },
  {
   "cell_type": "markdown",
   "metadata": {
    "slideshow": {
     "slide_type": "slide"
    }
   },
   "source": [
    "Robots.txt\n",
    "==========\n",
    "\n",
    "* specified by web site owner\n",
    "* gives instructions to web robots (aka your script)\n",
    "* is located at the top-level directory of the web server\n",
    "\n",
    "http://www.example.com/robots.txt\n",
    "\n",
    "If you want you can also have a look at\n",
    "\n",
    "http://google.com/robots.txt"
   ]
  },
  {
   "cell_type": "markdown",
   "metadata": {
    "slideshow": {
     "slide_type": "slide"
    }
   },
   "source": [
    "Robots.txt\n",
    "==========\n",
    "\n",
    "*** What does this one do? ***"
   ]
  },
  {
   "cell_type": "raw",
   "metadata": {},
   "source": [
    "\n",
    "User-agent: Google\n",
    "Disallow:\n",
    "\n",
    "User-agent: *\n",
    "Disallow: /"
   ]
  },
  {
   "cell_type": "markdown",
   "metadata": {
    "slideshow": {
     "slide_type": "slide"
    }
   },
   "source": [
    "Things to consider:\n",
    "-------------------\n",
    "\n",
    "* can be just ignored\n",
    "* can be a security risk - *** Why? ***"
   ]
  },
  {
   "cell_type": "markdown",
   "metadata": {
    "slideshow": {
     "slide_type": "slide"
    }
   },
   "source": [
    "Scraping with Python:\n",
    "=====================\n",
    "\n",
    "* scraping is all about HTML tags\n",
    "* bad news: \n",
    "    - need to learn about tags\n",
    "    - websites can be ugly"
   ]
  },
  {
   "cell_type": "markdown",
   "metadata": {
    "slideshow": {
     "slide_type": "slide"
    }
   },
   "source": [
    "HTML\n",
    "=====\n",
    "\n",
    "* HyperText Markup Language\n",
    "\n",
    "* standard for creating webpages\n",
    "\n",
    "* HTML tags \n",
    "    - have angle brackets\n",
    "    - typically come in pairs"
   ]
  },
  {
   "cell_type": "markdown",
   "metadata": {
    "slideshow": {
     "slide_type": "skip"
    }
   },
   "source": [
    "This is an example for a minimal webpage defined in HTML tags. The root tag is `<html>` and then you have the `<head>` tag. This part of the page typically includes the title of the page and might also have other meta information like the author or keywords that are important for search engines. The `<body>` tag marks the actual content of the page. You can play around with the `<h2>` tag trying different header levels. They range from 1 to 6. "
   ]
  },
  {
   "cell_type": "code",
   "execution_count": 194,
   "metadata": {
    "collapsed": false,
    "slideshow": {
     "slide_type": "slide"
    }
   },
   "outputs": [
    {
     "data": {
      "text/html": [
       "<!DOCTYPE html>\n",
       "<html>\n",
       "  <head>\n",
       "    <title>This is a title</title>\n",
       "  </head>\n",
       "  <body>\n",
       "    <h2> Test </h2>\n",
       "    <p>Hello world!</p>\n",
       "  </body>\n",
       "</html>"
      ],
      "text/plain": [
       "<IPython.core.display.HTML object>"
      ]
     },
     "execution_count": 194,
     "metadata": {},
     "output_type": "execute_result"
    }
   ],
   "source": [
    "htmlString = \"\"\"<!DOCTYPE html>\n",
    "<html>\n",
    "  <head>\n",
    "    <title>This is a title</title>\n",
    "  </head>\n",
    "  <body>\n",
    "    <h2> Test </h2>\n",
    "    <p>Hello world!</p>\n",
    "  </body>\n",
    "</html>\"\"\"\n",
    "\n",
    "htmlOutput = HTML(htmlString)\n",
    "htmlOutput"
   ]
  },
  {
   "cell_type": "markdown",
   "metadata": {
    "slideshow": {
     "slide_type": "slide"
    }
   },
   "source": [
    "Useful Tags\n",
    "===========\n",
    "\n",
    "* heading\n",
    "`<h1></h1> ... <h6></h6>`\n",
    "\n",
    "* paragraph\n",
    "`<p></p>` \n",
    "\n",
    "* line break\n",
    "`<br>` \n",
    "\n",
    "* link with attribute\n",
    "\n",
    "`<a href=\"http://www.example.com/\">An example link</a>`\n"
   ]
  },
  {
   "cell_type": "markdown",
   "metadata": {
    "slideshow": {
     "slide_type": "slide"
    }
   },
   "source": [
    "Scraping with Python:\n",
    "=====================\n",
    "\n",
    "* example of a beautifully simple webpage:\n",
    "\n",
    "http://www.crummy.com/software/BeautifulSoup"
   ]
  },
  {
   "cell_type": "markdown",
   "metadata": {
    "slideshow": {
     "slide_type": "slide"
    }
   },
   "source": [
    "Scraping with Python:\n",
    "=====================\n",
    "\n",
    "* good news: \n",
    "    - some browsers help\n",
    "    - look for: inspect element\n",
    "    - need only basic html\n",
    "    \n",
    "** Try 'Ctrl-Shift I' in Chrome **\n",
    "\n",
    "** Try 'Command-Option I' in Safari **\n"
   ]
  },
  {
   "cell_type": "markdown",
   "metadata": {
    "slideshow": {
     "slide_type": "slide"
    }
   },
   "source": [
    "Scraping with Python\n",
    "==================\n",
    "\n",
    "* different useful libraries:\n",
    "    - urllib\n",
    "    - beautifulsoup\n",
    "    - pattern\n",
    "    - soupy\n",
    "    - LXML\n",
    "    - ...\n",
    "    "
   ]
  },
  {
   "cell_type": "markdown",
   "metadata": {
    "slideshow": {
     "slide_type": "skip"
    }
   },
   "source": [
    "The following cell just defines a url as a string and then reads the data from that url using the `urllib` library. If you uncomment the print command you see that we got the whole HTML content of the page into the string variable source."
   ]
  },
  {
   "cell_type": "code",
   "execution_count": 195,
   "metadata": {
    "collapsed": false,
    "slideshow": {
     "slide_type": "slide"
    }
   },
   "outputs": [
    {
     "name": "stdout",
     "output_type": "stream",
     "text": [
      "<!DOCTYPE HTML PUBLIC \"-//W3C//DTD HTML 4.0 Transitional//EN\"\n",
      "\"http://www.w3.org/TR/REC-html40/transitional.dtd\">\n",
      "<html>\n",
      "<head>\n",
      "<meta http-equiv=\"Content-Type\" content=\"text/html; charset=utf-8\">\n",
      "<title>Beautiful Soup: We called him Tortoise because he taught us.</title>\n",
      "<link rev=\"made\" href=\"mailto:leonardr@segfault.org\">\n",
      "<link rel=\"stylesheet\" type=\"text/css\" href=\"/nb/themes/Default/nb.css\">\n",
      "<meta name=\"Description\" content=\"Beautiful Soup: a library designed for screen-scraping HTML and XML.\">\n",
      "<meta name=\"generator\" content=\"Markov Approximation 1.4 (module: leonardr)\">\n",
      "<meta name=\"author\" content=\"Leonard Richardson\">\n",
      "</head>\n",
      "<body bgcolor=\"white\" text=\"black\" link=\"blue\" vlink=\"660066\" alink=\"red\">\n",
      "<img align=\"right\" src=\"10.1.jpg\" width=\"250\"><br />\n",
      "\n",
      "<p>You didn't write that awful page. You're just trying to get some\n",
      "data out of it. Beautiful Soup is here to help. Since 2004, it's been\n",
      "saving programmers hours or days of work on quick-turnaround\n",
      "screen scraping projects.</p>\n",
      "\n",
      "<div align=\"center\">\n",
      "\n",
      "<a href=\"bs4/download/\"><h1>Beautiful Soup</h1></a>\n",
      "\n",
      "<p>\"A tremendous boon.\" -- Python411 Podcast</p>\n",
      "\n",
      "<p>[ <a href=\"#Download\">Download</a> | <a\n",
      "href=\"bs4/doc/\">Documentation</a> | <a href=\"#HallOfFame\">Hall of Fame</a> | <a href=\"https://code.launchpad.net/beautifulsoup\">Source</a> | <a href=\"https://groups.google.com/forum/?fromgroups#!forum/beautifulsoup\">Discussion group</a> ]</p>\n",
      "\n",
      "<small>If Beautiful Soup has saved you a lot of time and money, the\n",
      "best way to pay me back is to check out <a\n",
      "href=\"http://www.candlemarkandgleam.com/shop/constellation-games/\"><i>Constellation\n",
      "Games</i>, my sci-fi novel about alien video games</a>.<br />You can\n",
      "<a\n",
      "href=\"http://constellation.crummy.com/Constellation%20Games%20excerpt.html\">read\n",
      "the first two chapters for free</a>, and the full novel starts at 5\n",
      "USD. Thanks!</small> </div>\n",
      "\n",
      "<p><i>If you have questions, send them to <a\n",
      "href=\"https://groups.google.com/forum/?fromgroups#!forum/beautifulsoup\">the discussion\n",
      "group</a>. If you find a bug, <a href=\"https://bugs.launchpad.net/beautifulsoup/\">file it</a>.</i></p>\n",
      "\n",
      "<p>Beautiful Soup is a Python library designed for quick turnaround\n",
      "projects like screen-scraping. Three features make it powerful:\n",
      "\n",
      "<ol>\n",
      "\n",
      "<li>Beautiful Soup provides a few simple methods and Pythonic idioms\n",
      "for navigating, searching, and modifying a parse tree: a toolkit for\n",
      "dissecting a document and extracting what you need. It doesn't take\n",
      "much code to write an application\n",
      "\n",
      "<li>Beautiful Soup automatically converts incoming documents to\n",
      "Unicode and outgoing documents to UTF-8. You don't have to think\n",
      "about encodings, unless the document doesn't specify an encoding and\n",
      "Beautiful Soup can't detect one. Then you just have to specify the\n",
      "original encoding.\n",
      "\n",
      "<li>Beautiful Soup sits on top of popular Python parsers like <a\n",
      "href=\"http://lxml.de/\">lxml</a> and <a\n",
      "href=\"http://code.google.com/p/html5lib/\">html5lib</a>, allowing you\n",
      "to try out different parsing strategies or trade speed for\n",
      "flexibility.\n",
      "\n",
      "</ol>\n",
      "\n",
      "<p>Beautiful Soup parses anything you give it, and does the tree\n",
      "traversal stuff for you. You can tell it \"Find all the links\", or\n",
      "\"Find all the links of class <tt>externalLink</tt>\", or \"Find all the\n",
      "links whose urls match \"foo.com\", or \"Find the table heading that's\n",
      "got bold text, then give me that text.\"\n",
      "\n",
      "<p>Valuable data that was once locked up in poorly-designed websites\n",
      "is now within your reach. Projects that would have taken hours take\n",
      "only minutes with Beautiful Soup.\n",
      "\n",
      "<p>Interested? <a href=\"bs4/doc/\">Read more.</a>\n",
      "\n",
      "<a name=\"Download\"><h2>Download Beautiful Soup</h2></a>\n",
      "\n",
      "<p>The current release is <a href=\"bs4/download/\">Beautiful Soup\n",
      "4.4.1</a> (September 28, 2015). You can install Beautiful Soup 4 with\n",
      "<code>pip install beautifulsoup4</code>. It's also available as the\n",
      "<code>python-beautifulsoup4</code> package in Debian, Ubuntu, and\n",
      "Fedora.\n",
      "\n",
      "<p>Beautiful Soup 4 works on both Python 2 (2.6+) and Python 3.\n",
      "\n",
      "<p>Beautiful Soup is licensed under the MIT license, so you can also\n",
      "download the tarball, drop the <code>bs4/</code> directory into almost\n",
      "any Python application (or into your library path) and start using it\n",
      "immediately. (If you want to do this under Python 3, you will need to\n",
      "manually convert the code using <code>2to3</code>.)\n",
      "\n",
      "<h3>Beautiful Soup 3</h3>\n",
      "\n",
      "<p>Beautiful Soup 3 was the official release line of Beautiful Soup\n",
      "from May 2006 to March 2012. It is considered stable, and only\n",
      "critical security bugs will be fixed. <a\n",
      "href=\"http://www.crummy.com/software/BeautifulSoup/bs3/documentation.html\">Here's\n",
      "the Beautiful Soup 3 documentation.</a>\n",
      "\n",
      "<p>Beautiful Soup 3 works only under Python 2.x. It is licensed under\n",
      "the same license as Python itself.\n",
      "\n",
      "<p>The current release of Beautiful Soup 3 is <a\n",
      "href=\"download/3.x/BeautifulSoup-3.2.1.tar.gz\">3.2.1</a> (February 16,\n",
      "2012). You can install Beautiful Soup 3 with <code>pip install\n",
      "BeautifulSoup</code>. It's also available as\n",
      "<code>python-beautifulsoup</code> in Debian and Ubuntu, and as\n",
      "<code>python-BeautifulSoup</code> in Fedora.\n",
      "\n",
      "<p>You can also download the tarball and use\n",
      "<code>BeautifulSoup.py</code> in your project directly.\n",
      "\n",
      "\n",
      "<a name=\"HallOfFame\"><h2>Hall of Fame</h2></a>\n",
      "\n",
      "<p>Over the years, Beautiful Soup has been used in hundreds of\n",
      "different projects. There's no way I can list them all, but I want to\n",
      "highlight a few high-profile projects. Beautiful Soup isn't what makes\n",
      "these projects interesting, but it did make their completion easier:\n",
      "\n",
      "<ul>\n",
      "\n",
      "<li><a\n",
      " href=\"http://www.nytimes.com/2007/10/25/arts/design/25vide.html\">\"Movable\n",
      " Type\"</a>, a work of digital art on display in the lobby of the New\n",
      " York Times building, uses Beautiful Soup to scrape news feeds.\n",
      "\n",
      "<li>Reddit uses Beautiful Soup to <a\n",
      "href=\"https://github.com/reddit/reddit/blob/85f9cff3e2ab9bb8f19b96acd8da4ebacc079f04/r2/r2/lib/media.py\">parse\n",
      "a page that's been linked to and find a representative image</a>.\n",
      "\n",
      "<li>Alexander Harrowell uses Beautiful Soup to <a\n",
      " href=\"http://www.harrowell.org.uk/viktormap.html\">track the business\n",
      " activities</a> of an arms merchant.\n",
      "\n",
      "<li>The developers of Python itself used Beautiful Soup to <a\n",
      "href=\"http://svn.python.org/view/tracker/importer/\">migrate the Python\n",
      "bug tracker from Sourceforge to Roundup</a>.\n",
      "\n",
      "<li>The <a href=\"http://www2.ljworld.com/\">Lawrence Journal-World</a>\n",
      "uses Beautiful Soup to <A\n",
      "href=\"http://www.b-list.org/weblog/2010/nov/02/news-done-broke/\">gather\n",
      "statewide election results</a>.\n",
      "\n",
      "<li>The <a href=\"http://esrl.noaa.gov/gsd/fab/\">NOAA's Forecast\n",
      "Applications Branch</a> uses Beautiful Soup in <a\n",
      "href=\"http://laps.noaa.gov/topograbber/\">TopoGrabber</a>, a script for\n",
      "downloading \"high resolution USGS datasets.\"\n",
      "\n",
      "</ul>\n",
      "\n",
      "<p>If you've used Beautiful Soup in a project you'd like me to know\n",
      "about, please do send email to me or <a\n",
      "href=\"http://groups.google.com/group/beautifulsoup/\">the discussion\n",
      "group</a>.\n",
      "\n",
      "<h2>Development</h2>\n",
      "\n",
      "<p>Development happens at <a\n",
      "href=\"https://launchpad.net/beautifulsoup\">Launchpad</a>. You can <a\n",
      "href=\"https://code.launchpad.net/beautifulsoup/\">get the source\n",
      "code</a> or <a href=\"https://bugs.launchpad.net/beautifulsoup/\">file\n",
      "bugs</a>.<hr><table><tr><td valign=\"top\">\n",
      "<p>This document (<a href=\"/source/software/BeautifulSoup/index.bhtml\">source</a>) is part of Crummy, the webspace of <a href=\"/self/\">Leonard Richardson</a> (<a href=\"/self/contact.html\">contact information</a>). It was last modified on Tuesday, September 29 2015, 00:25:43 Nowhere Standard Time and last built on Wednesday, February 03 2016, 10:00:02 Nowhere Standard Time.</p><p><table class=\"licenseText\"><tr><td><a href=\"http://creativecommons.org/licenses/by-sa/2.0/\"><img border=\"0\" src=\"/nb//resources/img/somerights20.jpg\"></a></td><td valign=\"top\">Crummy is &copy; 1996-2016 Leonard Richardson. Unless otherwise noted, all text licensed under a <a href=\"http://creativecommons.org/licenses/by-sa/2.0/\">Creative Commons License</a>.</td></tr></table></span><!--<rdf:RDF xmlns=\"http://web.resource.org/cc/\" xmlns:dc=\"http://purl.org/dc/elements/1.1/\" xmlns:rdf=\"http://www.w3.org/1999/02/22-rdf-syntax-ns#\"><Work rdf:about=\"http://www.crummy.com/\"><dc:title>Crummy: The Site</dc:title><dc:rights><Agent><dc:title>Crummy: the Site</dc:title></Agent></dc:rights><dc:format>text/html</dc:format><license rdf:resource=http://creativecommons.org/licenses/by-sa/2.0//></Work><License rdf:about=\"http://creativecommons.org/licenses/by-sa/2.0/\"></License></rdf:RDF>--></p></td><td valign=top><p><b>Document tree:</b>\n",
      "<dl><dd><a href=\"http://www.crummy.com/\">http://www.crummy.com/</a><dl><dd><a href=\"http://www.crummy.com/software/\">software/</a><dl><dd><a href=\"http://www.crummy.com/software/BeautifulSoup/\">BeautifulSoup/</a></dl>\n",
      "</dl>\n",
      "</dl>\n",
      "\n",
      "\n",
      "Site Search:\n",
      "\n",
      "<form method=\"get\" action=\"/search/\">\n",
      "        <input type=\"text\" name=\"q\" maxlength=\"255\" value=\"\"></input>\n",
      "        </form>\n",
      "        </td>\n",
      "\n",
      "</tr>\n",
      "\n",
      "</table>\n",
      "</body>\n",
      "</html>\n",
      "\n"
     ]
    }
   ],
   "source": [
    "url = 'http://www.crummy.com/software/BeautifulSoup'\n",
    "source = urllib2.urlopen(url).read()\n",
    "print source"
   ]
  },
  {
   "cell_type": "markdown",
   "metadata": {
    "slideshow": {
     "slide_type": "slide"
    }
   },
   "source": [
    "Quiz :\n",
    "======\n",
    "\n",
    "* Is the word 'Alice' mentioned on the beautiful soup homepage?\n",
    "* How often does the word 'Soup' occur on the site?\n",
    "    - hint: use `.count()`\n",
    "* At what index occurs the substring 'alien video games' ?\n",
    "    - hint: use `.find()`"
   ]
  },
  {
   "cell_type": "code",
   "execution_count": 196,
   "metadata": {
    "collapsed": false,
    "slideshow": {
     "slide_type": "slide"
    }
   },
   "outputs": [
    {
     "name": "stdout",
     "output_type": "stream",
     "text": [
      "False\n",
      "41\n",
      "1639\n"
     ]
    }
   ],
   "source": [
    "## is 'Alice' in source?\n",
    "print 'Alice' in source\n",
    "## count occurences of 'Soup'\n",
    "print source.count('Soup')\n",
    "## find index of 'alien video games'\n",
    "print source.find('alien video games')"
   ]
  },
  {
   "cell_type": "markdown",
   "metadata": {
    "slideshow": {
     "slide_type": "slide"
    }
   },
   "source": [
    "Beautiful Soup\n",
    "==============\n",
    "\n",
    "* designed to make your life easier\n",
    "* many good functions for parsing html code"
   ]
  },
  {
   "cell_type": "markdown",
   "metadata": {
    "slideshow": {
     "slide_type": "slide"
    }
   },
   "source": [
    "Some examples\n",
    "=============\n"
   ]
  },
  {
   "cell_type": "code",
   "execution_count": 197,
   "metadata": {
    "collapsed": false
   },
   "outputs": [
    {
     "data": {
      "text/plain": [
       "[<a href=\"bs4/download/\"><h1>Beautiful Soup</h1></a>,\n",
       " <a href=\"#Download\">Download</a>,\n",
       " <a href=\"bs4/doc/\">Documentation</a>,\n",
       " <a href=\"#HallOfFame\">Hall of Fame</a>,\n",
       " <a href=\"https://code.launchpad.net/beautifulsoup\">Source</a>,\n",
       " <a href=\"https://groups.google.com/forum/?fromgroups#!forum/beautifulsoup\">Discussion group</a>,\n",
       " <a href=\"http://www.candlemarkandgleam.com/shop/constellation-games/\"><i>Constellation\\nGames</i>, my sci-fi novel about alien video games</a>,\n",
       " <a href=\"http://constellation.crummy.com/Constellation%20Games%20excerpt.html\">read\\nthe first two chapters for free</a>,\n",
       " <a href=\"https://groups.google.com/forum/?fromgroups#!forum/beautifulsoup\">the discussion\\ngroup</a>,\n",
       " <a href=\"https://bugs.launchpad.net/beautifulsoup/\">file it</a>,\n",
       " <a href=\"http://lxml.de/\">lxml</a>,\n",
       " <a href=\"http://code.google.com/p/html5lib/\">html5lib</a>,\n",
       " <a href=\"bs4/doc/\">Read more.</a>,\n",
       " <a name=\"Download\"><h2>Download Beautiful Soup</h2></a>,\n",
       " <a href=\"bs4/download/\">Beautiful Soup\\n4.4.1</a>,\n",
       " <a href=\"http://www.crummy.com/software/BeautifulSoup/bs3/documentation.html\">Here's\\nthe Beautiful Soup 3 documentation.</a>,\n",
       " <a href=\"download/3.x/BeautifulSoup-3.2.1.tar.gz\">3.2.1</a>,\n",
       " <a name=\"HallOfFame\"><h2>Hall of Fame</h2></a>,\n",
       " <a href=\"http://www.nytimes.com/2007/10/25/arts/design/25vide.html\">\"Movable\\n Type\"</a>,\n",
       " <a href=\"https://github.com/reddit/reddit/blob/85f9cff3e2ab9bb8f19b96acd8da4ebacc079f04/r2/r2/lib/media.py\">parse\\na page that's been linked to and find a representative image</a>,\n",
       " <a href=\"http://www.harrowell.org.uk/viktormap.html\">track the business\\n activities</a>,\n",
       " <a href=\"http://svn.python.org/view/tracker/importer/\">migrate the Python\\nbug tracker from Sourceforge to Roundup</a>,\n",
       " <a href=\"http://www2.ljworld.com/\">Lawrence Journal-World</a>,\n",
       " <a href=\"http://www.b-list.org/weblog/2010/nov/02/news-done-broke/\">gather\\nstatewide election results</a>,\n",
       " <a href=\"http://esrl.noaa.gov/gsd/fab/\">NOAA's Forecast\\nApplications Branch</a>,\n",
       " <a href=\"http://laps.noaa.gov/topograbber/\">TopoGrabber</a>,\n",
       " <a href=\"http://groups.google.com/group/beautifulsoup/\">the discussion\\ngroup</a>,\n",
       " <a href=\"https://launchpad.net/beautifulsoup\">Launchpad</a>,\n",
       " <a href=\"https://code.launchpad.net/beautifulsoup/\">get the source\\ncode</a>,\n",
       " <a href=\"https://bugs.launchpad.net/beautifulsoup/\">file\\nbugs</a>,\n",
       " <a href=\"/source/software/BeautifulSoup/index.bhtml\">source</a>,\n",
       " <a href=\"/self/\">Leonard Richardson</a>,\n",
       " <a href=\"/self/contact.html\">contact information</a>,\n",
       " <a href=\"http://creativecommons.org/licenses/by-sa/2.0/\"><img border=\"0\" src=\"/nb//resources/img/somerights20.jpg\"/></a>,\n",
       " <a href=\"http://creativecommons.org/licenses/by-sa/2.0/\">Creative Commons License</a>,\n",
       " <a href=\"http://www.crummy.com/\">http://www.crummy.com/</a>,\n",
       " <a href=\"http://www.crummy.com/software/\">software/</a>,\n",
       " <a href=\"http://www.crummy.com/software/BeautifulSoup/\">BeautifulSoup/</a>]"
      ]
     },
     "execution_count": 197,
     "metadata": {},
     "output_type": "execute_result"
    }
   ],
   "source": [
    "## get bs4 object\n",
    "soup = bs4.BeautifulSoup(source)\n",
    " \n",
    "## compare the two print statements\n",
    "#print soup\n",
    "#print soup.prettify()\n",
    "\n",
    "## show how to find all a tags\n",
    "soup.findAll('a')\n",
    "\n",
    "## ***Why does this not work? ***\n",
    "#soup.findAll('Soup')"
   ]
  },
  {
   "cell_type": "markdown",
   "metadata": {
    "slideshow": {
     "slide_type": "slide"
    }
   },
   "source": [
    "Some examples\n",
    "============="
   ]
  },
  {
   "cell_type": "code",
   "execution_count": 198,
   "metadata": {
    "collapsed": false
   },
   "outputs": [
    {
     "data": {
      "text/plain": [
       "['bs4/download/',\n",
       " '#Download',\n",
       " 'bs4/doc/',\n",
       " '#HallOfFame',\n",
       " 'https://code.launchpad.net/beautifulsoup',\n",
       " 'https://groups.google.com/forum/?fromgroups#!forum/beautifulsoup',\n",
       " 'http://www.candlemarkandgleam.com/shop/constellation-games/',\n",
       " 'http://constellation.crummy.com/Constellation%20Games%20excerpt.html',\n",
       " 'https://groups.google.com/forum/?fromgroups#!forum/beautifulsoup',\n",
       " 'https://bugs.launchpad.net/beautifulsoup/',\n",
       " 'http://lxml.de/',\n",
       " 'http://code.google.com/p/html5lib/',\n",
       " 'bs4/doc/',\n",
       " None,\n",
       " 'bs4/download/',\n",
       " 'http://www.crummy.com/software/BeautifulSoup/bs3/documentation.html',\n",
       " 'download/3.x/BeautifulSoup-3.2.1.tar.gz',\n",
       " None,\n",
       " 'http://www.nytimes.com/2007/10/25/arts/design/25vide.html',\n",
       " 'https://github.com/reddit/reddit/blob/85f9cff3e2ab9bb8f19b96acd8da4ebacc079f04/r2/r2/lib/media.py',\n",
       " 'http://www.harrowell.org.uk/viktormap.html',\n",
       " 'http://svn.python.org/view/tracker/importer/',\n",
       " 'http://www2.ljworld.com/',\n",
       " 'http://www.b-list.org/weblog/2010/nov/02/news-done-broke/',\n",
       " 'http://esrl.noaa.gov/gsd/fab/',\n",
       " 'http://laps.noaa.gov/topograbber/',\n",
       " 'http://groups.google.com/group/beautifulsoup/',\n",
       " 'https://launchpad.net/beautifulsoup',\n",
       " 'https://code.launchpad.net/beautifulsoup/',\n",
       " 'https://bugs.launchpad.net/beautifulsoup/',\n",
       " '/source/software/BeautifulSoup/index.bhtml',\n",
       " '/self/',\n",
       " '/self/contact.html',\n",
       " 'http://creativecommons.org/licenses/by-sa/2.0/',\n",
       " 'http://creativecommons.org/licenses/by-sa/2.0/',\n",
       " 'http://www.crummy.com/',\n",
       " 'http://www.crummy.com/software/',\n",
       " 'http://www.crummy.com/software/BeautifulSoup/']"
      ]
     },
     "execution_count": 198,
     "metadata": {},
     "output_type": "execute_result"
    }
   ],
   "source": [
    "## get attribute value from an element:\n",
    "## find tag: this only returns the first occurrence, not all tags in the string\n",
    "first_tag = soup.find('a')\n",
    "\n",
    "## get attribute `href`\n",
    "first_tag.get('href')\n",
    "\n",
    "## get all links in the page\n",
    "link_list = [l.get('href') for l in soup.findAll('a')]\n",
    "link_list"
   ]
  },
  {
   "cell_type": "code",
   "execution_count": 199,
   "metadata": {
    "collapsed": false,
    "slideshow": {
     "slide_type": "slide"
    }
   },
   "outputs": [
    {
     "data": {
      "text/plain": [
       "['https://code.launchpad.net/beautifulsoup',\n",
       " 'https://groups.google.com/forum/?fromgroups#!forum/beautifulsoup',\n",
       " 'http://www.candlemarkandgleam.com/shop/constellation-games/',\n",
       " 'http://constellation.crummy.com/Constellation%20Games%20excerpt.html',\n",
       " 'https://groups.google.com/forum/?fromgroups#!forum/beautifulsoup',\n",
       " 'https://bugs.launchpad.net/beautifulsoup/',\n",
       " 'http://lxml.de/',\n",
       " 'http://code.google.com/p/html5lib/',\n",
       " 'http://www.crummy.com/software/BeautifulSoup/bs3/documentation.html',\n",
       " 'http://www.nytimes.com/2007/10/25/arts/design/25vide.html',\n",
       " 'https://github.com/reddit/reddit/blob/85f9cff3e2ab9bb8f19b96acd8da4ebacc079f04/r2/r2/lib/media.py',\n",
       " 'http://www.harrowell.org.uk/viktormap.html',\n",
       " 'http://svn.python.org/view/tracker/importer/',\n",
       " 'http://www2.ljworld.com/',\n",
       " 'http://www.b-list.org/weblog/2010/nov/02/news-done-broke/',\n",
       " 'http://esrl.noaa.gov/gsd/fab/',\n",
       " 'http://laps.noaa.gov/topograbber/',\n",
       " 'http://groups.google.com/group/beautifulsoup/',\n",
       " 'https://launchpad.net/beautifulsoup',\n",
       " 'https://code.launchpad.net/beautifulsoup/',\n",
       " 'https://bugs.launchpad.net/beautifulsoup/',\n",
       " 'http://creativecommons.org/licenses/by-sa/2.0/',\n",
       " 'http://creativecommons.org/licenses/by-sa/2.0/',\n",
       " 'http://www.crummy.com/',\n",
       " 'http://www.crummy.com/software/',\n",
       " 'http://www.crummy.com/software/BeautifulSoup/']"
      ]
     },
     "execution_count": 199,
     "metadata": {},
     "output_type": "execute_result"
    }
   ],
   "source": [
    "## filter all external links\n",
    "# create an empty list to collect the valid links\n",
    "external_links = []\n",
    "\n",
    "# write a loop to filter the links\n",
    "# if it starts with 'http' we are happy\n",
    "for l in link_list:\n",
    "    if (l is not None and l[:4] == 'http'):\n",
    "        external_links.append(l)\n",
    "\n",
    "external_links        \n",
    "# this throws an error! It says something about 'NoneType'"
   ]
  },
  {
   "cell_type": "code",
   "execution_count": 200,
   "metadata": {
    "collapsed": false,
    "slideshow": {
     "slide_type": "slide"
    }
   },
   "outputs": [
    {
     "data": {
      "text/plain": [
       "['bs4/download/',\n",
       " '#Download',\n",
       " 'bs4/doc/',\n",
       " '#HallOfFame',\n",
       " 'https://code.launchpad.net/beautifulsoup',\n",
       " 'https://groups.google.com/forum/?fromgroups#!forum/beautifulsoup',\n",
       " 'http://www.candlemarkandgleam.com/shop/constellation-games/',\n",
       " 'http://constellation.crummy.com/Constellation%20Games%20excerpt.html',\n",
       " 'https://groups.google.com/forum/?fromgroups#!forum/beautifulsoup',\n",
       " 'https://bugs.launchpad.net/beautifulsoup/',\n",
       " 'http://lxml.de/',\n",
       " 'http://code.google.com/p/html5lib/',\n",
       " 'bs4/doc/',\n",
       " None,\n",
       " 'bs4/download/',\n",
       " 'http://www.crummy.com/software/BeautifulSoup/bs3/documentation.html',\n",
       " 'download/3.x/BeautifulSoup-3.2.1.tar.gz',\n",
       " None,\n",
       " 'http://www.nytimes.com/2007/10/25/arts/design/25vide.html',\n",
       " 'https://github.com/reddit/reddit/blob/85f9cff3e2ab9bb8f19b96acd8da4ebacc079f04/r2/r2/lib/media.py',\n",
       " 'http://www.harrowell.org.uk/viktormap.html',\n",
       " 'http://svn.python.org/view/tracker/importer/',\n",
       " 'http://www2.ljworld.com/',\n",
       " 'http://www.b-list.org/weblog/2010/nov/02/news-done-broke/',\n",
       " 'http://esrl.noaa.gov/gsd/fab/',\n",
       " 'http://laps.noaa.gov/topograbber/',\n",
       " 'http://groups.google.com/group/beautifulsoup/',\n",
       " 'https://launchpad.net/beautifulsoup',\n",
       " 'https://code.launchpad.net/beautifulsoup/',\n",
       " 'https://bugs.launchpad.net/beautifulsoup/',\n",
       " '/source/software/BeautifulSoup/index.bhtml',\n",
       " '/self/',\n",
       " '/self/contact.html',\n",
       " 'http://creativecommons.org/licenses/by-sa/2.0/',\n",
       " 'http://creativecommons.org/licenses/by-sa/2.0/',\n",
       " 'http://www.crummy.com/',\n",
       " 'http://www.crummy.com/software/',\n",
       " 'http://www.crummy.com/software/BeautifulSoup/']"
      ]
     },
     "execution_count": 200,
     "metadata": {},
     "output_type": "execute_result"
    }
   ],
   "source": [
    "# lets investigate. Have a close look at the link_list:\n",
    "link_list\n",
    "\n",
    "# Seems that there are None elements!\n",
    "# Let's verify\n",
    "#print sum([l is None for l in link_list])\n",
    "\n",
    "# So there are two elements in the list that are None!"
   ]
  },
  {
   "cell_type": "code",
   "execution_count": 201,
   "metadata": {
    "collapsed": false,
    "slideshow": {
     "slide_type": "slide"
    }
   },
   "outputs": [
    {
     "data": {
      "text/plain": [
       "['https://code.launchpad.net/beautifulsoup',\n",
       " 'https://groups.google.com/forum/?fromgroups#!forum/beautifulsoup',\n",
       " 'http://www.candlemarkandgleam.com/shop/constellation-games/',\n",
       " 'http://constellation.crummy.com/Constellation%20Games%20excerpt.html',\n",
       " 'https://groups.google.com/forum/?fromgroups#!forum/beautifulsoup',\n",
       " 'https://bugs.launchpad.net/beautifulsoup/',\n",
       " 'http://lxml.de/',\n",
       " 'http://code.google.com/p/html5lib/',\n",
       " 'http://www.crummy.com/software/BeautifulSoup/bs3/documentation.html',\n",
       " 'http://www.nytimes.com/2007/10/25/arts/design/25vide.html',\n",
       " 'https://github.com/reddit/reddit/blob/85f9cff3e2ab9bb8f19b96acd8da4ebacc079f04/r2/r2/lib/media.py',\n",
       " 'http://www.harrowell.org.uk/viktormap.html',\n",
       " 'http://svn.python.org/view/tracker/importer/',\n",
       " 'http://www2.ljworld.com/',\n",
       " 'http://www.b-list.org/weblog/2010/nov/02/news-done-broke/',\n",
       " 'http://esrl.noaa.gov/gsd/fab/',\n",
       " 'http://laps.noaa.gov/topograbber/',\n",
       " 'http://groups.google.com/group/beautifulsoup/',\n",
       " 'https://launchpad.net/beautifulsoup',\n",
       " 'https://code.launchpad.net/beautifulsoup/',\n",
       " 'https://bugs.launchpad.net/beautifulsoup/',\n",
       " 'http://creativecommons.org/licenses/by-sa/2.0/',\n",
       " 'http://creativecommons.org/licenses/by-sa/2.0/',\n",
       " 'http://www.crummy.com/',\n",
       " 'http://www.crummy.com/software/',\n",
       " 'http://www.crummy.com/software/BeautifulSoup/']"
      ]
     },
     "execution_count": 201,
     "metadata": {},
     "output_type": "execute_result"
    }
   ],
   "source": [
    "# Let's filter those objects out in the for loop\n",
    "external_links = []\n",
    "\n",
    "# write a loop to filter the links\n",
    "# if it is not None and starts with 'http' we are happy\n",
    "for l in link_list:\n",
    "    if l is not None and l[:4] == 'http':\n",
    "        external_links.append(l)\n",
    "        \n",
    "external_links"
   ]
  },
  {
   "cell_type": "markdown",
   "metadata": {
    "slideshow": {
     "slide_type": "skip"
    }
   },
   "source": [
    "Note: The above `if` condition works because of lazy evaluation in Python. The `and` statement becomes `False` if the first part is `False`, so there is no need to ever evaluate the second part. Thus a `None` entry in the list gets never asked about its first four characters. "
   ]
  },
  {
   "cell_type": "code",
   "execution_count": 202,
   "metadata": {
    "collapsed": false,
    "slideshow": {
     "slide_type": "slide"
    }
   },
   "outputs": [
    {
     "data": {
      "text/plain": [
       "['https://code.launchpad.net/beautifulsoup',\n",
       " 'https://groups.google.com/forum/?fromgroups#!forum/beautifulsoup',\n",
       " 'http://www.candlemarkandgleam.com/shop/constellation-games/',\n",
       " 'http://constellation.crummy.com/Constellation%20Games%20excerpt.html',\n",
       " 'https://groups.google.com/forum/?fromgroups#!forum/beautifulsoup',\n",
       " 'https://bugs.launchpad.net/beautifulsoup/',\n",
       " 'http://lxml.de/',\n",
       " 'http://code.google.com/p/html5lib/',\n",
       " 'http://www.crummy.com/software/BeautifulSoup/bs3/documentation.html',\n",
       " 'http://www.nytimes.com/2007/10/25/arts/design/25vide.html',\n",
       " 'https://github.com/reddit/reddit/blob/85f9cff3e2ab9bb8f19b96acd8da4ebacc079f04/r2/r2/lib/media.py',\n",
       " 'http://www.harrowell.org.uk/viktormap.html',\n",
       " 'http://svn.python.org/view/tracker/importer/',\n",
       " 'http://www2.ljworld.com/',\n",
       " 'http://www.b-list.org/weblog/2010/nov/02/news-done-broke/',\n",
       " 'http://esrl.noaa.gov/gsd/fab/',\n",
       " 'http://laps.noaa.gov/topograbber/',\n",
       " 'http://groups.google.com/group/beautifulsoup/',\n",
       " 'https://launchpad.net/beautifulsoup',\n",
       " 'https://code.launchpad.net/beautifulsoup/',\n",
       " 'https://bugs.launchpad.net/beautifulsoup/',\n",
       " 'http://creativecommons.org/licenses/by-sa/2.0/',\n",
       " 'http://creativecommons.org/licenses/by-sa/2.0/',\n",
       " 'http://www.crummy.com/',\n",
       " 'http://www.crummy.com/software/',\n",
       " 'http://www.crummy.com/software/BeautifulSoup/']"
      ]
     },
     "execution_count": 202,
     "metadata": {},
     "output_type": "execute_result"
    }
   ],
   "source": [
    "# and we can put this in a list comprehension as well, it almost reads like \n",
    "# a sentence.\n",
    "\n",
    "[l for l in link_list if l is not None and l.startswith('http')]"
   ]
  },
  {
   "cell_type": "markdown",
   "metadata": {
    "slideshow": {
     "slide_type": "slide"
    }
   },
   "source": [
    "Parsing the Tree\n",
    "================\n",
    "\n"
   ]
  },
  {
   "cell_type": "code",
   "execution_count": 203,
   "metadata": {
    "collapsed": false
   },
   "outputs": [
    {
     "data": {
      "text/plain": [
       "<body><h3> Test </h3><p>Hello world!</p></body>"
      ]
     },
     "execution_count": 203,
     "metadata": {},
     "output_type": "execute_result"
    }
   ],
   "source": [
    "# redifining `s` without any line breaks\n",
    "s = \"\"\"<!DOCTYPE html><html><head><title>This is a title</title></head><body><h3> Test </h3><p>Hello world!</p></body></html>\"\"\"\n",
    "## get bs4 object\n",
    "tree = bs4.BeautifulSoup(s)\n",
    "\n",
    "## get html root node\n",
    "root_node = tree.html\n",
    "\n",
    "## get head from root using contents\n",
    "head = root_node.contents[0]\n",
    "\n",
    "## get body from root\n",
    "body = root_node.contents[1]\n",
    "\n",
    "## could directly access body\n",
    "tree.body"
   ]
  },
  {
   "cell_type": "markdown",
   "metadata": {
    "slideshow": {
     "slide_type": "slide"
    }
   },
   "source": [
    "Quiz:\n",
    "=====\n",
    "\n",
    "* Find the `h3` tag by parsing the tree starting at `body`\n",
    "* Create a list of all __Hall of Fame__ entries listed on the Beautiful Soup webpage\n",
    "    - hint: it is the only unordered list in the page (tag `ul`)\n"
   ]
  },
  {
   "cell_type": "code",
   "execution_count": 204,
   "metadata": {
    "collapsed": false,
    "slideshow": {
     "slide_type": "slide"
    }
   },
   "outputs": [
    {
     "data": {
      "text/plain": [
       "<h3> Test </h3>"
      ]
     },
     "execution_count": 204,
     "metadata": {},
     "output_type": "execute_result"
    }
   ],
   "source": [
    "## get h3 tag from body\n",
    "body.contents[0]"
   ]
  },
  {
   "cell_type": "code",
   "execution_count": 205,
   "metadata": {
    "collapsed": false,
    "slideshow": {
     "slide_type": "slide"
    }
   },
   "outputs": [],
   "source": [
    "## use ul as entry point\n",
    "url = 'http://www.crummy.com/software/BeautifulSoup/'\n",
    "src = urllib2.urlopen(url).read()"
   ]
  },
  {
   "cell_type": "code",
   "execution_count": 206,
   "metadata": {
    "collapsed": false
   },
   "outputs": [
    {
     "data": {
      "text/plain": [
       "[<li><a href=\"http://www.nytimes.com/2007/10/25/arts/design/25vide.html\">\"Movable\\n Type\"</a>, a work of digital art on display in the lobby of the New\\n York Times building, uses Beautiful Soup to scrape news feeds.\\n\\n</li>,\n",
       " <li>Reddit uses Beautiful Soup to <a href=\"https://github.com/reddit/reddit/blob/85f9cff3e2ab9bb8f19b96acd8da4ebacc079f04/r2/r2/lib/media.py\">parse\\na page that's been linked to and find a representative image</a>.\\n\\n</li>,\n",
       " <li>Alexander Harrowell uses Beautiful Soup to <a href=\"http://www.harrowell.org.uk/viktormap.html\">track the business\\n activities</a> of an arms merchant.\\n\\n</li>,\n",
       " <li>The developers of Python itself used Beautiful Soup to <a href=\"http://svn.python.org/view/tracker/importer/\">migrate the Python\\nbug tracker from Sourceforge to Roundup</a>.\\n\\n</li>,\n",
       " <li>The <a href=\"http://www2.ljworld.com/\">Lawrence Journal-World</a>\\nuses Beautiful Soup to <a href=\"http://www.b-list.org/weblog/2010/nov/02/news-done-broke/\">gather\\nstatewide election results</a>.\\n\\n</li>,\n",
       " <li>The <a href=\"http://esrl.noaa.gov/gsd/fab/\">NOAA's Forecast\\nApplications Branch</a> uses Beautiful Soup in <a href=\"http://laps.noaa.gov/topograbber/\">TopoGrabber</a>, a script for\\ndownloading \"high resolution USGS datasets.\"\\n\\n</li>]"
      ]
     },
     "execution_count": 206,
     "metadata": {},
     "output_type": "execute_result"
    }
   ],
   "source": [
    "tree = bs4.BeautifulSoup(src)\n",
    "ul = tree.find('ul')\n",
    "uli = ul.findAll('li')\n",
    "uli"
   ]
  },
  {
   "cell_type": "code",
   "execution_count": 207,
   "metadata": {
    "collapsed": false
   },
   "outputs": [
    {
     "data": {
      "text/plain": [
       "['http://www.nytimes.com/2007/10/25/arts/design/25vide.html',\n",
       " 'https://github.com/reddit/reddit/blob/85f9cff3e2ab9bb8f19b96acd8da4ebacc079f04/r2/r2/lib/media.py',\n",
       " 'http://www.harrowell.org.uk/viktormap.html',\n",
       " 'http://svn.python.org/view/tracker/importer/',\n",
       " 'http://www2.ljworld.com/',\n",
       " 'http://esrl.noaa.gov/gsd/fab/']"
      ]
     },
     "execution_count": 207,
     "metadata": {},
     "output_type": "execute_result"
    }
   ],
   "source": [
    "link_list = [uli[i].find('a').get('href') for i in range(len(uli)) if uli[i].find('a').get('href') is not None \\\n",
    "             and uli[i].find('a').get('href').startswith('http')]\n",
    "tmp = link_list\n",
    "tmp\n",
    "## get hall of fame list from entry point\n",
    "## skip the first entry \n",
    "\n",
    "## reformat into a list containing strings\n",
    "## it is ok to have a list of lists"
   ]
  },
  {
   "cell_type": "markdown",
   "metadata": {
    "slideshow": {
     "slide_type": "slide"
    }
   },
   "source": [
    "`tmp` now is actually a list of lists containing the hall of fame entries. \n",
    "Here is some advanced Python on how to print really just one entry per list item.\n",
    "\n",
    "The cool things about this are: \n",
    "* The use of `\"\"` to just access the `join` function of strings.\n",
    "* The `join` function itself\n",
    "* that you can actually have two nested for loops in a list comprehension"
   ]
  },
  {
   "cell_type": "code",
   "execution_count": 208,
   "metadata": {
    "collapsed": false,
    "slideshow": {
     "slide_type": "-"
    }
   },
   "outputs": [
    {
     "name": "stdout",
     "output_type": "stream",
     "text": [
      "http://www.nytimes.com/2007/10/25/arts/design/25vide.html\n",
      "https://github.com/reddit/reddit/blob/85f9cff3e2ab9bb8f19b96acd8da4ebacc079f04/r2/r2/lib/media.py\n",
      "http://www.harrowell.org.uk/viktormap.html\n",
      "http://svn.python.org/view/tracker/importer/\n",
      "http://www2.ljworld.com/\n",
      "http://esrl.noaa.gov/gsd/fab/\n"
     ]
    }
   ],
   "source": [
    "#test =  [\"\".join(str(a) for a in sublist) for sublist in tmp]\n",
    "#print test\n",
    "#print '\\n'.join(test)\n",
    "print '\\n'.join(tmp)"
   ]
  },
  {
   "cell_type": "markdown",
   "metadata": {
    "slideshow": {
     "slide_type": "slide"
    }
   },
   "source": [
    "Advanced Example\n",
    "===============\n",
    "\n",
    "Idea by [Jesse Steinweg-Woods](https://jessesw.com/Data-Science-Skills/)\n",
    "--------------------------------------------------------------------------------"
   ]
  },
  {
   "cell_type": "markdown",
   "metadata": {
    "slideshow": {
     "slide_type": "slide"
    }
   },
   "source": [
    "Scraping data science skills\n",
    "=============================\n",
    "\n",
    "- What skills are in demand for data scientists?\n",
    "- Should we have a lecture on Spark or only on MapReduce?\n",
    "\n",
    "We want to scrape the information from job advertisements for data scientists from indeed.com\n",
    "Let's scrape and find out!"
   ]
  },
  {
   "cell_type": "code",
   "execution_count": 209,
   "metadata": {
    "collapsed": false,
    "slideshow": {
     "slide_type": "slide"
    }
   },
   "outputs": [
    {
     "data": {
      "text/plain": [
       "<!DOCTYPE html>\\n<html>\\n<head>\\n<meta content=\"text/html;charset=unicode-escape\" http-equiv=\"content-type\"/>\\n<!-- pll --><script src=\"/s/30b7a09/en_US.js\" type=\"text/javascript\"></script>\\n<link href=\"/s/d8d8288/jobsearch_all.css\" rel=\"stylesheet\" type=\"text/css\"/>\\n<link href=\"http://rss.indeed.com/rss?q=data+scientist\" rel=\"alternate\" title=\"Data Scientist Jobs, Employment\" type=\"application/rss+xml\"/>\\n<link href=\"/m/jobs?q=data+scientist\" media=\"handheld\" rel=\"alternate\"/>\\n<script type=\"text/javascript\">\\n    \\n    window['closureReadyCallbacks'] = [];\\n\\n    function call_when_jsall_loaded(cb) {\\n        if (window['closureReady']) {\\n            cb();\\n        } else {\\n            window['closureReadyCallbacks'].push(cb);\\n        }\\n    }\\n</script>\\n<script src=\"/s/1b97c91/jobsearch-all-compiled.js\" type=\"text/javascript\"></script>\\n<script type=\"text/javascript\">\\nvar pingUrlsForGA = [];\\n\\nvar searchUID = '1aajc9uqub9h3aac';\\nvar tk = '1aajc9uqub9h3aac';\\n\\nvar loggedIn = false;\\nvar myindeed = true;\\nvar userEmail = '';\\nvar tellFriendEmail = '';\\nvar globalLoginURL = 'http:\\\\/\\\\/www.indeed.com\\\\/account\\\\/login?dest=%2Fq-data-scientist-jobs.html';\\nvar globalRegisterURL = 'http:\\\\/\\\\/www.indeed.com\\\\/account\\\\/register?dest=%2Fq-data-scientist-jobs.html';\\nvar searchKey = 'bebb41335ed80f2a';\\nvar searchState = 'q=data+scientist&amp;';\\nvar searchQS = 'q=data+scientist';\\nvar eventType = 'jobsearch';\\nvar locale = 'en_US';\\nfunction clk(id) { var a = document.getElementById(id); var hr = a.href; var si = a.href.indexOf('&jsa='); if (si > 0) return; var jsh = hr + '&tk=1aajc9uqub9h3aac&jsa=3310'; a.href = jsh; }\\nfunction sjomd(id) { var a = document.getElementById(id); var hr = a.href; var ocs = hr.indexOf('&oc=1'); if (ocs < 0) return; var oce = ocs + 5; a.href = hr.substring(0, ocs) + hr.substring(oce); }\\nfunction sjoc(id, sal) { var a = document.getElementById(id); a.href = a.href + '&oc=1&sal='+sal; }\\nfunction ptk(st,p) {document.cookie = 'PTK=\"tk=1aajc9uqub9h3aac&type=jobsearch&subtype='+st+(p?'&'+p:'')+'\"; path=/';}\\nfunction rbptk(st, c, p) { ptk(st, 'cat='+c+(p?'&p='+p:''));}\\n</script>\\n<script type=\"text/javascript\">\\nfunction loadJSAsync( ) {\\nfor ( var i = 0; i < arguments.length; i++ ) {\\nvar url = arguments[i];\\n(function() {\\nvar s = document.createElement(\"script\"), el = document.getElementsByTagName(\"script\")[0];\\ns.async = true;\\ns.src = url;\\nel.parentNode.insertBefore(s, el);\\n})();\\n}\\n}\\n</script>\\n<meta content=\"21,557  Data Scientist Jobs available on Indeed.com.  one search.  all jobs.\" name=\"description\"/>\\n<meta content=\"Data Scientist Jobs, Employment,  careers,  employment,  job listings,  job search,  search engine, work in \" name=\"keywords\"/>\\n<link href=\"/q-Data-Scientist-jobs.html\" rel=\"canonical\"/><script type=\"text/javascript\">\\nvar indeedCsrfToken = 'nNGvCJRRZw3Vv4gWaVcK1BuhANQQalx6';\\nvar hashedCsrfToken = '02facb46dad2cc21bcfcf05b3785a38f';\\n</script>\\n<style type=\"text/css\">\\n#resultsCol { padding-top: 0; }\\n.searchCount { margin-top: 6px; }\\n.showing { padding-top: 9px; padding-bottom: 9px; }\\n\\n.brdr { height: 1px; overflow: hidden; background-color: #ccc; }\\n\\n#bjobalerts { margin-top: 0; }\\n\\n/* Tall window sizes */\\n@media only screen and (min-height:780px){\\n.showing { padding-bottom: 0; }\\n}\\n\\n/* Wide window sizes */\\n@media only screen and (min-width:1125px){\\n.brdr  { margin-left: 12px; margin-right: 12px; }\\n}\\n\\na,a:link,.link{text-decoration:none !important}a:hover,.link:hover{text-decoration:underline !important}.dya-container a{text-decoration:underline !important}</style>\\n<script>\\nfunction onLoadHandler() {\\n\\ndocument.js.reset();\\njobSeenInit('1aajc9uqub9h3aac');\\n\\nif ( document.radius_update ) { document.radius_update.reset(); }\\n\\n}\\n\\ninitLogInitialUserInteraction('1aajc9uqub9h3aac', 'serp');\\n\\nwindow.onload = onLoadHandler;\\n\\nfunction toggleFixedSearch() {\\nvar doc = document.documentElement;\\nvar top = (window.pageYOffset || doc.scrollTop)  - (doc.clientTop || 0);\\nif (top > 34) {\\naddClass(document.body, \"jobsearch-fixed\");\\n} else {\\nremoveClass(document.body, \"jobsearch-fixed\");\\n}\\n}\\n</script>\\n<link href=\"android-app://com.indeed.android.jobsearch/http/www.indeed.com/m/jobs?q=data+scientist\" rel=\"alternate\"/>\\n<title>Data Scientist Jobs, Employment\\n|\\nIndeed.com</title>\\n</head>\\n<body class=\"ltr jasxcolumnwidthtst-expandBoth jasxserpfixedsrchtst-inactive\" data-tn-application=\"jasx\" data-tn-olth=\"9d2bcadf63a72746e920e0ea88bc9d14\" data-tn-originlogid=\"1aajc9uqub9h3aac\" data-tn-originlogtype=\"jobsearch\" onscroll=\"toggleFixedSearch();\">\\n<style type=\"text/css\">\\nbody { margin-top: 0; margin-left: 0; margin-right: 0; padding-top: 0; padding-right: 0; padding-left: 0; }\\n\\n#g_nav { border-bottom:1px solid #ccc; margin-bottom: 9px; }\\n\\n#g_nav a,\\n#g_nav a:visited { color: #00c; }\\n\\n.navBi { display: -moz-inline-box; display: inline-block; padding: 9px 12px; margin: 0; list-style-type: none; }\\n</style>\\n<div data-tn-section=\"globalNav\" id=\"g_nav\">\\n<table cellpadding=\"0\" cellspacing=\"0\" width=\"100%\">\\n<tr>\\n<td nowrap=\"\"><style type=\"text/css\">\\n#p_nav a.selected { font-weight: bold; text-decoration:none; color: #000 !important; }\\n</style>\\n<div id=\"p_nav\"><span class=\"navBi\"><a href=\"/\" id=\"jobsLink\" title=\"Jobs\">Find Jobs</a></span><span class=\"navBi\"><a href=\"/resumes?isid=find-resumes&amp;ikw=SERPtop&amp;co=US&amp;hl=en\" id=\"rezLink\">Find Resumes</a></span><span class=\"navBi\"><a href=\"https://ads.indeed.com/?hl=en&amp;cc=US\" id=\"empLink\" onclick=\"if ( this.href.match('&amp;isid=employerlink-US-control&amp;ikw=SERPtop') == null ) { this.href += '&amp;isid=employerlink-US-control&amp;ikw=SERPtop' };\">Employers / Post Job</a></span></div>\\n</td>\\n<td align=\"right\" nowrap=\"\"><style type=\"text/css\">\\n\\n\\n#navpromo a,\\n#navpromo a:visited {\\ncolor: #f60;\\n}\\n.resume-promo .ico {\\nbackground: url(\"data:image/png;base64,iVBORw0KGgoAAAANSUhEUgAAABIAAAAYCAMAAADAi10DAAAAA3NCSVQICAjb4U/gAAAAdVBMVEX////x7/3v7vjl4vXj4PTi3/Lg3fHf2/Dd2u7c2O3a1+vZ1erX0+nW0ufU0ObSz+TRzePPy+LOyuDMyN+uqt+lpeaIiNojI84gIMoeHsccHMQaGsEXF74VFbsTE7gREbQODrEMDK4KCqsICKgFBaQDA6EBAZ54rl54AAAACXBIWXMAAArrAAAK6wGCiw1aAAAAHHRFWHRTb2Z0d2FyZQBBZG9iZSBGaXJld29ya3MgQ1M1cbXjNgAAABV0RVh0Q3JlYXRpb24gVGltZQA5LzEzLzExzT7gEAAAAIJJREFUGNOt0LsOgkAQRuFzkGhP5Ob7PxsmaCy5KDEWC0vEQgv/avPN7M5mzNkm5bqRY0ry2eX/6c5+Q2PO5RAoQdWx0GJUdaahVC2HlfpKVat+oa52Tt1peP4MJ6ABDBMzuAmQwSPQFKowxS4W8u2rX8jdSuGYtkR6tvPFleImfqEXCDYV9f9Fn8cAAAAASUVORK5CYII=\");width:18px; height:24px; margin-top: -3px;\\nvertical-align: middle;\\ndisplay: inline-block;\\n}\\n\\n\\n#u_nav .login_unconfirmed,\\n#u_nav .login_unconfirmed a,\\n#u_nav .login_unconfirmed a:visited {\\ncolor: #c00\\n}\\n\\n#u_nav .resume_pending,\\n#u_nav .resume_pending a,\\n#u_nav .resume_pending a:visited {\\ncolor: #c00\\n}\\n\\n#userOptionsLabel {\\nposition: relative;\\nz-index: 5;\\n}\\n\\n#userOptionsLabel b {\\ncursor: pointer;\\ntext-decoration: underline;\\nposition: relative;\\nz-index: 5;\\n}\\n\\n#userOptionsLabel:active {\\noutline: none;\\n}\\n\\n#userOptionsLabel.active {\\npadding: 9px 11px;\\nmargin-bottom: -1px;\\n_margin-bottom: 0px;\\nborder: 1px solid #ccc;\\nborder-top: 0;\\n}\\n\\n#userOptionsLabel.active b {\\ncolor: #666;\\n}\\n\\n#userOptionsLabel.active .arrowStub {\\nborder-width: 0 3px 3px;\\n_border-width: 0px 3px 4px;\\nborder-color: transparent;\\nborder-bottom-color: #666;\\ntop: -2px;\\nborder-style: dashed dashed solid;\\n}\\n\\n#userOptionsLabel.active .halfPxlFix {\\nbackground: #fff;\\nbottom: -3px;\\nheight: 6px;\\nleft: 0;\\nposition: absolute;\\nright: 0;\\nborder: 1px solid #fff;\\n}\\n\\n.arrowStub {\\nposition: relative;\\nborder-style: solid dashed dashed;\\nborder-color: transparent;\\nborder-top-color: #666;\\ndisplay: -moz-inline-box;\\ndisplay: inline-block;\\nfont-size: 0;\\nheight: 0;\\nline-height: 0;\\nwidth: 0;\\nleft: 4px;\\nborder-width: 3px 3px 0px;\\npadding-top: 1px;\\ntop: -1px;\\n}\\n\\n#userOptions {\\nz-index: 2;\\nvisibility: hidden;\\nposition: absolute;\\nright: 0;\\nx_right: -1px;\\ntop: 100%;\\npadding: 9px 15px;\\nborder: 1px solid #ccc;\\nbackground: #fff;\\nmin-width: 150px;\\n_width: 150px;\\ntext-align: left;\\n}\\n\\n#userOptions.open {\\nvisibility: visible;\\n}\\n\\n.userOptionItem {\\nmargin: 6px 0;\\n}\\n\\n.userOptionItem a {\\nwhite-space: nowrap;\\n}\\n\\n.userOptionGroup {\\nborder-top: 1px solid #e8e8e8;\\nmargin-top: 12px;\\n}\\n\\n.userNameRepeat {\\ncolor: #a8a8a8;\\npadding-right: 48px;\\nfont-weight: bold;\\n}\\n\\n</style>\\n<div id=\"u_nav\">\\n<script type=\"text/javascript\">\\nfunction isUserOptionsOpen() {\\nreturn document.getElementById('userOptions').className == 'open';\\n}\\n\\nfunction hideUserOptions(label, options) {\\noptions.className = '';\\nlabel.className = 'navBi';\\n}\\n\\nfunction toggleUserOptions(e) {\\nvar options = document.getElementById('userOptions');\\nvar label = document.getElementById('userOptionsLabel');\\nif (isUserOptionsOpen()) {\\nhideUserOptions(label, options);\\nif (!e.keyCode) {\\nlabel.blur();\\n}\\n} else {\\noptions.className = 'open';\\nlabel.className = 'navBi active';\\ndocument.onclick = function() {\\nhideUserOptions(label, options);\\ndocument.onclick = function() {\\n};\\n};\\nif (e.keyCode && e.keyCode == 13) {\\nvar fL = gbid('userOptions').getElementsByTagName('a')[0];\\nif (fL) {\\nfL.focus();\\n}\\n}\\nelse {\\nlabel.blur();\\n}\\n}\\nstopPropagation(e);\\n\\n}\\n\\nfunction stopPropagation(e) {\\nvar e = e || window.event;\\ne.stopPropagation ? e.stopPropagation() : e.cancelBubble = true;\\n}\\n\\n</script>\\n<script>\\n\\nfunction regExpEscape(s) {\\n    return String(s).replace(/([-()\\\\[\\\\]{}+?*.$\\\\^|,:#<!\\\\\\\\])/g, '\\\\\\\\$1').\\n            replace(/\\\\x08/g, '\\\\\\\\x08');\\n}\\n\\n\\nfunction appendParamsOnce(url, params) {\\n    var useParams = params.replace(/^(\\\\?|\\\\&)/, '');\\n    if (url.match(new RegExp('[\\\\\\\\?|\\\\\\\\&]' + regExpEscape(useParams))) == null) {\\n        return url += (url.indexOf('?') > 0 ? '&' : '?' ) + useParams;\\n    }\\n    return url;\\n}\\n\\n</script>\\n<div id=\"user_actions\">\\n<span class=\"navBi\"><span class=\"resume-promo\" id=\"navpromo\">\\n<a href=\"/promo/resume\" onclick=\"window.location=this.href + '?from=nav&amp;subfrom=rezprmstd&amp;trk.origin=jobsearch&amp;trk.variant=rezprmstd&amp;trk.tk=1aajc9uqub9h3aac'; return false;\">Upload your resume</a>\\n</span></span>\\n<span class=\"navBi\"><a href=\"http://www.indeed.com/account/login?dest=%2Fjobs%3Fq%3Ddata%2Bscientist\" id=\"userOptionsLabel\" rel=\"nofollow\">Sign in</a></span>\\n</div>\\n</div>\\n</td>\\n</tr>\\n</table>\\n</div>\\n<style type=\"text/css\">\\n#branding img { border: 0; }\\n#jobsearch { margin: 0 }\\n.inwrap { border-right: 1px solid #e8e8e8;border-bottom: 1px solid #e8e8e8;display:inline-block; }\\n.inwrap input { margin:0; height: 22px; font-family:Arial,sans-serif;border:1px solid #ccc;border-bottom-color:#aaa;border-right-color:#aaa; -webkit-border-radius: 0; -webkit-appearance: none; }\\n.inwrap .input_text { font-size:18px;padding:3px 6px;_margin: -1px 0; }\\n.inwrap .input_submit {color:#614041;font-size:15px;height:30px;background: #e8e8e8; padding:3px 9px;cursor:pointer;_padding:3px;}\\n.inwrap .input_submit:active { background: #ccc; }\\n.lnav  {width:100%;line-height:1;;font-size:10pt;}\\n.jsf .label {font-size:12px; line-height:1.2;padding-top:0;color:#aaa;font-weight:normal;white-space:nowrap;padding-right:1.5em}\\n.jsf .label label {font-weight:normal}\\n.jsf .sl { font-size: 11px; color: #77c; white-space: nowrap; }\\n.npb { padding-bottom: 0; color: #f60; text-transform: lowercase;font-weight:bold; }\\n.npl { padding-left: 0 }\\n\\n.acd { border: 1px solid #333; background: #fff; position:absolute; width:100%; z-index: 1; }\\n.aci { font-size: 18px; padding:1px 6px; cursor:pointer; }\\n.acis { background:#36c; color:#fff; }\\n\\n#tjobalerts .ws_label,\\n#bjobalerts .ws_label,\\n#tjobalerts .member,\\n#bjobalerts .member{ z-index: 1; }\\n#acr td { padding-top:0; padding-bottom:0; }\\n#acr td .h { display:none; }\\n\\n#what { width: 280px; }\\n#where { width: 260px; }\\n.inwrapBorder{border:1px solid #1c4ed9;border-top-color:#2f62f1;border-bottom-color:#133fbb;display:inline-block;width:auto}.inwrapBorderTop{border-top:1px solid #69F;display:inline-block;background-color:#3163f2;filter:progid:DXImageTransform.Microsoft.gradient(startColorstr='#3163F2',endColorstr='#2B57D5');background:-webkit-gradient(linear,left top,left bottom,from(#3163f2),to(#2b57d5));background:-moz-linear-gradient(top,#3163f2,#2b57d5);background:linear-gradient(top,#3163f2,#2b57d5)}.inwrapBorder .input_submit{background:transparent;border:0;color:#fff;font-family:Arial;font-size:15px;margin:0;padding:4px 9px;cursor:pointer;_padding:3px}.inwrapBorder a.input_submit{text-decoration:none;display:block}.inwrapBorder:hover{border-color:#235af6;border-top-color:#4072ff;border-bottom-color:#1e4fd9}.inwrapBorderTop:hover{border-top-color:#7ba7ff;background-color:#4273ff;filter:progid:DXImageTransform.Microsoft.gradient(startColorstr='#4273ff',endColorstr='#3364f1');background:-webkit-gradient(linear,left top,left bottom,from(#4273ff),to(#3364f1));background:-moz-linear-gradient(top,#4273ff,#3364f1);background:linear-gradient(top,#4273ff,#3364f1)}.inwrapBorder:active{border-color:#536db7;border-top-color:#4b69c1;border-bottom-color:#3753a6}.inwrapBorder:active .inwrapBorderTop{border-top-color:#6c82c1;background-color:#4b69c1;filter:progid:DXImageTransform.Microsoft.gradient(startColorstr='#4b69c1',endColorstr='#3753a6');background:-webkit-gradient(linear,left top,left bottom,from(#4b69c1),to(#3753a6));background:-moz-linear-gradient(top,#4b69c1,#3753a6);background:linear-gradient(top,#4b69c1,#3753a6)}.roundedCorner{display:inline-block;zoom:1;*display:inline;vertical-align:baseline;margin:0 2px;outline:0;cursor:pointer;text-align:center;text-decoration:none;font:15px/100% Arial,Helvetica,sans-serif;padding:.5em 2em .55em;text-shadow:0 1px 1px rgba(0,0,0,.3);-webkit-border-radius:.5em;-moz-border-radius:.5em;border-radius:.5em;-webkit-box-shadow:0 1px 2px rgba(0,0,0,.2);-moz-box-shadow:0 1px 2px rgba(0,0,0,.2);box-shadow:0 1px 2px rgba(0,0,0,.2)}.roundedCorner:hover{text-decoration:none}.roundedCorner:active{position:relative;top:1px}.bigrounded{-webkit-border-radius:2em;-moz-border-radius:2em;border-radius:2em}.medium{font-size:12px;padding:.4em 1.5em .42em}.small{font-size:11px;padding:.2em 1em .275em}.indeedblue{color:#d9eef7;border:solid 1px #1c4ed9;background:#3163f2;background:-webkit-gradient(linear,left top,left bottom,from(#2f62f1),to(#133fbb));background:-moz-linear-gradient(top,#2f62f1,#133fbb);filter:progid:DXImageTransform.Microsoft.gradient(startColorstr='#2F62F1',endColorstr='#133FBB')}.indeedblue:hover{background:#235af6;background:-webkit-gradient(linear,left top,left bottom,from(#4072ff),to(#1e4fd9));background:-moz-linear-gradient(top,#4072ff,#1e4fd9);filter:progid:DXImageTransform.Microsoft.gradient(startColorstr='#4072ff',endColorstr='#1e4fd9')}.indeedblue:active{color:#d9eef7;background:-webkit-gradient(linear,left top,left bottom,from(#4b69c1),to(#3753a6));background:-moz-linear-gradient(top,#4b69c1,#3753a6);filter:progid:DXImageTransform.Microsoft.gradient(startColorstr='#4b69c1',endColorstr='#3753a6')}</style>\\n<table border=\"0\" cellpadding=\"0\" cellspacing=\"0\"><tr><td width=\"1125\"><table cellpadding=\"0\" cellspacing=\"0\" class=\"lnav\" id=\"jobsearch-wrapper\">\\n<tr>\\n<td id=\"branding-td\" style=\"vertical-align:top;\"><a href=\"/\" id=\"branding\" onmousedown=\"ptk('logo');\"><img alt=\"one search. all jobs. Indeed\" height=\"72\" src=\"/images/indeed.png\" style=\"margin-bottom:6px\" width=\"175\"/></a></td>\\n<td style=\"padding-top:3px;\" valign=\"top\">\\n<form action=\"/jobs\" class=\"jsf\" id=\"jobsearch\" method=\"get\" name=\"js\" onsubmit=\"formptk('topsearch','where_ac','',['where_ac','what_ac'], ptk);formptk('topsearch','what_ac','w',['where_ac','what_ac'], ptk);\">\\n<table align=\"left\" cellpadding=\"3\" cellspacing=\"0\">\\n<tr class=\"jobsearch-labels\">\\n<td class=\"npb\"><label for=\"what\">What:</label></td>\\n<td class=\"npb\" colspan=\"3\"><label for=\"where\">Where:</label></td>\\n</tr>\\n<tr class=\"jobsearch-inputs\">\\n<td class=\"npl epr\"><span class=\"inwrap\"><input class=\"input_text\" id=\"what\" maxlength=\"512\" name=\"q\" size=\"31\" value=\"data scientist\"/></span><div style=\"width:250px\"><!-- --></div></td>\\n<td class=\"npl epr\"><span class=\"inwrap\"><input class=\"input_text\" id=\"where\" maxlength=\"45\" name=\"l\" size=\"27\" value=\"\"/></span><div style=\"width:200px\"><!-- --></div></td>\\n<td class=\"npl\" style=\"width:1px\"><span class=\"inwrapBorder\" style=\"width:auto;padding-right:0;\"><span class=\"inwrapBorderTop\"><input class=\"input_submit\" id=\"fj\" type=\"submit\" value=\"Find Jobs\"/></span></span></td>\\n<td class=\"npl\" style=\"width:240px;\"><div style=\"margin-left:12px\"><a class=\"sl\" href=\"/advanced_search?q=data+scientist\">Advanced Job Search</a></div></td>\\n</tr>\\n<tr id=\"acr\">\\n<td><span class=\"h\">\\xa0</span></td>\\n<td class=\"npl\" colspan=\"2\"><div style=\"position:relative;z-index:2\"><div class=\"acd\" id=\"acdiv\" style=\"display:none;\"></div></div></td>\\n<td><span class=\"h\">\\xa0</span></td>\\n</tr>\\n<tr id=\"acr\">\\n<td class=\"npl\" colspan=\"3\"><div style=\"position:relative;z-index:2\"><div class=\"acd\" id=\"what_acdiv\" style=\"display:none;\"></div></div></td>\\n<td><span class=\"h\">\\xa0</span></td>\\n</tr>\\n<tr valign=\"baseline\">\\n<td class=\"label\">\\n<label for=\"what\">job title, keywords or company</label>\\n</td>\\n<td class=\"label\" colspan=\"3\">\\n<label for=\"where\">city, state, or zip</label>\\n</td>\\n</tr>\\n</table>\\n</form>\\n</td>\\n</tr>\\n</table>\\n</td></tr></table>\\n<script type=\"text/javascript\">\\n\\n        initAutocomplete('where_ac', gbid('where'), gbid('acdiv'), '/rpc/suggest?from=serp&tk=1aajc9uqub9h3aac', function() { formptk('topsearch','where_ac', '', ['where_ac','what_ac'], ptk); }, gbid('where'));\\n        \\n        initAutocomplete('what_ac', gbid('what'), gbid('what_acdiv'), '/rpc/suggest?what=true&tk=1aajc9uqub9h3aac', function () {formptk('topsearch', 'what_ac', 'w', ['where_ac','what_ac'], ptk);}, gbid('what'));\\n        </script>\\n<script type=\"text/javascript\">\\nfunction rclk(el,jobdata,oc,sal) { var ocstr = oc ? '&onclick=1' : ''; document.cookie='RCLK=\"jk='+jobdata.jk+'&tk=1aajc9uqub9h3aac&from=web&rd='+jobdata.rd+'&qd=7tdTJLF8oc4dPpT7T_zGvGA3XpPBAN42oEhBbwa0-XP0q_5iKGXhGepJfZBzu_OotfUPPt8djQpSDQtsHOvCCR2UFEe9x-dhAAroNJG2N64YYwO80A_GaYtiIygNWHoe&ts=1454496873310&sal='+sal+ocstr+'\"; path=/'; return true;}\\nfunction zrprclk(el,jobdata,oc) { var ocstr = oc ? '&onclick=1' : ''; document.cookie='RCLK=\"jk='+jobdata.jk+'&tk=1aajc9uqub9h3aac&from=reconzrp&rd='+jobdata.rd+'&qd=7tdTJLF8oc4dPpT7T_zGvGA3XpPBAN42oEhBbwa0-XP0q_5iKGXhGepJfZBzu_OotfUPPt8djQpSDQtsHOvCCR2UFEe9x-dhAAroNJG2N64YYwO80A_GaYtiIygNWHoe&ts=1454496873310'+ocstr+'\"; path=/'; return true;}\\nfunction prjbottomclk(el,jobdata,oc) { var ocstr = oc ? '&onclick=1' : ''; document.cookie='RCLK=\"jk='+jobdata.jk+'&tk=1aajc9uqub9h3aac&from=reconserp&rd='+jobdata.rd+'&qd=7tdTJLF8oc4dPpT7T_zGvGA3XpPBAN42oEhBbwa0-XP0q_5iKGXhGepJfZBzu_OotfUPPt8djQpSDQtsHOvCCR2UFEe9x-dhAAroNJG2N64YYwO80A_GaYtiIygNWHoe&ts=1454496873310'+ocstr+'\"; path=/'; return true;}\\n\\n\\nvar jobmap = {};\\n\\njobmap[0]= {jk:'d6e8c1d7c9d3e44b',efccid: 'c6b08d75ec54bcdd',srcid:'d2f9d8d22bf0ab7a',cmpid:'df9ad718c5ba446e',num:'0',srcname:'Indeed',cmp:'NLB Services Pvt Ltd',cmpesc:'NLB Services Pvt Ltd',cmplnk:'/q-NLB-Services-Pvt-jobs.html',loc:'Redmond, WA',country:'US',zip:'',city:'Redmond',title:'Data Scientist',locid:'a7d60f4fa63c73eb',rd:'BvNCMOi6ebTuqTtC1vLQYw'};\\n\\njobmap[1]= {jk:'f7472c275cecf7e5',efccid: '7d0822004dfb5491',srcid:'e1949a59718e8361',cmpid:'edae4285faf6c2f0',num:'1',srcname:'Boeing',cmp:'BOEING',cmpesc:'BOEING',cmplnk:'/q-BOEING-jobs.html',loc:'North Charleston, SC 29418',country:'US',zip:'',city:'North Charleston',title:'IT Systems &amp; Data Analyst 1\\\\/2',locid:'b70d79d50c41c2d4',rd:'FzlTg_mIv5FOCOtUGrVy1LPZZoiRMyXsCX_uWSkaIYo'};\\n\\njobmap[2]= {jk:'704b0c495f64421f',efccid: '1241df67054e19ba',srcid:'32d15042dcdf67e5',cmpid:'628231f0a8b2c74f',num:'2',srcname:'Indeed',cmp:'Panton',cmpesc:'Panton',cmplnk:'/q-Panton-jobs.html',loc:'Houston, TX',country:'US',zip:'',city:'Houston',title:'Data Scientist and Scientific modeler',locid:'fcd454bec6232f93',rd:'sW-vM86xPV5FSo-z0X6I6w'};\\n\\njobmap[3]= {jk:'e448c9725df8a2d4',efccid: 'a675daf962532a2f',srcid:'8e6cad153e993978',cmpid:'0b209b5526418580',num:'3',srcname:'Indeed',cmp:'NLB Services Inc',cmpesc:'NLB Services Inc',cmplnk:'/q-NLB-Services-jobs.html',loc:'Redmond, WA',country:'US',zip:'',city:'Redmond',title:'Data Scientist',locid:'a7d60f4fa63c73eb',rd:'qzSUTqz6QzNTDT8zjuz0sw'};\\n\\njobmap[4]= {jk:'dac7a67b02b3597e',efccid: 'e62e74101437b2c3',srcid:'c957a4201d2572e1',cmpid:'03416f3f2828f00b',num:'4',srcname:'GreenSky',cmp:'GreenSky',cmpesc:'GreenSky',cmplnk:'/q-GreenSky-jobs.html',loc:'Atlanta, GA 30329',country:'US',zip:'30329',city:'Atlanta',title:'Fraud Data Scientist',locid:'966e6327a98f7e81',rd:'bFiDsmz5w75_pnxA5teZ6l_MKnaSAFGAsD6kfERFt3g'};\\n\\njobmap[5]= {jk:'ba49021c6cce3317',efccid: 'a4e58805a5de69ca',srcid:'b4f6293392abdab9',cmpid:'18ba1cb2d3d09fb1',num:'5',srcname:'Integral Ad Science',cmp:'Integral Ad Science',cmpesc:'Integral Ad Science',cmplnk:'/q-Integral-Ad-Science-jobs.html',loc:'New York, NY 10003',country:'US',zip:'',city:'New York',title:'Data Scientist',locid:'45f6c4ded55c00bf',rd:'Is5kgSBgRSamTnvKGp7lsA'};\\n\\njobmap[6]= {jk:'d65713b2802c42d0',efccid: 'c1c8f275b096aeb0',srcid:'6a26fe45fc06f809',cmpid:'b39fb6f124ce8586',num:'6',srcname:'comScore',cmp:'comScore',cmpesc:'comScore',cmplnk:'/q-comScore-jobs.html',loc:'Portland, OR',country:'US',zip:'',city:'Portland',title:'Data Scientist',locid:'55fe4d923dbe0a35',rd:'mlcWWhoEB84Ug9aTgB647npHiNhXzRhj_cnpiDh5URU'};\\n\\njobmap[7]= {jk:'5ed481859418cc82',efccid: '18f14cb98ae77f8d',srcid:'4dcc020227263ebe',cmpid:'4144c0c6235e4037',num:'7',srcname:'Prudential',cmp:'Prudential',cmpesc:'Prudential',cmplnk:'/q-Prudential-jobs.html',loc:'Newark, NJ',country:'US',zip:'',city:'Newark',title:'Lead Data Scientist, Vice President',locid:'fc0723f9333e9830',rd:'Sd6AFej8noMo2OfJ3EOmx1_MKnaSAFGAsD6kfERFt3g'};\\n\\njobmap[8]= {jk:'167f0bba5f99d8c0',efccid: 'c1c8f275b096aeb0',srcid:'6a26fe45fc06f809',cmpid:'b39fb6f124ce8586',num:'8',srcname:'comScore',cmp:'comScore',cmpesc:'comScore',cmplnk:'/q-comScore-jobs.html',loc:'New York, NY',country:'US',zip:'',city:'New York',title:'Data Scientist - Analytical Solutions',locid:'45f6c4ded55c00bf',rd:'BJMmApqLf7EDBTY5CIqAvHpHiNhXzRhj_cnpiDh5URU'};\\n\\njobmap[9]= {jk:'898d015f6f63e901',efccid: '5eaed5bbb7da1d83',srcid:'5d9820595e6936c4',cmpid:'fdb47418939d8206',num:'9',srcname:'Indeed',cmp:'Pinnacle Technical Resources Inc',cmpesc:'Pinnacle Technical Resources Inc',cmplnk:'/q-Pinnacle-Technical-Resources-jobs.html',loc:'San Francisco, CA',country:'US',zip:'',city:'San Francisco',title:'Data Scientist',locid:'6cf5e6d389fd6d6b',rd:'1Mu1vBDY1ZCXlf8teQydT9Pu-0bJyOrVXPgWOW9J5h0'};\\n</script>\\n<style type=\"text/css\">\\n.jobtitle {\\nfont-weight: bold;\\n}\\ntd.snip b, span.company b, #femp_list .jobtitle, #cmpinfo_list .jobtitle, .jobtitle .new {\\nfont-weight: normal;\\n}\\n</style>\\n<style type=\"text/css\">\\ndiv.row table tr td.snip { line-height: 1.4; }\\n</style>\\n<table border=\"0\" cellpadding=\"0\" cellspacing=\"0\" id=\"serpBody\"><tr><td>\\n<script type=\"text/javascript\">\\nwindow['ree'] = \"pdsssps\";\\nwindow['jas'] = \"nX7pip7P6\";\\n</script>\\n<style type=\"text/css\">\\n/*Required Styles for Default Grey Button*/\\n.btn, .sg-btn {\\n  display: inline-block;\\n  padding: 9px 15px;\\n  border: 1px solid #9a99ac;\\n  border-bottom-color: #a2a2a2;\\n  -webkit-border-radius: 6px;\\n  -moz-border-radius: 6px;\\n  -ms-border-radius: 6px;\\n  -o-border-radius: 6px;\\n  border-radius: 6px;\\n  background-color: #D9D9E2;\\n  background-image: -moz-linear-gradient(top, #f8f8f9, #D9D9E2);\\n  background-image: -webkit-gradient(linear, 0 0, 0 100%, from(#f8f8f9), to(#D9D9E2));\\n  background-image: -webkit-linear-gradient(top, #f8f8f9, #D9D9E2);\\n  background-image: linear-gradient(to bottom, #f8f8f9, #D9D9E2);\\n  background-repeat: repeat-x;\\n  -webkit-box-shadow: 0 1px 5px rgba(0, 0, 0, 0.2);\\n  -moz-box-shadow: 0 1px 5px rgba(0, 0, 0, 0.2);\\n  -ms-box-shadow: 0 1px 5px rgba(0, 0, 0, 0.2);\\n  -o-box-shadow: 0 1px 5px rgba(0, 0, 0, 0.2);\\n  box-shadow: 0 1px 5px rgba(0, 0, 0, 0.2);\\n  color: #333;\\n  vertical-align: middle;\\n  text-align: center;\\n  text-decoration: none;\\n  text-shadow: 0 1px #fff;\\n  font-weight: 700;\\n  font-size: 16px;\\n  font-family: \"Helvetica Neue\", Helvetica, Arial, \"Lucida Grande\", sans-serif;\\n  line-height: 22px;\\n  filter: progid:DXImageTransform.Microsoft.gradient(startColorstr='#F8F8F`9ff',endColorstr='#ffe6e6e6',GradientType=0);\\n  cursor: pointer;\\n  -webkit-user-select: none;\\n  -moz-user-select: none;\\n  -ms-user-select: none;\\n  -o-user-select: none;\\n  user-select: none;\\n  -webkit-touch-callout: none;\\n  -webkit-highlight: none;\\n  -webkit-tap-highlight-color: transparent;\\n  text-overflow: ellipsis;\\n  white-space: nowrap;\\n  overflow: hidden; }\\n  .btn.active,\\n  .btn.sg-active,\\n  .btn:active,\\n  .btn.disabled,\\n  .btn.sg-disabled,\\n  .btn[disabled], .sg-btn.active,\\n  .sg-btn.sg-active,\\n  .sg-btn:active,\\n  .sg-btn.disabled,\\n  .sg-btn.sg-disabled,\\n  .sg-btn[disabled] {\\n    outline: none;\\n    background-color: #f8f8f9;\\n    color: #333; }\\n  .btn:focus, .sg-btn:focus {\\n    outline: 0;\\n    box-shadow: 0 0 1px 0 #1642bb;\\n    -webkit-transition: box-shadow 0.2s linear;\\n    -moz-transition: box-shadow 0.2s linear;\\n    transition: box-shadow 0.2s linear; }\\n  .btn.active,\\n  .btn.sg-active,\\n  .btn:active, .sg-btn.active,\\n  .sg-btn.sg-active,\\n  .sg-btn:active {\\n    background-color: #f8f8f9;\\n    background-image: none;\\n    -webkit-box-shadow: inset 0 2px 4px rgba(0, 0, 0, 0.15), 0 1px 2px rgba(0, 0, 0, 0.05);\\n    -moz-box-shadow: inset 0 2px 4px rgba(0, 0, 0, 0.15), 0 1px 2px rgba(0, 0, 0, 0.05);\\n    box-shadow: inset 0 2px 4px rgba(0, 0, 0, 0.15), 0 1px 2px rgba(0, 0, 0, 0.05); }\\n  .btn.disabled,\\n  .btn.sg-disabled,\\n  .btn[disabled], .sg-btn.disabled,\\n  .sg-btn.sg-disabled,\\n  .sg-btn[disabled] {\\n    background-color: #f8f8f9;\\n    background-image: none;\\n    -webkit-box-shadow: none;\\n    -moz-box-shadow: none;\\n    box-shadow: none;\\n    opacity: .65;\\n    filter: alpha(opacity=65);\\n    cursor: default; }\\n\\n/*Required Styles for Blue Primary Button - Dependent on Default Button Styles*/\\n.btn-primary,\\n.sg-btn-primary {\\n  border-color: #1642bb;\\n  background-color: #5585f2;\\n  background-image: -moz-linear-gradient(top, #6598ff, #2e5ad7);\\n  background-image: -webkit-gradient(linear, 0 0, 0 100%, from(#6598ff), to(#2e5ad7));\\n  background-image: -webkit-linear-gradient(top, #6598ff, #2e5ad7);\\n  background-image: linear-gradient(to bottom, #6598ff, #2e5ad7);\\n  background-repeat: repeat-x;\\n  color: #F8F8F9;\\n  text-shadow: 0 -1px #0f2299;\\n  -ms-filter: progid:DXImageTransform.Microsoft.dropshadow(OffX=0,OffY=-1,Color=#e80f2299,Positive=true);\\n  filter: progid:DXImageTransform.Microsoft.dropshadow(OffX=0,OffY=-1,Color=#e80f2299,Positive=true);\\n  filter: progid:DXImageTransform.Microsoft.gradient(startColorstr='#ff6598fe',endColorstr='#ff3c69e0',GradientType=0);\\n  zoom: 1; }\\n  .btn-primary.active,\\n  .btn-primary.sg-active,\\n  .btn-primary:active,\\n  .btn-primary.disabled,\\n  .btn-primary.sg-disabled,\\n  .btn-primary[disabled],\\n  .sg-btn-primary.active,\\n  .sg-btn-primary.sg-active,\\n  .sg-btn-primary:active,\\n  .sg-btn-primary.disabled,\\n  .sg-btn-primary.sg-disabled,\\n  .sg-btn-primary[disabled] {\\n    background-color: #2e5ad7;\\n    color: #F8F8F9; }\\n  .btn-primary:focus,\\n  .sg-btn-primary:focus {\\n    box-shadow: 0 0 1px 0 #000; }\\n\\n.btn-special,\\n.sg-btn-special {\\n  border-color: #ba3200;\\n  background-color: #5585f2;\\n  background-image: -moz-linear-gradient(top, #f60, #f14200);\\n  background-image: -webkit-gradient(linear, 0 0, 0 100%, from(#f60), to(#f14200));\\n  background-image: -webkit-linear-gradient(top, #f60, #f14200);\\n  background-image: linear-gradient(to bottom, #f60, #f14200);\\n  background-repeat: repeat-x;\\n  color: #F8F8F9;\\n  text-shadow: 0 -1px #000;\\n  -ms-filter: progid:DXImageTransform.Microsoft.dropshadow(OffX=0,OffY=-1,Color=#e80f2299,Positive=true);\\n  filter: progid:DXImageTransform.Microsoft.dropshadow(OffX=0,OffY=-1,Color=#e80f2299,Positive=true);\\n  filter: progid:DXImageTransform.Microsoft.gradient(startColorstr='#ff6598fe',endColorstr='#ff3c69e0',GradientType=0);\\n  zoom: 1; }\\n  .btn-special.active,\\n  .btn-special.sg-active,\\n  .btn-special:active,\\n  .btn-special.disabled,\\n  .btn-special.sg-disabled,\\n  .btn-special[disabled],\\n  .sg-btn-special.active,\\n  .sg-btn-special.sg-active,\\n  .sg-btn-special:active,\\n  .sg-btn-special.disabled,\\n  .sg-btn-special.sg-disabled,\\n  .sg-btn-special[disabled] {\\n    background-color: #f14200;\\n    color: #F8F8F9; }\\n  .btn-special:focus,\\n  .sg-btn-special:focus {\\n    box-shadow: 0 0 1px 0 #000; }\\n\\n.btn-danger,\\n.sg-btn-danger {\\n  border-color: #83121b;\\n  background-color: #5585f2;\\n  background-image: -moz-linear-gradient(top, #d1787f, #b01825);\\n  background-image: -webkit-gradient(linear, 0 0, 0 100%, from(#d1787f), to(#b01825));\\n  background-image: -webkit-linear-gradient(top, #d1787f, #b01825);\\n  background-image: linear-gradient(to bottom, #d1787f, #b01825);\\n  background-repeat: repeat-x;\\n  color: #F8F8F9;\\n  text-shadow: 0 -1px #000;\\n  -ms-filter: progid:DXImageTransform.Microsoft.dropshadow(OffX=0,OffY=-1,Color=#e80f2299,Positive=true);\\n  filter: progid:DXImageTransform.Microsoft.dropshadow(OffX=0,OffY=-1,Color=#e80f2299,Positive=true);\\n  filter: progid:DXImageTransform.Microsoft.gradient(startColorstr='#ff6598fe',endColorstr='#ff3c69e0',GradientType=0);\\n  zoom: 1; }\\n  .btn-danger.active,\\n  .btn-danger.sg-active,\\n  .btn-danger:active,\\n  .btn-danger.disabled,\\n  .btn-danger.sg-disabled,\\n  .btn-danger[disabled],\\n  .sg-btn-danger.active,\\n  .sg-btn-danger.sg-active,\\n  .sg-btn-danger:active,\\n  .sg-btn-danger.disabled,\\n  .sg-btn-danger.sg-disabled,\\n  .sg-btn-danger[disabled] {\\n    background-color: #b01825;\\n    color: #F8F8F9; }\\n  .btn-danger:focus,\\n  .sg-btn-danger:focus {\\n    box-shadow: 0 0 1px 0 #000; }\\n\\ninput.btn,\\ninput.sg-btn {\\n  -webkit-appearance: none; }\\n\\nbutton.btn::-moz-focus-inner,\\nbutton.sg-btn::-moz-focus-inner {\\n  border: 0; }\\n\\n/*Required Styles for Alternate Button Sizes*/\\n.btn-sm,\\n.sg-btn-sm,\\n.btn-xs,\\n.sg-bt-xs {\\n  padding: 6px 12px; }\\n\\n.btn-xs,\\n.sg-btn-xs {\\n  padding: 3px 6px;\\n  line-height: 15px; }\\n\\n.btn-md,\\n.sg-btn-md {\\n  padding: 6px 6px; }\\n\\n.btn-lg,\\n.sg-btn-lg {\\n  padding: 9px 18px;\\n  border-radius: 6px;\\n  font-size: 18px; }\\n\\n/*Required Styles for Block Level Buttons (fill parent container) - Dependent on Default Button Styles*/\\n.btn-block,\\n.sg-btn-block {\\n  display: block;\\n  margin: 9px auto;\\n  -webkit-box-sizing: border-box !important;\\n  -moz-box-sizing: border-box !important;\\n  box-sizing: border-box !important;\\n  max-width: 352px; }\\n\\n.btn-block-compact,\\n.sg-btn-block-compact {\\n  margin: 2px auto; }\\n\\ninput.btn-block,\\ninput.sg-btn-block,\\nbutton.btn-block,\\nbutton.sg-btn-block {\\n  width: 100%;\\n  max-width: 351px; }\\n\\n.btn-block + .btn-block,\\n.sg-btn-block + .sg-btn-block {\\n  margin-top: 5px; }\\n\\n#buttonContainer .btn,\\n#buttonContainer .sg-btn {\\n  margin: 0; }\\n\\n.btn-icon .cssImage {\\n  margin-bottom: -40px;\\n  position: relative;\\n  top: -27px; }\\n\\n.btn-pair {\\n  -webkit-box-sizing: border-box !important;\\n  -moz-box-sizing: border-box !important;\\n  box-sizing: border-box !important;\\n  width: 49%; }\\n\\n#refineresultscol {\\n  width: 184px; }\\n\\n#refineresults {\\n  width: 180px; }\\n\\n#branding-td {\\n  width: 186px;\\n  text-align: center; }\\n\\n.ltr #searchCount {\\n  margin-right: 4px;\\n  margin-left: 4px; }\\n\\n.ltr #resultsCol .sorting {\\n  padding-right: 4px; }\\n\\n.ltr #resultsCol .showing {\\n  padding-left: 4px; }\\n\\n.ltr #jobsearch {\\n  padding-left: 4px; }\\n\\n.rtl #searchCount {\\n  margin-left: 4px;\\n  margin-right: 4px; }\\n\\n.rtl #resultsCol .sorting {\\n  padding-left: 4px; }\\n\\n.rtl #resultsCol .showing {\\n  padding-right: 4px; }\\n\\n.rtl #jobsearch {\\n  padding-right: 4px; }\\n\\n.jaui,\\n.hasu .gasc,\\n.row,\\n.message,\\n.oocs {\\n  padding-left: 4px;\\n  padding-right: 4px; }\\n\\n#resumePromo {\\n  padding-left: 4px;\\n  padding-right: 4px; }\\n\\n#primePromo {\\n  padding-left: 4px;\\n  padding-right: 4px; }\\n\\n@media only screen and (min-width: 1125px) {\\n  .ltr #refineresults {\\n    padding-left: 15px; }\\n  .ltr #branding img {\\n    margin-left: 16px;\\n    margin-right: 28px; }\\n  .rtl #refineresults {\\n    padding-right: 15px; }\\n  .rtl #branding img {\\n    margin-right: 16px;\\n    margin-left: 28px; }\\n  .ltr #searchCount {\\n    margin-right: 12px;\\n    margin-left: 12px; }\\n  .ltr #resultsCol .sorting {\\n    padding-right: 12px; }\\n  .ltr #resultsCol .showing {\\n    padding-left: 12px; }\\n  .ltr #jobsearch {\\n    padding-left: 12px; }\\n  .rtl #searchCount {\\n    margin-left: 12px;\\n    margin-right: 12px; }\\n  .rtl #resultsCol .sorting {\\n    padding-left: 12px; }\\n  .rtl #resultsCol .showing {\\n    padding-right: 12px; }\\n  .rtl #jobsearch {\\n    padding-right: 12px; }\\n  .jaui,\\n  .hasu .gasc,\\n  .row,\\n  .message,\\n  .oocs {\\n    padding-left: 12px;\\n    padding-right: 12px; }\\n  #resumePromo {\\n    padding-left: 12px;\\n    padding-right: 12px; }\\n  #primePromo {\\n    padding-left: 12px;\\n    padding-right: 12px; }\\n  #serpBody {\\n    width: 1125px; }\\n  #refineresultscol, #branding-td {\\n    width: 225px; }\\n  #refineresults {\\n    width: 210px; } }\\n\\n@media only screen and (min-width: 1250px) {\\n  .jasxcolumnwidthtst-expandRight #serpBody {\\n    width: 1250px; }\\n  .jasxcolumnwidthtst-expandRight .ltr #refineresults {\\n    padding-left: 15px; }\\n  .jasxcolumnwidthtst-expandRight .ltr #branding img {\\n    margin-left: 16px;\\n    margin-right: 28px; }\\n  .jasxcolumnwidthtst-expandRight .rtl #refineresults {\\n    padding-right: 15px; }\\n  .jasxcolumnwidthtst-expandRight .rtl #branding img {\\n    margin-right: 16px;\\n    margin-left: 28px; }\\n  .jasxcolumnwidthtst-expandRight .ltr #searchCount {\\n    margin-right: 12px;\\n    margin-left: 12px; }\\n  .jasxcolumnwidthtst-expandRight .ltr #resultsCol .sorting {\\n    padding-right: 12px; }\\n  .jasxcolumnwidthtst-expandRight .ltr #resultsCol .showing {\\n    padding-left: 12px; }\\n  .jasxcolumnwidthtst-expandRight .ltr #jobsearch {\\n    padding-left: 12px; }\\n  .jasxcolumnwidthtst-expandRight .rtl #searchCount {\\n    margin-left: 12px;\\n    margin-right: 12px; }\\n  .jasxcolumnwidthtst-expandRight .rtl #resultsCol .sorting {\\n    padding-left: 12px; }\\n  .jasxcolumnwidthtst-expandRight .rtl #resultsCol .showing {\\n    padding-right: 12px; }\\n  .jasxcolumnwidthtst-expandRight .rtl #jobsearch {\\n    padding-right: 12px; }\\n  .jasxcolumnwidthtst-expandRight .jaui,\\n  .jasxcolumnwidthtst-expandRight .hasu .gasc,\\n  .jasxcolumnwidthtst-expandRight .row,\\n  .jasxcolumnwidthtst-expandRight .message,\\n  .jasxcolumnwidthtst-expandRight .oocs {\\n    padding-left: 12px;\\n    padding-right: 12px; }\\n  .jasxcolumnwidthtst-expandRight #resumePromo {\\n    padding-left: 12px;\\n    padding-right: 12px; }\\n  .jasxcolumnwidthtst-expandRight #primePromo {\\n    padding-left: 12px;\\n    padding-right: 12px; }\\n  .jasxcolumnwidthtst-expandRight #auxCol {\\n    width: 365px; }\\n  .jasxcolumnwidthtst-expandLeft #serpBody {\\n    width: 1175px; }\\n  .jasxcolumnwidthtst-expandLeft .ltr #refineresults {\\n    padding-left: 15px; }\\n  .jasxcolumnwidthtst-expandLeft .ltr #branding img {\\n    margin-left: 16px;\\n    margin-right: 28px; }\\n  .jasxcolumnwidthtst-expandLeft .rtl #refineresults {\\n    padding-right: 15px; }\\n  .jasxcolumnwidthtst-expandLeft .rtl #branding img {\\n    margin-right: 16px;\\n    margin-left: 28px; }\\n  .jasxcolumnwidthtst-expandLeft .ltr #searchCount {\\n    margin-right: 12px;\\n    margin-left: 12px; }\\n  .jasxcolumnwidthtst-expandLeft .ltr #resultsCol .sorting {\\n    padding-right: 12px; }\\n  .jasxcolumnwidthtst-expandLeft .ltr #resultsCol .showing {\\n    padding-left: 12px; }\\n  .jasxcolumnwidthtst-expandLeft .ltr #jobsearch {\\n    padding-left: 12px; }\\n  .jasxcolumnwidthtst-expandLeft .rtl #searchCount {\\n    margin-left: 12px;\\n    margin-right: 12px; }\\n  .jasxcolumnwidthtst-expandLeft .rtl #resultsCol .sorting {\\n    padding-left: 12px; }\\n  .jasxcolumnwidthtst-expandLeft .rtl #resultsCol .showing {\\n    padding-right: 12px; }\\n  .jasxcolumnwidthtst-expandLeft .rtl #jobsearch {\\n    padding-right: 12px; }\\n  .jasxcolumnwidthtst-expandLeft .jaui,\\n  .jasxcolumnwidthtst-expandLeft .hasu .gasc,\\n  .jasxcolumnwidthtst-expandLeft .row,\\n  .jasxcolumnwidthtst-expandLeft .message,\\n  .jasxcolumnwidthtst-expandLeft .oocs {\\n    padding-left: 12px;\\n    padding-right: 12px; }\\n  .jasxcolumnwidthtst-expandLeft #resumePromo {\\n    padding-left: 12px;\\n    padding-right: 12px; }\\n  .jasxcolumnwidthtst-expandLeft #primePromo {\\n    padding-left: 12px;\\n    padding-right: 12px; }\\n  .jasxcolumnwidthtst-expandLeft #refineresultscol, .jasxcolumnwidthtst-expandLeft #branding-td {\\n    width: 275px; }\\n  .jasxcolumnwidthtst-expandLeft #refineresults {\\n    width: 260px; }\\n  .jasxcolumnwidthtst-expandBoth #serpBody {\\n    width: 1250px; }\\n  .jasxcolumnwidthtst-expandBoth #auxCol {\\n    width: 315px; }\\n  .jasxcolumnwidthtst-expandBoth .ltr #refineresults {\\n    padding-left: 15px; }\\n  .jasxcolumnwidthtst-expandBoth .ltr #branding img {\\n    margin-left: 16px;\\n    margin-right: 28px; }\\n  .jasxcolumnwidthtst-expandBoth .rtl #refineresults {\\n    padding-right: 15px; }\\n  .jasxcolumnwidthtst-expandBoth .rtl #branding img {\\n    margin-right: 16px;\\n    margin-left: 28px; }\\n  .jasxcolumnwidthtst-expandBoth .ltr #searchCount {\\n    margin-right: 12px;\\n    margin-left: 12px; }\\n  .jasxcolumnwidthtst-expandBoth .ltr #resultsCol .sorting {\\n    padding-right: 12px; }\\n  .jasxcolumnwidthtst-expandBoth .ltr #resultsCol .showing {\\n    padding-left: 12px; }\\n  .jasxcolumnwidthtst-expandBoth .ltr #jobsearch {\\n    padding-left: 12px; }\\n  .jasxcolumnwidthtst-expandBoth .rtl #searchCount {\\n    margin-left: 12px;\\n    margin-right: 12px; }\\n  .jasxcolumnwidthtst-expandBoth .rtl #resultsCol .sorting {\\n    padding-left: 12px; }\\n  .jasxcolumnwidthtst-expandBoth .rtl #resultsCol .showing {\\n    padding-right: 12px; }\\n  .jasxcolumnwidthtst-expandBoth .rtl #jobsearch {\\n    padding-right: 12px; }\\n  .jasxcolumnwidthtst-expandBoth .jaui,\\n  .jasxcolumnwidthtst-expandBoth .hasu .gasc,\\n  .jasxcolumnwidthtst-expandBoth .row,\\n  .jasxcolumnwidthtst-expandBoth .message,\\n  .jasxcolumnwidthtst-expandBoth .oocs {\\n    padding-left: 12px;\\n    padding-right: 12px; }\\n  .jasxcolumnwidthtst-expandBoth #resumePromo {\\n    padding-left: 12px;\\n    padding-right: 12px; }\\n  .jasxcolumnwidthtst-expandBoth #primePromo {\\n    padding-left: 12px;\\n    padding-right: 12px; }\\n  .jasxcolumnwidthtst-expandBoth #refineresultscol, .jasxcolumnwidthtst-expandBoth #branding-td {\\n    width: 275px; }\\n  .jasxcolumnwidthtst-expandBoth #refineresults {\\n    width: 260px; } }\\n\\n.jobsearch-labels td label {\\n  -webkit-transition: all 0.2s;\\n  -moz-transition: all 0.2s;\\n  -ms-transition: all 0.2s;\\n  -o-transition: all 0.2s;\\n  transition: all 0.2s; }\\n\\n.label label {\\n  -webkit-transition: all 0.2s;\\n  -moz-transition: all 0.2s;\\n  -ms-transition: all 0.2s;\\n  -o-transition: all 0.2s;\\n  transition: all 0.2s; }\\n\\n#branding-td {\\n  padding: 5px 0 5px 0px; }\\n\\n#branding img {\\n  -webkit-transition: all 0.2s;\\n  -moz-transition: all 0.2s;\\n  -ms-transition: all 0.2s;\\n  -o-transition: all 0.2s;\\n  transition: all 0.2s; }\\n\\n.jobsearch-fixed.jasxserpfixedsrchtst-basic #jobsearch-wrapper, .jobsearch-fixed.jasxserpfixedsrchtst-compact #jobsearch-wrapper, .jobsearch-fixed.jasxserpfixedsrchtst-nano #jobsearch-wrapper {\\n  position: fixed;\\n  background: white;\\n  top: 0;\\n  border-bottom: 1px solid #ccc;\\n  z-index: 999;\\n  -webkit-box-shadow: 0 0 10px 0 #aaa;\\n  -moz-box-shadow: 0 0 10px 0 #aaa;\\n  -ms-box-shadow: 0 0 10px 0 #aaa;\\n  -o-box-shadow: 0 0 10px 0 #aaa;\\n  box-shadow: 0 0 10px 0 #aaa; }\\n\\n.jobsearch-fixed.jasxserpfixedsrchtst-basic #pageContent, .jobsearch-fixed.jasxserpfixedsrchtst-compact #pageContent, .jobsearch-fixed.jasxserpfixedsrchtst-nano #pageContent {\\n  margin-top: 92px; }\\n\\n.jobsearch-fixed.jasxserpfixedsrchtst-compact #jobsearch-wrapper #branding, .jobsearch-fixed.jasxserpfixedsrchtst-nano #jobsearch-wrapper #branding {\\n  display: inline-block;\\n  overflow: hidden; }\\n\\n.jobsearch-fixed.jasxserpfixedsrchtst-compact #jobsearch-wrapper .jobsearch-labels td, .jobsearch-fixed.jasxserpfixedsrchtst-nano #jobsearch-wrapper .jobsearch-labels td {\\n  position: relative; }\\n  .jobsearch-fixed.jasxserpfixedsrchtst-compact #jobsearch-wrapper .jobsearch-labels td label, .jobsearch-fixed.jasxserpfixedsrchtst-nano #jobsearch-wrapper .jobsearch-labels td label {\\n    position: absolute;\\n    top: 24px;\\n    left: 8px;\\n    font-size: 1.2em; }\\n\\n.jobsearch-fixed.jasxserpfixedsrchtst-compact #jobsearch-wrapper .jobsearch-inputs td input, .jobsearch-fixed.jasxserpfixedsrchtst-nano #jobsearch-wrapper .jobsearch-inputs td input {\\n  box-sizing: border-box;\\n  height: 30px; }\\n  .jobsearch-fixed.jasxserpfixedsrchtst-compact #jobsearch-wrapper .jobsearch-inputs td input#what, .jobsearch-fixed.jasxserpfixedsrchtst-nano #jobsearch-wrapper .jobsearch-inputs td input#what {\\n    padding-left: 53px;\\n    width: 294px; }\\n  .jobsearch-fixed.jasxserpfixedsrchtst-compact #jobsearch-wrapper .jobsearch-inputs td input#where, .jobsearch-fixed.jasxserpfixedsrchtst-nano #jobsearch-wrapper .jobsearch-inputs td input#where {\\n    padding-left: 63px;\\n    width: 274px; }\\n\\n.jobsearch-fixed.jasxserpfixedsrchtst-compact #jobsearch-wrapper #branding {\\n  height: 45px; }\\n\\n.jobsearch-fixed.jasxserpfixedsrchtst-compact #jobsearch-wrapper .jobsearch-labels td label {\\n  top: 24px;\\n  left: 8px; }\\n\\n.jobsearch-fixed.jasxserpfixedsrchtst-compact #jobsearch-wrapper .jobsearch-inputs td {\\n  padding-top: 15px; }\\n\\n.jobsearch-fixed.jasxserpfixedsrchtst-compact #jobsearch-wrapper .label label {\\n  position: absolute;\\n  top: 5px; }\\n\\n.jobsearch-fixed.jasxserpfixedsrchtst-nano #jobsearch-wrapper #branding-td {\\n  padding: 0; }\\n\\n.jobsearch-fixed.jasxserpfixedsrchtst-nano #jobsearch-wrapper #branding {\\n  height: 33px;\\n  margin-top: 5px; }\\n  .jobsearch-fixed.jasxserpfixedsrchtst-nano #jobsearch-wrapper #branding img {\\n    height: 50px;\\n    width: 121px; }\\n\\n.jobsearch-fixed.jasxserpfixedsrchtst-nano #jobsearch-wrapper .jobsearch-labels td label {\\n  top: 11px;\\n  left: 8px; }\\n\\n.jobsearch-fixed.jasxserpfixedsrchtst-nano #jobsearch-wrapper .jobsearch-inputs td {\\n  padding-top: 2px; }\\n\\n.jobsearch-fixed.jasxserpfixedsrchtst-nano #jobsearch-wrapper .label label {\\n  display: none; }\\n</style>\\n<style type=\"text/css\">\\n.basePromo{margin-top:8px;margin-bottom:13px;padding-left:12px;padding-right:12px}.redText{color:red}.bold{font-weight:bold}.basePromo.resume{font-size:14px;margin-top:5px}.basePromo.resume>img{margin-right:5px;margin-bottom:3px}</style>\\n<table border=\"0\" cellpadding=\"0\" cellspacing=\"0\" id=\"pageContent\" width=\"100%\">\\n<tr valign=\"top\">\\n<td data-tn-section=\"refineBy\" id=\"refineresultscol\">\\n<script type=\"text/javascript\">setOpenSectionsCookie( ':rb_Salary Estimate:recentsearches:refineresults' );</script>\\n<div id=\"refineresults\">\\n<h1><font size=\"+1\">data scientist jobs</font></h1>\\n<div style=\"margin-left: 6px; margin-bottom: 1em;\">Sort\\xa0by: <nobr><b>relevance</b> -\\n            <a href=\"/jobs?q=data+scientist&amp;sort=date\" rel=\"nofollow\">date</a></nobr></div>\\n<script type=\"text/javascript\">\\nfunction handleRefine(isEvaluated, type, cookieValue) {\\nif (!isEvaluated) {\\ngetRefineByOptions(type);\\n}\\ntoggleRefineBy(cookieValue);\\nreturn false;\\n}\\n</script>\\n<div class=\"rbSection rbOpen\" id=\"rb_Salary Estimate\">\\n<div class=\"rbHeader\">\\n<span class=\"ws_label\" onclick=\"handleRefine(true, 'SALARY', 'rb_Salary Estimate')\" onkeyup=\"if (event.keyCode == 13) {handleRefine(true, 'SALARY', 'rb_Salary Estimate')}\" tabindex=\"0\">\\n<span class=\"ico\"></span>\\nSalary Estimate</span>\\n</div>\\n<div class=\"rbsrbo\" id=\"SALARY_rbo\">\\n<ul class=\"rbList\">\\n<li onmousedown=\"rbptk('rb', 'salest', '1');\">\\n<a href=\"/q-data-scientist-$45,000-jobs.html\" rel=\"nofollow\" title=\"$45,000+ (18818)\">$45,000+</a> (18818)</li>\\n<li onmousedown=\"rbptk('rb', 'salest', '2');\">\\n<a href=\"/q-data-scientist-$60,000-jobs.html\" rel=\"nofollow\" title=\"$60,000+ (15337)\">$60,000+</a> (15337)</li>\\n<li onmousedown=\"rbptk('rb', 'salest', '3');\">\\n<a href=\"/q-data-scientist-$75,000-jobs.html\" rel=\"nofollow\" title=\"$75,000+ (11703)\">$75,000+</a> (11703)</li>\\n<li onmousedown=\"rbptk('rb', 'salest', '4');\">\\n<a href=\"/q-data-scientist-$90,000-jobs.html\" rel=\"nofollow\" title=\"$90,000+ (7843)\">$90,000+</a> (7843)</li>\\n<li onmousedown=\"rbptk('rb', 'salest', '5');\">\\n<a href=\"/q-data-scientist-$110,000-jobs.html\" rel=\"nofollow\" title=\"$110,000+ (3874)\">$110,000+</a> (3874)</li>\\n</ul>\\n</div>\\n</div>\\n<div class=\"rbSection \" id=\"rb_Company\">\\n<div class=\"rbHeader\">\\n<span class=\"ws_label\" onclick=\"handleRefine(false, 'COMPANY', 'rb_Company')\" onkeyup=\"if (event.keyCode == 13) {handleRefine(false, 'COMPANY', 'rb_Company')}\" tabindex=\"0\">\\n<span class=\"ico\"></span>\\nCompany</span>\\n</div>\\n<div class=\"rbsrbo\" id=\"COMPANY_rbo\">\\n</div>\\n</div>\\n<div class=\"rbSection \" id=\"rb_Location\">\\n<div class=\"rbHeader\">\\n<span class=\"ws_label\" onclick=\"handleRefine(false, 'LOCATION', 'rb_Location')\" onkeyup=\"if (event.keyCode == 13) {handleRefine(false, 'LOCATION', 'rb_Location')}\" tabindex=\"0\">\\n<span class=\"ico\"></span>\\nLocation</span>\\n</div>\\n<div class=\"rbsrbo\" id=\"LOCATION_rbo\">\\n</div>\\n</div>\\n<div class=\"rbSection \" id=\"rb_Job Type\">\\n<div class=\"rbHeader\">\\n<span class=\"ws_label\" onclick=\"handleRefine(false, 'JOB_TYPE', 'rb_Job Type')\" onkeyup=\"if (event.keyCode == 13) {handleRefine(false, 'JOB_TYPE', 'rb_Job Type')}\" tabindex=\"0\">\\n<span class=\"ico\"></span>\\nJob Type</span>\\n</div>\\n<div class=\"rbsrbo\" id=\"JOB_TYPE_rbo\">\\n</div>\\n</div>\\n</div>\\n</td>\\n<td id=\"resultsCol\">\\n<div class=\"messageContainer\">\\n<script type=\"text/javascript\">\\nfunction setJaPromoCookie() {\\nvar expires = new Date();\\nexpires.setTime(expires.getTime() + (5 * 365 * 24 * 60 * 60 * 1000));\\nsetCookie(\"showJaPromo\", \"1\", expires);\\n}\\n</script>\\n<p class=\"message\">Tip: Enter your zip code in the \"where\" box to show results in your area.</p>\\n</div>\\n<style type=\"text/css\">\\n#increased_radius_result {\\nfont-size: 16px;\\nfont-style: italic;\\n}\\n#original_radius_result{\\nfont-size: 13px;\\nfont-style: italic;\\ncolor: #666666;\\n}\\n</style>\\n<div style=\"padding-top:9px;\"><div id=\"searchCount\">Jobs 1 to 10 of 21,557</div>\\n<div data-tn-section=\"primePromo\" id=\"primePromo\">\\n<span class=\"new\">New!</span> <a href=\"/promo/prime\" onmousedown=\"this.href = appendParamsOnce( this.href, '?from=serptop&amp;subfrom=primeprmtop&amp;trk.origin=jobsearch&amp;trk.variant=primeprmtop&amp;trk.tk=1aajc9uqub9h3aac&amp;vertical=TECH&amp;x_isid=serptop&amp;x_ikw=data+scientist')\">Join Indeed Prime</a> - Get offers from great tech companies</div></div>\\n<div class=\" row result\" data-jk=\"d6e8c1d7c9d3e44b\" data-tn-component=\"organicJob\" id=\"p_d6e8c1d7c9d3e44b\" itemscope=\"\" itemtype=\"http://schema.org/JobPosting\">\\n<h2 class=\"jobtitle\" id=\"jl_d6e8c1d7c9d3e44b\">\\n<a class=\"turnstileLink\" data-tn-element=\"jobTitle\" href=\"/cmp/Metasys/jobs/Data-Scientist-d6e8c1d7c9d3e44b?r=1\" itemprop=\"title\" onclick=\"return rclk(this,jobmap[0],true,0);\" onmousedown=\"return rclk(this,jobmap[0],0);\" rel=\"nofollow\" target=\"_blank\" title=\"Data Scientist\"><b>Data</b> <b>Scientist</b></a>\\n</h2>\\n<span class=\"company\" itemprop=\"hiringOrganization\" itemtype=\"http://schema.org/Organization\">\\n<span itemprop=\"name\">\\n    NLB Services Pvt Ltd</span>\\n</span>\\n\\n - <span itemprop=\"jobLocation\" itemscope=\"\" itemtype=\"http://schema.org/Place\"><span class=\"location\" itemprop=\"address\" itemscope=\"\" itemtype=\"http://schema.org/Postaladdress\"><span itemprop=\"addressLocality\">Redmond, WA</span></span></span>\\n\\xa0<a class=\"more_loc\" href=\"/jobs?q=data+scientist&amp;rbt=Data+Scientist&amp;rbc=NLB+Services+Pvt+Ltd&amp;jtid=1872a3288ede048a&amp;jcid=df9ad718c5ba446e&amp;grp=tcl\" onmousedown=\"ptk('addlloc');\" rel=\"nofollow\">+4 locations</a><table border=\"0\" cellpadding=\"0\" cellspacing=\"0\">\\n<tr>\\n<td class=\"snip\">\\n<div>\\n<span class=\"summary\" itemprop=\"description\">\\nBe proficient in R language. Have previous experience of the analytical industry and Marketing Analytics. High level of comfort with Primary/Secondary Research...</span>\\n</div>\\n<div class=\"iaP\">\\n<span class=\"iaLabel\"> Easily apply</span>\\n</div>\\n<div class=\"result-link-bar-container\">\\n<div class=\"result-link-bar\"><span class=\"date\">14 hours ago</span> <span class=\"tt_set\" id=\"tt_set_0\"> - <span class=\"savelink2\" id=\"savelink2_d6e8c1d7c9d3e44b\"><a class=\"sl resultLink save-job-link\" href=\"#\" id=\"sj_d6e8c1d7c9d3e44b\" onclick=\"changeJobState('d6e8c1d7c9d3e44b', 'save', 'linkbar', false);return false;\" title=\"Save this job to my.indeed\">save job</a></span>  -  <a class=\"sl resultLink tellafriend-link \" href=\"mailto:?subject=I found this job on Indeed&amp;body=http://www.indeed.com\" onclick=\"toggleTellAFriend('d6e8c1d7c9d3e44b', 0, false); return false;\">email</a> - <a class=\"sl resultLink more-link \" href=\"#\" id=\"tog_0\" onclick=\"toggleMoreLinks('d6e8c1d7c9d3e44b'); return false;\">more...</a></span><div class=\"edit_note_content\" id=\"editsaved2_d6e8c1d7c9d3e44b\" style=\"display:none;\"></div><script>window['result_d6e8c1d7c9d3e44b'] = {\"showSource\": false, \"source\": \"Indeed\", \"loggedIn\": false, \"showMyJobsLinks\": true,\"undoAction\": \"unsave\",\"relativeJobAge\": \"14 hours ago\",\"jobKey\": \"d6e8c1d7c9d3e44b\", \"myIndeedAvailable\": true, \"tellAFriendEnabled\": true, \"showMoreActionsLink\": true, \"resultNumber\": 0, \"jobStateChangedToSaved\": false, \"searchState\": \"q=data scientist&amp;\", \"basicPermaLink\": \"http://www.indeed.com\", \"saveJobFailed\": false, \"removeJobFailed\": false, \"requestPending\": false, \"notesEnabled\": true, \"currentPage\" : \"serp\", \"sponsored\" : false, \"reportJobButtonEnabled\": false};</script></div></div>\\n<div class=\"tab-container\">\\n<div class=\"more-links-container result-tab\" id=\"tt_display_0\" style=\"display:none;\"><a class=\"close-link closeLink\" href=\"#\" onclick=\"toggleMoreLinks('d6e8c1d7c9d3e44b'); return false;\" title=\"Close\"></a><div class=\"more_actions\" id=\"more_0\"><ul><li><span class=\"mat\">View all <a href=\"/jobs?q=Nlb+Services+Pvt+Ltd&amp;l=Redmond,+WA&amp;nc=jasx\" rel=\"nofollow\">NLB Services Pvt Ltd jobs in Redmond, WA</a> - <a href=\"/l-Redmond,-WA-jobs.html\">Redmond jobs</a></span></li><li><span class=\"mat\">Salary Search: <a href=\"/salary?q1=Data+Scientist&amp;l1=Redmond%2C+WA\">Data Scientist salaries in Redmond, WA</a></span></li><li><span class=\"mat\">Related forums: <a href=\"/forum/cmp/Metasys-7.html\">Metasys</a></span></li></ul></div></div><div class=\"dya-container result-tab\"></div>\\n<div class=\"tellafriend-container result-tab email_job_content\"></div>\\n<div class=\"sign-in-container result-tab\"></div>\\n<div class=\"notes-container result-tab\"></div>\\n</div>\\n</td>\\n</tr>\\n</table>\\n</div>\\n<div class=\" row result\" data-jk=\"f7472c275cecf7e5\" data-tn-component=\"organicJob\" id=\"p_f7472c275cecf7e5\" itemscope=\"\" itemtype=\"http://schema.org/JobPosting\">\\n<h2 class=\"jobtitle\" id=\"jl_f7472c275cecf7e5\">\\n<a class=\"turnstileLink\" data-tn-element=\"jobTitle\" href=\"/rc/clk?jk=f7472c275cecf7e5\" itemprop=\"title\" onclick=\"return rclk(this,jobmap[1],true,0);\" onmousedown=\"return rclk(this,jobmap[1],0);\" rel=\"nofollow\" target=\"_blank\" title=\"IT Systems &amp; Data Analyst 1/2\">IT Systems &amp; <b>Data</b> Analyst 1/2</a>\\n</h2>\\n<span class=\"company\" itemprop=\"hiringOrganization\" itemtype=\"http://schema.org/Organization\">\\n<span itemprop=\"name\">\\n    BOEING</span>\\n</span>\\n<a class=\"turnstileLink \" data-tn-element=\"reviewStars\" data-tn-variant=\"\" href=\"/cmp/Boeing/reviews?jcid=edae4285faf6c2f0\" onmousedown=\"this.href = appendParamsOnce(this.href, '?campaignid=SERP&amp;from=SERP&amp;jt=IT+Systems+%26+Data+Analyst+1%5C%2F2&amp;jk=f7472c275cecf7e5');\" target=\"\" title=\"Boeing reviews\">\\n<span class=\"ratings\"><span class=\"rating\" style=\"width:45.09999895095825px;\"><!-- --></span></span><span class=\"sl\">1,771 reviews</span></a>\\n - <span itemprop=\"jobLocation\" itemscope=\"\" itemtype=\"http://schema.org/Place\"><span class=\"location\" itemprop=\"address\" itemscope=\"\" itemtype=\"http://schema.org/Postaladdress\"><span itemprop=\"addressLocality\">North Charleston, SC 29418</span></span></span>\\n<table border=\"0\" cellpadding=\"0\" cellspacing=\"0\">\\n<tr>\\n<td class=\"snip\">\\n<div>\\n<span class=\"summary\" itemprop=\"description\">\\nSkilled <b>scientists</b> and thinkers. A technical degree is defined as any four year degree, or greater, in a mathematic, scientific or information technology field...</span>\\n</div>\\n<div class=\"result-link-bar-container\">\\n<div class=\"result-link-bar\"><span class=\"date\">18 hours ago</span> <span class=\"tt_set\" id=\"tt_set_1\"> - <span class=\"savelink2\" id=\"savelink2_f7472c275cecf7e5\"><a class=\"sl resultLink save-job-link\" href=\"#\" id=\"sj_f7472c275cecf7e5\" onclick=\"changeJobState('f7472c275cecf7e5', 'save', 'linkbar', false);return false;\" title=\"Save this job to my.indeed\">save job</a></span>  -  <a class=\"sl resultLink tellafriend-link \" href=\"mailto:?subject=I found this job on Indeed&amp;body=http://www.indeed.com\" onclick=\"toggleTellAFriend('f7472c275cecf7e5', 1, false); return false;\">email</a> - <a class=\"sl resultLink more-link \" href=\"#\" id=\"tog_1\" onclick=\"toggleMoreLinks('f7472c275cecf7e5'); return false;\">more...</a></span><div class=\"edit_note_content\" id=\"editsaved2_f7472c275cecf7e5\" style=\"display:none;\"></div><script>window['result_f7472c275cecf7e5'] = {\"showSource\": false, \"source\": \"Boeing\", \"loggedIn\": false, \"showMyJobsLinks\": true,\"undoAction\": \"unsave\",\"relativeJobAge\": \"18 hours ago\",\"jobKey\": \"f7472c275cecf7e5\", \"myIndeedAvailable\": true, \"tellAFriendEnabled\": true, \"showMoreActionsLink\": true, \"resultNumber\": 1, \"jobStateChangedToSaved\": false, \"searchState\": \"q=data scientist&amp;\", \"basicPermaLink\": \"http://www.indeed.com\", \"saveJobFailed\": false, \"removeJobFailed\": false, \"requestPending\": false, \"notesEnabled\": true, \"currentPage\" : \"serp\", \"sponsored\" : false, \"reportJobButtonEnabled\": false};</script></div></div>\\n<div class=\"tab-container\">\\n<div class=\"more-links-container result-tab\" id=\"tt_display_1\" style=\"display:none;\"><a class=\"close-link closeLink\" href=\"#\" onclick=\"toggleMoreLinks('f7472c275cecf7e5'); return false;\" title=\"Close\"></a><div class=\"more_actions\" id=\"more_1\"><ul><li><span class=\"mat\">View all <a href=\"/q-Boeing-l-North-Charleston,-SC-jobs.html\" rel=\"nofollow\">BOEING jobs in North Charleston, SC</a> - <a href=\"/l-North-Charleston,-SC-jobs.html\">North Charleston jobs</a></span></li><li><span class=\"mat\">Salary Search: <a href=\"/salary?q1=IT+System+Data+Analyst&amp;l1=North+Charleston%2C+SC\">IT System Data Analyst salaries in North Charleston, SC</a></span></li><li><span class=\"mat\">Learn more about working at <a href=\"/cmp/Boeing?jk=f7472c275cecf7e5&amp;from=serp-more&amp;campaignid=serp-more&amp;jcid=edae4285faf6c2f0\">Boeing</a></span></li><li><span class=\"mat\">Related forums: <a href=\"/forum/cmp/Boeing.html\">Boeing</a></span></li></ul></div></div><div class=\"dya-container result-tab\"></div>\\n<div class=\"tellafriend-container result-tab email_job_content\"></div>\\n<div class=\"sign-in-container result-tab\"></div>\\n<div class=\"notes-container result-tab\"></div>\\n</div>\\n</td>\\n</tr>\\n</table>\\n</div>\\n<div class=\" row result\" data-jk=\"704b0c495f64421f\" data-tn-component=\"organicJob\" id=\"p_704b0c495f64421f\" itemscope=\"\" itemtype=\"http://schema.org/JobPosting\">\\n<h2 class=\"jobtitle\" id=\"jl_704b0c495f64421f\">\\n<a class=\"turnstileLink\" data-tn-element=\"jobTitle\" href=\"/cmp/Panton-Incorporated/jobs/Data-Scientist-Scientific-Modeler-704b0c495f64421f?r=1\" itemprop=\"title\" onclick=\"return rclk(this,jobmap[2],true,0);\" onmousedown=\"return rclk(this,jobmap[2],0);\" rel=\"nofollow\" target=\"_blank\" title=\"Data Scientist and Scientific modeler\"><b>Data</b> <b>Scientist</b> and Scientific modeler</a>\\n</h2>\\n<span class=\"company\" itemprop=\"hiringOrganization\" itemtype=\"http://schema.org/Organization\">\\n<span itemprop=\"name\">\\n    Panton</span>\\n</span>\\n\\n - <span itemprop=\"jobLocation\" itemscope=\"\" itemtype=\"http://schema.org/Place\"><span class=\"location\" itemprop=\"address\" itemscope=\"\" itemtype=\"http://schema.org/Postaladdress\"><span itemprop=\"addressLocality\">Houston, TX</span></span></span>\\n<table border=\"0\" cellpadding=\"0\" cellspacing=\"0\">\\n<tr>\\n<td class=\"snip\">\\n<div>\\n<span class=\"summary\" itemprop=\"description\">\\nProvide subject matter expertise and hands-on delivery of image or video processing, predictive analysis, and advanced <b>data</b> analytics projects....</span>\\n</div>\\n<div class=\"iaP\">\\n<span class=\"iaLabel\"> Easily apply</span>\\n</div>\\n<div class=\"result-link-bar-container\">\\n<div class=\"result-link-bar\"><span class=\"date\">19 hours ago</span> <span class=\"tt_set\" id=\"tt_set_2\"> - <span class=\"savelink2\" id=\"savelink2_704b0c495f64421f\"><a class=\"sl resultLink save-job-link\" href=\"#\" id=\"sj_704b0c495f64421f\" onclick=\"changeJobState('704b0c495f64421f', 'save', 'linkbar', false);return false;\" title=\"Save this job to my.indeed\">save job</a></span>  -  <a class=\"sl resultLink tellafriend-link \" href=\"mailto:?subject=I found this job on Indeed&amp;body=http://www.indeed.com\" onclick=\"toggleTellAFriend('704b0c495f64421f', 2, false); return false;\">email</a> - <a class=\"sl resultLink more-link \" href=\"#\" id=\"tog_2\" onclick=\"toggleMoreLinks('704b0c495f64421f'); return false;\">more...</a></span><div class=\"edit_note_content\" id=\"editsaved2_704b0c495f64421f\" style=\"display:none;\"></div><script>window['result_704b0c495f64421f'] = {\"showSource\": false, \"source\": \"Indeed\", \"loggedIn\": false, \"showMyJobsLinks\": true,\"undoAction\": \"unsave\",\"relativeJobAge\": \"19 hours ago\",\"jobKey\": \"704b0c495f64421f\", \"myIndeedAvailable\": true, \"tellAFriendEnabled\": true, \"showMoreActionsLink\": true, \"resultNumber\": 2, \"jobStateChangedToSaved\": false, \"searchState\": \"q=data scientist&amp;\", \"basicPermaLink\": \"http://www.indeed.com\", \"saveJobFailed\": false, \"removeJobFailed\": false, \"requestPending\": false, \"notesEnabled\": true, \"currentPage\" : \"serp\", \"sponsored\" : false, \"reportJobButtonEnabled\": false};</script></div></div>\\n<div class=\"tab-container\">\\n<div class=\"more-links-container result-tab\" id=\"tt_display_2\" style=\"display:none;\"><a class=\"close-link closeLink\" href=\"#\" onclick=\"toggleMoreLinks('704b0c495f64421f'); return false;\" title=\"Close\"></a><div class=\"more_actions\" id=\"more_2\"><ul><li><span class=\"mat\">View all <a href=\"/q-Panton-l-Houston,-TX-jobs.html\" rel=\"nofollow\">Panton jobs in Houston, TX</a> - <a href=\"/l-Houston,-TX-jobs.html\">Houston jobs</a></span></li><li><span class=\"mat\">Salary Search: <a href=\"/salary?q1=Data+Scientist+Scientific+Modeler&amp;l1=Houston%2C+TX\">Data Scientist Scientific Modeler salaries in Houston, TX</a></span></li><li><span class=\"mat\">Learn more about working at <a href=\"/cmp/Panton-Incorporated-2?jk=704b0c495f64421f&amp;from=serp-more&amp;campaignid=serp-more&amp;jcid=628231f0a8b2c74f\">Panton</a></span></li><li><span class=\"mat\">Related forums: <a href=\"/forum/cmp/Panton-Incorporated-2.html\">Panton Incorporated</a></span></li></ul></div></div><div class=\"dya-container result-tab\"></div>\\n<div class=\"tellafriend-container result-tab email_job_content\"></div>\\n<div class=\"sign-in-container result-tab\"></div>\\n<div class=\"notes-container result-tab\"></div>\\n</div>\\n</td>\\n</tr>\\n</table>\\n</div>\\n<div class=\" row result\" data-jk=\"e448c9725df8a2d4\" data-tn-component=\"organicJob\" id=\"p_e448c9725df8a2d4\" itemscope=\"\" itemtype=\"http://schema.org/JobPosting\">\\n<h2 class=\"jobtitle\" id=\"jl_e448c9725df8a2d4\">\\n<a class=\"turnstileLink\" data-tn-element=\"jobTitle\" href=\"/cmp/NLB-Services-Inc/jobs/Data-Scientist-e448c9725df8a2d4?r=1\" itemprop=\"title\" onclick=\"return rclk(this,jobmap[3],true,0);\" onmousedown=\"return rclk(this,jobmap[3],0);\" rel=\"nofollow\" target=\"_blank\" title=\"Data Scientist\"><b>Data</b> <b>Scientist</b></a>\\n</h2>\\n<span class=\"company\" itemprop=\"hiringOrganization\" itemtype=\"http://schema.org/Organization\">\\n<span itemprop=\"name\">\\n    NLB Services Inc</span>\\n</span>\\n\\n - <span itemprop=\"jobLocation\" itemscope=\"\" itemtype=\"http://schema.org/Place\"><span class=\"location\" itemprop=\"address\" itemscope=\"\" itemtype=\"http://schema.org/Postaladdress\"><span itemprop=\"addressLocality\">Redmond, WA</span></span></span>\\n\\xa0<a class=\"more_loc\" href=\"/jobs?q=data+scientist&amp;rbt=Data+Scientist&amp;rbc=NLB+Services+Inc&amp;jtid=1872a3288ede048a&amp;jcid=0b209b5526418580&amp;grp=tcl\" onmousedown=\"ptk('addlloc');\" rel=\"nofollow\">+1 location</a><table border=\"0\" cellpadding=\"0\" cellspacing=\"0\">\\n<tr>\\n<td class=\"snip\">\\n<div>\\n<span class=\"summary\" itemprop=\"description\">\\n<b>Data</b> <b>Scientist</b> and SAS and R:. Be proficient in R language. Have previous experience of the analytical industry and Marketing Analytics....</span>\\n</div>\\n<div class=\"iaP\">\\n<span class=\"iaLabel\"> Easily apply</span>\\n</div>\\n<div class=\"result-link-bar-container\">\\n<div class=\"result-link-bar\"><span class=\"date\">12 hours ago</span> <span class=\"tt_set\" id=\"tt_set_3\"> - <span class=\"savelink2\" id=\"savelink2_e448c9725df8a2d4\"><a class=\"sl resultLink save-job-link\" href=\"#\" id=\"sj_e448c9725df8a2d4\" onclick=\"changeJobState('e448c9725df8a2d4', 'save', 'linkbar', false);return false;\" title=\"Save this job to my.indeed\">save job</a></span>  -  <a class=\"sl resultLink tellafriend-link \" href=\"mailto:?subject=I found this job on Indeed&amp;body=http://www.indeed.com\" onclick=\"toggleTellAFriend('e448c9725df8a2d4', 3, false); return false;\">email</a> - <a class=\"sl resultLink more-link \" href=\"#\" id=\"tog_3\" onclick=\"toggleMoreLinks('e448c9725df8a2d4'); return false;\">more...</a></span><div class=\"edit_note_content\" id=\"editsaved2_e448c9725df8a2d4\" style=\"display:none;\"></div><script>window['result_e448c9725df8a2d4'] = {\"showSource\": false, \"source\": \"Indeed\", \"loggedIn\": false, \"showMyJobsLinks\": true,\"undoAction\": \"unsave\",\"relativeJobAge\": \"12 hours ago\",\"jobKey\": \"e448c9725df8a2d4\", \"myIndeedAvailable\": true, \"tellAFriendEnabled\": true, \"showMoreActionsLink\": true, \"resultNumber\": 3, \"jobStateChangedToSaved\": false, \"searchState\": \"q=data scientist&amp;\", \"basicPermaLink\": \"http://www.indeed.com\", \"saveJobFailed\": false, \"removeJobFailed\": false, \"requestPending\": false, \"notesEnabled\": true, \"currentPage\" : \"serp\", \"sponsored\" : false, \"reportJobButtonEnabled\": false};</script></div></div>\\n<div class=\"tab-container\">\\n<div class=\"more-links-container result-tab\" id=\"tt_display_3\" style=\"display:none;\"><a class=\"close-link closeLink\" href=\"#\" onclick=\"toggleMoreLinks('e448c9725df8a2d4'); return false;\" title=\"Close\"></a><div class=\"more_actions\" id=\"more_3\"><ul><li><span class=\"mat\">View all <a href=\"/jobs?q=Nlb+Services+Inc&amp;l=Redmond,+WA&amp;nc=jasx\" rel=\"nofollow\">NLB Services Inc jobs in Redmond, WA</a> - <a href=\"/l-Redmond,-WA-jobs.html\">Redmond jobs</a></span></li><li><span class=\"mat\">Salary Search: <a href=\"/salary?q1=Data+Scientist&amp;l1=Redmond%2C+WA\">Data Scientist salaries in Redmond, WA</a></span></li><li><span class=\"mat\">Related forums: <a href=\"/forum/cmp/Nlb-Services-Inc-4.html\">NLB Services Inc</a></span></li></ul></div></div><div class=\"dya-container result-tab\"></div>\\n<div class=\"tellafriend-container result-tab email_job_content\"></div>\\n<div class=\"sign-in-container result-tab\"></div>\\n<div class=\"notes-container result-tab\"></div>\\n</div>\\n</td>\\n</tr>\\n</table>\\n</div>\\n<div class=\" row result\" data-jk=\"dac7a67b02b3597e\" data-tn-component=\"organicJob\" id=\"p_dac7a67b02b3597e\" itemscope=\"\" itemtype=\"http://schema.org/JobPosting\">\\n<h2 class=\"jobtitle\" id=\"jl_dac7a67b02b3597e\">\\n<a class=\"turnstileLink\" data-tn-element=\"jobTitle\" href=\"/rc/clk?jk=dac7a67b02b3597e\" itemprop=\"title\" onclick=\"return rclk(this,jobmap[4],true,0);\" onmousedown=\"return rclk(this,jobmap[4],0);\" rel=\"nofollow\" target=\"_blank\" title=\"Fraud Data Scientist\">Fraud <b>Data</b> <b>Scientist</b></a>\\n</h2>\\n<span class=\"company\" itemprop=\"hiringOrganization\" itemtype=\"http://schema.org/Organization\">\\n<span itemprop=\"name\">\\n    GreenSky</span>\\n</span>\\n<a class=\"turnstileLink \" data-tn-element=\"reviewStars\" data-tn-variant=\"\" href=\"/cmp/Greensky/reviews?jcid=03416f3f2828f00b\" onmousedown=\"this.href = appendParamsOnce(this.href, '?campaignid=SERP&amp;from=SERP&amp;jt=Fraud+Data+Scientist&amp;jk=dac7a67b02b3597e');\" target=\"\" title=\"Greensky reviews\">\\n<span class=\"ratings\"><span class=\"rating\" style=\"width:33.0px;\"><!-- --></span></span><span class=\"sl\">4 reviews</span></a>\\n - <span itemprop=\"jobLocation\" itemscope=\"\" itemtype=\"http://schema.org/Place\"><span class=\"location\" itemprop=\"address\" itemscope=\"\" itemtype=\"http://schema.org/Postaladdress\"><span itemprop=\"addressLocality\">Atlanta, GA 30329</span></span></span>\\n<table border=\"0\" cellpadding=\"0\" cellspacing=\"0\">\\n<tr>\\n<td class=\"snip\">\\n<div>\\n<span class=\"summary\" itemprop=\"description\">\\nDemonstrates the ability to quickly comprehend new ideas and technical subject matters. GreenSky is a leading company in the consumer finance marketplace...</span>\\n</div>\\n<div class=\"iaP\">\\n<span class=\"iaLabel\"> Easily apply</span>\\n</div>\\n<div class=\"result-link-bar-container\">\\n<div class=\"result-link-bar\"><span class=\"date\">4 days ago</span> <span class=\"tt_set\" id=\"tt_set_4\"> - <span class=\"savelink2\" id=\"savelink2_dac7a67b02b3597e\"><a class=\"sl resultLink save-job-link\" href=\"#\" id=\"sj_dac7a67b02b3597e\" onclick=\"changeJobState('dac7a67b02b3597e', 'save', 'linkbar', false);return false;\" title=\"Save this job to my.indeed\">save job</a></span>  -  <a class=\"sl resultLink tellafriend-link \" href=\"mailto:?subject=I found this job on Indeed&amp;body=http://www.indeed.com\" onclick=\"toggleTellAFriend('dac7a67b02b3597e', 4, false); return false;\">email</a> - <a class=\"sl resultLink more-link \" href=\"#\" id=\"tog_4\" onclick=\"toggleMoreLinks('dac7a67b02b3597e'); return false;\">more...</a></span><div class=\"edit_note_content\" id=\"editsaved2_dac7a67b02b3597e\" style=\"display:none;\"></div><script>window['result_dac7a67b02b3597e'] = {\"showSource\": false, \"source\": \"GreenSky\", \"loggedIn\": false, \"showMyJobsLinks\": true,\"undoAction\": \"unsave\",\"relativeJobAge\": \"4 days ago\",\"jobKey\": \"dac7a67b02b3597e\", \"myIndeedAvailable\": true, \"tellAFriendEnabled\": true, \"showMoreActionsLink\": true, \"resultNumber\": 4, \"jobStateChangedToSaved\": false, \"searchState\": \"q=data scientist&amp;\", \"basicPermaLink\": \"http://www.indeed.com\", \"saveJobFailed\": false, \"removeJobFailed\": false, \"requestPending\": false, \"notesEnabled\": true, \"currentPage\" : \"serp\", \"sponsored\" : false, \"reportJobButtonEnabled\": false};</script></div></div>\\n<div class=\"tab-container\">\\n<div class=\"more-links-container result-tab\" id=\"tt_display_4\" style=\"display:none;\"><a class=\"close-link closeLink\" href=\"#\" onclick=\"toggleMoreLinks('dac7a67b02b3597e'); return false;\" title=\"Close\"></a><div class=\"more_actions\" id=\"more_4\"><ul><li><span class=\"mat\">View all <a href=\"/q-Greensky-l-Atlanta,-GA-jobs.html\" rel=\"nofollow\">GreenSky jobs in Atlanta, GA</a> - <a href=\"/l-Atlanta,-GA-jobs.html\">Atlanta jobs</a></span></li><li><span class=\"mat\">Salary Search: <a href=\"/salary?q1=Fraud+Data+Scientist&amp;l1=Atlanta%2C+GA\">Fraud Data Scientist salaries in Atlanta, GA</a></span></li><li><span class=\"mat\">Learn more about working at <a href=\"/cmp/Greensky?jk=dac7a67b02b3597e&amp;from=serp-more&amp;campaignid=serp-more&amp;jcid=03416f3f2828f00b\">Greensky</a></span></li><li><span class=\"mat\">Related forums: <a href=\"/forum/cmp/Greensky.html\">Greensky</a></span></li></ul></div></div><div class=\"dya-container result-tab\"></div>\\n<div class=\"tellafriend-container result-tab email_job_content\"></div>\\n<div class=\"sign-in-container result-tab\"></div>\\n<div class=\"notes-container result-tab\"></div>\\n</div>\\n</td>\\n</tr>\\n</table>\\n</div>\\n<div class=\" row result\" data-jk=\"ba49021c6cce3317\" data-tn-component=\"organicJob\" id=\"p_ba49021c6cce3317\" itemscope=\"\" itemtype=\"http://schema.org/JobPosting\">\\n<h2 class=\"jobtitle\" id=\"jl_ba49021c6cce3317\">\\n<a class=\"turnstileLink\" data-tn-element=\"jobTitle\" href=\"/rc/clk?jk=ba49021c6cce3317\" itemprop=\"title\" onclick=\"return rclk(this,jobmap[5],true,0);\" onmousedown=\"return rclk(this,jobmap[5],0);\" rel=\"nofollow\" target=\"_blank\" title=\"Data Scientist\"><b>Data</b> <b>Scientist</b></a>\\n</h2>\\n<span class=\"company\" itemprop=\"hiringOrganization\" itemtype=\"http://schema.org/Organization\">\\n<span itemprop=\"name\">\\n    Integral Ad Science</span>\\n</span>\\n\\n - <span itemprop=\"jobLocation\" itemscope=\"\" itemtype=\"http://schema.org/Place\"><span class=\"location\" itemprop=\"address\" itemscope=\"\" itemtype=\"http://schema.org/Postaladdress\"><span itemprop=\"addressLocality\">New York, NY 10003 <span style=\"font-size: smaller\">(Greenwich Village area)</span></span></span></span>\\n<table border=\"0\" cellpadding=\"0\" cellspacing=\"0\">\\n<tr>\\n<td class=\"snip\">\\n<div>\\n<span class=\"summary\" itemprop=\"description\">\\nPropose and develop solutions independently and leading a group of other <b>data</b> <b>scientists</b>. The types of challenges we solve have attracted people from industry...</span>\\n</div>\\n<div class=\"result-link-bar-container\">\\n<div class=\"result-link-bar\"><span class=\"date\">3 hours ago</span> <span class=\"tt_set\" id=\"tt_set_5\"> - <span class=\"savelink2\" id=\"savelink2_ba49021c6cce3317\"><a class=\"sl resultLink save-job-link\" href=\"#\" id=\"sj_ba49021c6cce3317\" onclick=\"changeJobState('ba49021c6cce3317', 'save', 'linkbar', false);return false;\" title=\"Save this job to my.indeed\">save job</a></span>  -  <a class=\"sl resultLink tellafriend-link \" href=\"mailto:?subject=I found this job on Indeed&amp;body=http://www.indeed.com\" onclick=\"toggleTellAFriend('ba49021c6cce3317', 5, false); return false;\">email</a> - <a class=\"sl resultLink more-link \" href=\"#\" id=\"tog_5\" onclick=\"toggleMoreLinks('ba49021c6cce3317'); return false;\">more...</a></span><div class=\"edit_note_content\" id=\"editsaved2_ba49021c6cce3317\" style=\"display:none;\"></div><script>window['result_ba49021c6cce3317'] = {\"showSource\": false, \"source\": \"Integral Ad Science\", \"loggedIn\": false, \"showMyJobsLinks\": true,\"undoAction\": \"unsave\",\"relativeJobAge\": \"3 hours ago\",\"jobKey\": \"ba49021c6cce3317\", \"myIndeedAvailable\": true, \"tellAFriendEnabled\": true, \"showMoreActionsLink\": true, \"resultNumber\": 5, \"jobStateChangedToSaved\": false, \"searchState\": \"q=data scientist&amp;\", \"basicPermaLink\": \"http://www.indeed.com\", \"saveJobFailed\": false, \"removeJobFailed\": false, \"requestPending\": false, \"notesEnabled\": true, \"currentPage\" : \"serp\", \"sponsored\" : false, \"reportJobButtonEnabled\": false};</script></div></div>\\n<div class=\"tab-container\">\\n<div class=\"more-links-container result-tab\" id=\"tt_display_5\" style=\"display:none;\"><a class=\"close-link closeLink\" href=\"#\" onclick=\"toggleMoreLinks('ba49021c6cce3317'); return false;\" title=\"Close\"></a><div class=\"more_actions\" id=\"more_5\"><ul><li><span class=\"mat\">View all <a href=\"/q-Integral-Ad-Science-l-New-York,-NY-jobs.html\" rel=\"nofollow\">Integral Ad Science jobs in New York, NY</a> - <a href=\"/l-New-York,-NY-jobs.html\">New York jobs</a></span></li><li><span class=\"mat\">Salary Search: <a href=\"/salary?q1=Data+Scientist&amp;l1=New+York%2C+NY\">Data Scientist salaries in New York, NY</a></span></li><li><span class=\"mat\">Related forums: <a href=\"/forum/cmp/Integral-Ad-Science-1.html\">Integral Ad Science</a></span></li></ul></div></div><div class=\"dya-container result-tab\"></div>\\n<div class=\"tellafriend-container result-tab email_job_content\"></div>\\n<div class=\"sign-in-container result-tab\"></div>\\n<div class=\"notes-container result-tab\"></div>\\n</div>\\n</td>\\n</tr>\\n</table>\\n</div>\\n<div class=\" row result\" data-jk=\"d65713b2802c42d0\" data-tn-component=\"organicJob\" id=\"p_d65713b2802c42d0\" itemscope=\"\" itemtype=\"http://schema.org/JobPosting\">\\n<h2 class=\"jobtitle\" id=\"jl_d65713b2802c42d0\">\\n<a class=\"turnstileLink\" data-tn-element=\"jobTitle\" href=\"/rc/clk?jk=d65713b2802c42d0\" itemprop=\"title\" onclick=\"return rclk(this,jobmap[6],true,0);\" onmousedown=\"return rclk(this,jobmap[6],0);\" rel=\"nofollow\" target=\"_blank\" title=\"Data Scientist\"><b>Data</b> <b>Scientist</b></a>\\n</h2>\\n<span class=\"company\" itemprop=\"hiringOrganization\" itemtype=\"http://schema.org/Organization\">\\n<span itemprop=\"name\">\\n    comScore</span>\\n</span>\\n<a class=\"turnstileLink \" data-tn-element=\"reviewStars\" data-tn-variant=\"\" href=\"/cmp/Comscore/reviews?jcid=b39fb6f124ce8586\" onmousedown=\"this.href = appendParamsOnce(this.href, '?campaignid=SERP&amp;from=SERP&amp;jt=Data+Scientist&amp;jk=d65713b2802c42d0');\" target=\"\" title=\"Comscore reviews\">\\n<span class=\"ratings\"><span class=\"rating\" style=\"width:39.59999895095825px;\"><!-- --></span></span><span class=\"sl\">22 reviews</span></a>\\n - <span itemprop=\"jobLocation\" itemscope=\"\" itemtype=\"http://schema.org/Place\"><span class=\"location\" itemprop=\"address\" itemscope=\"\" itemtype=\"http://schema.org/Postaladdress\"><span itemprop=\"addressLocality\">Portland, OR</span></span></span>\\n<table border=\"0\" cellpadding=\"0\" cellspacing=\"0\">\\n<tr>\\n<td class=\"snip\">\\n<div>\\n<span class=\"summary\" itemprop=\"description\">\\nExtensive background in <b>data</b> mining applications, including proven programming and debugging ability in SAS, R, Python or similar language....</span>\\n</div>\\n<div class=\"result-link-bar-container\">\\n<div class=\"result-link-bar\"><span class=\"date\">3 hours ago</span> <span class=\"tt_set\" id=\"tt_set_6\"> - <span class=\"savelink2\" id=\"savelink2_d65713b2802c42d0\"><a class=\"sl resultLink save-job-link\" href=\"#\" id=\"sj_d65713b2802c42d0\" onclick=\"changeJobState('d65713b2802c42d0', 'save', 'linkbar', false);return false;\" title=\"Save this job to my.indeed\">save job</a></span>  -  <a class=\"sl resultLink tellafriend-link \" href=\"mailto:?subject=I found this job on Indeed&amp;body=http://www.indeed.com\" onclick=\"toggleTellAFriend('d65713b2802c42d0', 6, false); return false;\">email</a> - <a class=\"sl resultLink more-link \" href=\"#\" id=\"tog_6\" onclick=\"toggleMoreLinks('d65713b2802c42d0'); return false;\">more...</a></span><div class=\"edit_note_content\" id=\"editsaved2_d65713b2802c42d0\" style=\"display:none;\"></div><script>window['result_d65713b2802c42d0'] = {\"showSource\": false, \"source\": \"comScore\", \"loggedIn\": false, \"showMyJobsLinks\": true,\"undoAction\": \"unsave\",\"relativeJobAge\": \"3 hours ago\",\"jobKey\": \"d65713b2802c42d0\", \"myIndeedAvailable\": true, \"tellAFriendEnabled\": true, \"showMoreActionsLink\": true, \"resultNumber\": 6, \"jobStateChangedToSaved\": false, \"searchState\": \"q=data scientist&amp;\", \"basicPermaLink\": \"http://www.indeed.com\", \"saveJobFailed\": false, \"removeJobFailed\": false, \"requestPending\": false, \"notesEnabled\": true, \"currentPage\" : \"serp\", \"sponsored\" : false, \"reportJobButtonEnabled\": false};</script></div></div>\\n<div class=\"tab-container\">\\n<div class=\"more-links-container result-tab\" id=\"tt_display_6\" style=\"display:none;\"><a class=\"close-link closeLink\" href=\"#\" onclick=\"toggleMoreLinks('d65713b2802c42d0'); return false;\" title=\"Close\"></a><div class=\"more_actions\" id=\"more_6\"><ul><li><span class=\"mat\">View all <a href=\"/q-Comscore-l-Portland,-OR-jobs.html\" rel=\"nofollow\">comScore jobs in Portland, OR</a> - <a href=\"/l-Portland,-OR-jobs.html\">Portland jobs</a></span></li><li><span class=\"mat\">Salary Search: <a href=\"/salary?q1=Data+Scientist&amp;l1=Portland%2C+OR\">Data Scientist salaries in Portland, OR</a></span></li><li><span class=\"mat\">Learn more about working at <a href=\"/cmp/Comscore?jk=d65713b2802c42d0&amp;from=serp-more&amp;campaignid=serp-more&amp;jcid=b39fb6f124ce8586\">Comscore</a></span></li><li><span class=\"mat\">Related forums: <a href=\"/forum/cmp/Comscore.html\">Comscore</a></span></li></ul></div></div><div class=\"dya-container result-tab\"></div>\\n<div class=\"tellafriend-container result-tab email_job_content\"></div>\\n<div class=\"sign-in-container result-tab\"></div>\\n<div class=\"notes-container result-tab\"></div>\\n</div>\\n</td>\\n</tr>\\n</table>\\n</div>\\n<div class=\" row result\" data-jk=\"5ed481859418cc82\" data-tn-component=\"organicJob\" id=\"p_5ed481859418cc82\" itemscope=\"\" itemtype=\"http://schema.org/JobPosting\">\\n<h2 class=\"jobtitle\" id=\"jl_5ed481859418cc82\">\\n<a class=\"turnstileLink\" data-tn-element=\"jobTitle\" href=\"/rc/clk?jk=5ed481859418cc82\" itemprop=\"title\" onclick=\"return rclk(this,jobmap[7],true,0);\" onmousedown=\"return rclk(this,jobmap[7],0);\" rel=\"nofollow\" target=\"_blank\" title=\"Lead Data Scientist, Vice President\">Lead <b>Data</b> <b>Scientist</b>, Vice President</a>\\n</h2>\\n<span class=\"company\" itemprop=\"hiringOrganization\" itemtype=\"http://schema.org/Organization\">\\n<span itemprop=\"name\">\\n    Prudential</span>\\n</span>\\n<a class=\"turnstileLink \" data-tn-element=\"reviewStars\" data-tn-variant=\"\" href=\"/cmp/Prudential/reviews?jcid=4144c0c6235e4037\" onmousedown=\"this.href = appendParamsOnce(this.href, '?campaignid=SERP&amp;from=SERP&amp;jt=Lead+Data+Scientist%2C+Vice+President&amp;jk=5ed481859418cc82');\" target=\"\" title=\"Prudential reviews\">\\n<span class=\"ratings\"><span class=\"rating\" style=\"width:44.0px;\"><!-- --></span></span><span class=\"sl\">826 reviews</span></a>\\n - <span itemprop=\"jobLocation\" itemscope=\"\" itemtype=\"http://schema.org/Place\"><span class=\"location\" itemprop=\"address\" itemscope=\"\" itemtype=\"http://schema.org/Postaladdress\"><span itemprop=\"addressLocality\">Newark, NJ</span></span></span>\\n<table border=\"0\" cellpadding=\"0\" cellspacing=\"0\">\\n<tr>\\n<td class=\"snip\">\\n<div>\\n<span class=\"summary\" itemprop=\"description\">\\nInitiate and manage strategic external partnerships to supplement internal advanced <b>data</b> analytics capabilities....</span>\\n</div>\\n<div class=\"result-link-bar-container\">\\n<div class=\"result-link-bar\"><span class=\"date\">1 day ago</span> <span class=\"tt_set\" id=\"tt_set_7\"> - <span class=\"savelink2\" id=\"savelink2_5ed481859418cc82\"><a class=\"sl resultLink save-job-link\" href=\"#\" id=\"sj_5ed481859418cc82\" onclick=\"changeJobState('5ed481859418cc82', 'save', 'linkbar', false);return false;\" title=\"Save this job to my.indeed\">save job</a></span>  -  <a class=\"sl resultLink tellafriend-link \" href=\"mailto:?subject=I found this job on Indeed&amp;body=http://www.indeed.com\" onclick=\"toggleTellAFriend('5ed481859418cc82', 7, false); return false;\">email</a> - <a class=\"sl resultLink more-link \" href=\"#\" id=\"tog_7\" onclick=\"toggleMoreLinks('5ed481859418cc82'); return false;\">more...</a></span><div class=\"edit_note_content\" id=\"editsaved2_5ed481859418cc82\" style=\"display:none;\"></div><script>window['result_5ed481859418cc82'] = {\"showSource\": false, \"source\": \"Prudential\", \"loggedIn\": false, \"showMyJobsLinks\": true,\"undoAction\": \"unsave\",\"relativeJobAge\": \"1 day ago\",\"jobKey\": \"5ed481859418cc82\", \"myIndeedAvailable\": true, \"tellAFriendEnabled\": true, \"showMoreActionsLink\": true, \"resultNumber\": 7, \"jobStateChangedToSaved\": false, \"searchState\": \"q=data scientist&amp;\", \"basicPermaLink\": \"http://www.indeed.com\", \"saveJobFailed\": false, \"removeJobFailed\": false, \"requestPending\": false, \"notesEnabled\": true, \"currentPage\" : \"serp\", \"sponsored\" : false, \"reportJobButtonEnabled\": false};</script></div></div>\\n<div class=\"tab-container\">\\n<div class=\"more-links-container result-tab\" id=\"tt_display_7\" style=\"display:none;\"><a class=\"close-link closeLink\" href=\"#\" onclick=\"toggleMoreLinks('5ed481859418cc82'); return false;\" title=\"Close\"></a><div class=\"more_actions\" id=\"more_7\"><ul><li><span class=\"mat\">View all <a href=\"/q-Prudential-l-Newark,-NJ-jobs.html\" rel=\"nofollow\">Prudential jobs in Newark, NJ</a> - <a href=\"/l-Newark,-NJ-jobs.html\">Newark jobs</a></span></li><li><span class=\"mat\">Salary Search: <a href=\"/salary?q1=Lead+Data+Scientist&amp;l1=Newark%2C+NJ\">Lead Data Scientist salaries in Newark, NJ</a></span></li><li><span class=\"mat\">Learn more about working at <a href=\"/cmp/Prudential?jk=5ed481859418cc82&amp;from=serp-more&amp;campaignid=serp-more&amp;jcid=4144c0c6235e4037\">Prudential</a></span></li><li><span class=\"mat\">Related forums: <a href=\"/forum/cmp/Prudential.html\">Prudential</a></span></li></ul></div></div><div class=\"dya-container result-tab\"></div>\\n<div class=\"tellafriend-container result-tab email_job_content\"></div>\\n<div class=\"sign-in-container result-tab\"></div>\\n<div class=\"notes-container result-tab\"></div>\\n</div>\\n</td>\\n</tr>\\n</table>\\n</div>\\n<div class=\" row result\" data-jk=\"167f0bba5f99d8c0\" data-tn-component=\"organicJob\" id=\"p_167f0bba5f99d8c0\" itemscope=\"\" itemtype=\"http://schema.org/JobPosting\">\\n<h2 class=\"jobtitle\" id=\"jl_167f0bba5f99d8c0\">\\n<a class=\"turnstileLink\" data-tn-element=\"jobTitle\" href=\"/rc/clk?jk=167f0bba5f99d8c0\" itemprop=\"title\" onclick=\"return rclk(this,jobmap[8],true,0);\" onmousedown=\"return rclk(this,jobmap[8],0);\" rel=\"nofollow\" target=\"_blank\" title=\"Data Scientist - Analytical Solutions\"><b>Data</b> <b>Scientist</b> - Analytical Solutions</a>\\n</h2>\\n<span class=\"company\" itemprop=\"hiringOrganization\" itemtype=\"http://schema.org/Organization\">\\n<span itemprop=\"name\">\\n    comScore</span>\\n</span>\\n<a class=\"turnstileLink \" data-tn-element=\"reviewStars\" data-tn-variant=\"\" href=\"/cmp/Comscore/reviews?jcid=b39fb6f124ce8586\" onmousedown=\"this.href = appendParamsOnce(this.href, '?campaignid=SERP&amp;from=SERP&amp;jt=Data+Scientist+-+Analytical+Solutions&amp;jk=167f0bba5f99d8c0');\" target=\"\" title=\"Comscore reviews\">\\n<span class=\"ratings\"><span class=\"rating\" style=\"width:39.59999895095825px;\"><!-- --></span></span><span class=\"sl\">22 reviews</span></a>\\n - <span itemprop=\"jobLocation\" itemscope=\"\" itemtype=\"http://schema.org/Place\"><span class=\"location\" itemprop=\"address\" itemscope=\"\" itemtype=\"http://schema.org/Postaladdress\"><span itemprop=\"addressLocality\">New York, NY</span></span></span>\\n<table border=\"0\" cellpadding=\"0\" cellspacing=\"0\">\\n<tr>\\n<td class=\"snip\">\\n<div>\\n<span class=\"summary\" itemprop=\"description\">\\n<b>Data</b> <b>Scientist</b> - Analytical Solutions. Excellent knowledge of <b>data</b> mining and software applications. Extensive experience with SAS, R, SPSS, Alteryx, or some...</span>\\n</div>\\n<div class=\"result-link-bar-container\">\\n<div class=\"result-link-bar\"><span class=\"date\">3 hours ago</span> <span class=\"tt_set\" id=\"tt_set_8\"> - <span class=\"savelink2\" id=\"savelink2_167f0bba5f99d8c0\"><a class=\"sl resultLink save-job-link\" href=\"#\" id=\"sj_167f0bba5f99d8c0\" onclick=\"changeJobState('167f0bba5f99d8c0', 'save', 'linkbar', false);return false;\" title=\"Save this job to my.indeed\">save job</a></span>  -  <a class=\"sl resultLink tellafriend-link \" href=\"mailto:?subject=I found this job on Indeed&amp;body=http://www.indeed.com\" onclick=\"toggleTellAFriend('167f0bba5f99d8c0', 8, false); return false;\">email</a> - <a class=\"sl resultLink more-link \" href=\"#\" id=\"tog_8\" onclick=\"toggleMoreLinks('167f0bba5f99d8c0'); return false;\">more...</a></span><div class=\"edit_note_content\" id=\"editsaved2_167f0bba5f99d8c0\" style=\"display:none;\"></div><script>window['result_167f0bba5f99d8c0'] = {\"showSource\": false, \"source\": \"comScore\", \"loggedIn\": false, \"showMyJobsLinks\": true,\"undoAction\": \"unsave\",\"relativeJobAge\": \"3 hours ago\",\"jobKey\": \"167f0bba5f99d8c0\", \"myIndeedAvailable\": true, \"tellAFriendEnabled\": true, \"showMoreActionsLink\": true, \"resultNumber\": 8, \"jobStateChangedToSaved\": false, \"searchState\": \"q=data scientist&amp;\", \"basicPermaLink\": \"http://www.indeed.com\", \"saveJobFailed\": false, \"removeJobFailed\": false, \"requestPending\": false, \"notesEnabled\": true, \"currentPage\" : \"serp\", \"sponsored\" : false, \"reportJobButtonEnabled\": false};</script></div></div>\\n<div class=\"tab-container\">\\n<div class=\"more-links-container result-tab\" id=\"tt_display_8\" style=\"display:none;\"><a class=\"close-link closeLink\" href=\"#\" onclick=\"toggleMoreLinks('167f0bba5f99d8c0'); return false;\" title=\"Close\"></a><div class=\"more_actions\" id=\"more_8\"><ul><li><span class=\"mat\">View all <a href=\"/q-Comscore-l-New-York,-NY-jobs.html\" rel=\"nofollow\">comScore jobs in New York, NY</a> - <a href=\"/l-New-York,-NY-jobs.html\">New York jobs</a></span></li><li><span class=\"mat\">Salary Search: <a href=\"/salary?q1=Data+Scientist&amp;l1=New+York%2C+NY\">Data Scientist salaries in New York, NY</a></span></li><li><span class=\"mat\">Learn more about working at <a href=\"/cmp/Comscore?jk=167f0bba5f99d8c0&amp;from=serp-more&amp;campaignid=serp-more&amp;jcid=b39fb6f124ce8586\">Comscore</a></span></li><li><span class=\"mat\">Related forums: <a href=\"/forum/cmp/Comscore.html\">Comscore</a></span></li></ul></div></div><div class=\"dya-container result-tab\"></div>\\n<div class=\"tellafriend-container result-tab email_job_content\"></div>\\n<div class=\"sign-in-container result-tab\"></div>\\n<div class=\"notes-container result-tab\"></div>\\n</div>\\n</td>\\n</tr>\\n</table>\\n</div>\\n<div class=\"lastRow row result\" data-jk=\"898d015f6f63e901\" data-tn-component=\"organicJob\" id=\"p_898d015f6f63e901\" itemscope=\"\" itemtype=\"http://schema.org/JobPosting\">\\n<h2 class=\"jobtitle\" id=\"jl_898d015f6f63e901\">\\n<a class=\"turnstileLink\" data-tn-element=\"jobTitle\" href=\"/cmp/Pinnacle-Technical-Resources-Inc/jobs/Data-Scientist-898d015f6f63e901?r=1\" itemprop=\"title\" onclick=\"return rclk(this,jobmap[9],true,0);\" onmousedown=\"return rclk(this,jobmap[9],0);\" rel=\"nofollow\" target=\"_blank\" title=\"Data Scientist\"><b>Data</b> <b>Scientist</b></a>\\n</h2>\\n<span class=\"company\" itemprop=\"hiringOrganization\" itemtype=\"http://schema.org/Organization\">\\n<span itemprop=\"name\">\\n    Pinnacle Technical Resources Inc</span>\\n</span>\\n<a class=\"turnstileLink \" data-tn-element=\"reviewStars\" data-tn-variant=\"\" href=\"/cmp/Pinnacle-Technical-Resources-Inc/reviews?jcid=fdb47418939d8206\" onmousedown=\"this.href = appendParamsOnce(this.href, '?campaignid=SERP&amp;from=SERP&amp;jt=Data+Scientist&amp;jk=898d015f6f63e901');\" target=\"\" title=\"Pinnacle Technical Resources reviews\">\\n<span class=\"ratings\"><span class=\"rating\" style=\"width:38.5px;\"><!-- --></span></span><span class=\"sl\">2 reviews</span></a>\\n - <span itemprop=\"jobLocation\" itemscope=\"\" itemtype=\"http://schema.org/Place\"><span class=\"location\" itemprop=\"address\" itemscope=\"\" itemtype=\"http://schema.org/Postaladdress\"><span itemprop=\"addressLocality\">San Francisco, CA</span></span></span>\\n<table border=\"0\" cellpadding=\"0\" cellspacing=\"0\">\\n<tr>\\n<td class=\"snip\">\\n<div>\\n<span class=\"summary\" itemprop=\"description\">\\nR, SAS, utility, <b>data</b> <b>scientist</b>, quantitative, cost, modeling:. Experience is collecting <b>data</b> from various <b>data</b> sources with different <b>data</b> platforms....</span>\\n</div>\\n<div class=\"iaP\">\\n<span class=\"iaLabel\"> Easily apply</span>\\n</div>\\n<div class=\"result-link-bar-container\">\\n<div class=\"result-link-bar\"><span class=\"date\">12 hours ago</span> <span class=\"tt_set\" id=\"tt_set_9\"> - <span class=\"savelink2\" id=\"savelink2_898d015f6f63e901\"><a class=\"sl resultLink save-job-link\" href=\"#\" id=\"sj_898d015f6f63e901\" onclick=\"changeJobState('898d015f6f63e901', 'save', 'linkbar', false);return false;\" title=\"Save this job to my.indeed\">save job</a></span>  -  <a class=\"sl resultLink tellafriend-link \" href=\"mailto:?subject=I found this job on Indeed&amp;body=http://www.indeed.com\" onclick=\"toggleTellAFriend('898d015f6f63e901', 9, false); return false;\">email</a> - <a class=\"sl resultLink more-link \" href=\"#\" id=\"tog_9\" onclick=\"toggleMoreLinks('898d015f6f63e901'); return false;\">more...</a></span><div class=\"edit_note_content\" id=\"editsaved2_898d015f6f63e901\" style=\"display:none;\"></div><script>window['result_898d015f6f63e901'] = {\"showSource\": false, \"source\": \"Indeed\", \"loggedIn\": false, \"showMyJobsLinks\": true,\"undoAction\": \"unsave\",\"relativeJobAge\": \"12 hours ago\",\"jobKey\": \"898d015f6f63e901\", \"myIndeedAvailable\": true, \"tellAFriendEnabled\": true, \"showMoreActionsLink\": true, \"resultNumber\": 9, \"jobStateChangedToSaved\": false, \"searchState\": \"q=data scientist&amp;\", \"basicPermaLink\": \"http://www.indeed.com\", \"saveJobFailed\": false, \"removeJobFailed\": false, \"requestPending\": false, \"notesEnabled\": true, \"currentPage\" : \"serp\", \"sponsored\" : false, \"reportJobButtonEnabled\": false};</script></div></div>\\n<div class=\"tab-container\">\\n<div class=\"more-links-container result-tab\" id=\"tt_display_9\" style=\"display:none;\"><a class=\"close-link closeLink\" href=\"#\" onclick=\"toggleMoreLinks('898d015f6f63e901'); return false;\" title=\"Close\"></a><div class=\"more_actions\" id=\"more_9\"><ul><li><span class=\"mat\">View all <a href=\"/jobs?q=Pinnacle+Technical+Resources+Inc&amp;l=San+Francisco,+CA&amp;nc=jasx\" rel=\"nofollow\">Pinnacle Technical Resources Inc jobs in San Francisco, CA</a> - <a href=\"/l-San-Francisco,-CA-jobs.html\">San Francisco jobs</a></span></li><li><span class=\"mat\">Salary Search: <a href=\"/salary?q1=Data+Scientist&amp;l1=San+Francisco%2C+CA\">Data Scientist salaries in San Francisco, CA</a></span></li><li><span class=\"mat\">Learn more about working at <a href=\"/cmp/Pinnacle-Technical-Resources-Inc?jk=898d015f6f63e901&amp;from=serp-more&amp;campaignid=serp-more&amp;jcid=fdb47418939d8206\">Pinnacle Technical Resources Inc</a></span></li><li><span class=\"mat\">Related forums: <a href=\"/forum/cmp/Pinnacle-Technical-Resources-Inc.html\">Pinnacle Technical Resources Inc</a></span></li></ul></div></div><div class=\"dya-container result-tab\"></div>\\n<div class=\"tellafriend-container result-tab email_job_content\"></div>\\n<div class=\"sign-in-container result-tab\"></div>\\n<div class=\"notes-container result-tab\"></div>\\n</div>\\n</td>\\n</tr>\\n</table>\\n</div>\\n<p class=\"footerJaPromoBubble\">\\n<span>\\nNever miss a job. Get new jobs emailed to you daily.</span>\\n<script type=\"text/javascript\">setJaPromoCookie()</script>\\n</p>\\n<style>\\n.fixed_ja_link_x { color:#00C; float: right; font-size: 22px; margin-top: -8px; font-weight: bold;}\\n.fixed_ja_link_x:hover { cursor:pointer;}\\n.fixed_ja_link { color:#00C; cursor: pointer;}\\n.fixed_ja_link:hover { text-decoration: underline;}\\n.fixed_ja_background { background-color: #ebebeb;}\\n</style>\\n<div id=\"bjobalertswrapper\">\\n<div class=\"open jaPromoUi jaui nX7pip7P6\" id=\"bjobalerts\">\\n<div class=\"jobalertlabel\">\\n<span class=\"jobalerts_title\" id=\"bjobalertlabel\"><span aria-label=\"alert icon\" class=\"ico\" role=\"img\"></span>Get email updates for the latest <b>data scientist jobs</b></span>\\n</div>\\n<div class=\"jaform\" id=\"bjobalertform\">\\n<span id=\"bjobalerttext\"></span><span id=\"bjobalertsending\"></span>\\n<div id=\"bjobalertmessage\">\\n<form action=\"/alert\" method=\"POST\" onsubmit=\"return addalert('data+scientist','','b','',this.email.value,'1aajc9uqub9h3aac', this.verified.value, false, '', true, '661982', 'US', '02facb46dad2cc21bcfcf05b3785a38f', this.recjobalert.checked);\">\\n<input name=\"a\" type=\"hidden\" value=\"add\"/>\\n<input name=\"q\" type=\"hidden\" value=\"data scientist\"/>\\n<input name=\"l\" type=\"hidden\" value=\"\"/>\\n<input name=\"radius\" type=\"hidden\" value=\"25\"/>\\n<input name=\"noscript\" type=\"hidden\" value=\"1\"/>\\n<input name=\"fr\" type=\"hidden\" value=\"b\"/>\\n<input name=\"tk\" type=\"hidden\" value=\"1aajc9uqub9h3aac\"/>\\n<input id=\"balertverified\" name=\"verified\" type=\"hidden\" value=\"0\"/>\\n<input name=\"alertparams\" type=\"hidden\" value=\"\"/>\\n<label for=\"balertemail\">My email:</label> <input id=\"balertemail\" maxlength=\"100\" name=\"email\" size=\"25\" type=\"text\" value=\"\"/>\\n<span class=\"indeed-apply-button\"><span class=\"indeed-apply-button-inner\"><input class=\"indeed-apply-button-label\" id=\"balertsubmit\" type=\"submit\" value=\"Activate\"/></span></span>\\n<style type=\"text/css\">\\n    .indeed-apply-button { cursor : pointer !important; display : inline-block !important; padding : 1px !important; height : 31px !important; -moz-border-radius : 7px !important; border-radius : 7px !important; position : relative !important; text-decoration : none !important;background-color:#79788B; filter:progid:DXImageTransform.Microsoft.gradient(startColorstr='#BCBBCD', endColorstr='#79788B', GradientType=0);background-image: -webkit-gradient(linear, center top, center bottom, from(#BCBBCD), to(#79788B)) !important;background-image: -webkit-linear-gradient(top, #BCBBCD, #79788B) !important;background-image: -moz-linear-gradient(top, #BCBBCD, #79788B) !important;background-image: -o-linear-gradient(top, #BCBBCD, #79788B) !important;background-image: -ms-linear-gradient(top, #BCBBCD, #79788B) !important;background-image: linear-gradient(top, #BCBBCD, #79788B) !important;-webkit-box-shadow: 0 1px 2px rgba(0,0,0,0.2) !important;-moz-box-shadow: 0 1px 2px rgba(0,0,0,0.2) !important;box-shadow: 0 1px 2px rgba(0,0,0,0.2) !important; } #indeed-ia-1329175190441-0:link, #indeed-ia-1329175190441-0:visited, #indeed-ia-1329175190441-0:hover, #indeed-ia-1329175190441-0:active { border : 0 !important; text-decoration : none !important; }\\n\\n    .indeed-apply-button:hover { filter:progid:DXImageTransform.Microsoft.gradient(startColorstr='#6D99F6', endColorstr='#1B45A3', GradientType=0);background-image: -webkit-gradient(linear, center top, center bottom, from(#6D99F6), to(#1B45A3)) !important;background-image: -webkit-linear-gradient(top, #6D99F6, #1B45A3) !important;background-image: -moz-linear-gradient(top, #6D99F6, #1B45A3) !important;background-image: -o-linear-gradient(top, #6D99F6, #1B45A3) !important;background-image: -ms-linear-gradient(top, #6D99F6, #1B45A3) !important;background-image: linear-gradient(top, #6D99F6, #1B45A3) !important; }\\n\\n    .indeed-apply-state-clicked .indeed-apply-button,\\n    .indeed-apply-button:active { filter:progid:DXImageTransform.Microsoft.gradient(startColorstr='#B3BACA', endColorstr='#7C8493', GradientType=0);background-image: -webkit-gradient(linear, center top, center bottom, from(#B3BACA), to(#7C8493)) !important;background-image: -webkit-linear-gradient(top, #B3BACA, #7C8493) !important;background-image: -moz-linear-gradient(top, #B3BACA, #7C8493) !important;background-image: -o-linear-gradient(top, #B3BACA, #7C8493) !important;background-image: -ms-linear-gradient(top, #B3BACA, #7C8493) !important;background-image: linear-gradient(top, #B3BACA, #7C8493) !important;-webkit-box-shadow: none !important;-moz-box-shadow: none !important;box-shadow: none !important; }\\n\\n    .indeed-apply-button-inner { display : inline-block !important; height : 31px !important; -moz-border-radius : 6px !important; border-radius : 6px !important; font : 18px 'Helvetica Neue','Helvetica',Arial !important; font-weight : 200 !important; text-decoration : none !important; text-shadow : 0px 1px #F1F1F4 !important;background-color:#D9D9E2;  color: #FF6703;filter:progid:DXImageTransform.Microsoft.gradient(startColorstr='#FAFAFB', endColorstr='#D9D9E2', GradientType=0);background-image: -webkit-gradient(linear, center top, center bottom, from(#FAFAFB), to(#D9D9E2)) !important;background-image: -webkit-linear-gradient(top, #FAFAFB, #D9D9E2) !important;background-image: -moz-linear-gradient(top, #FAFAFB, #D9D9E2) !important;background-image: -o-linear-gradient(top, #FAFAFB, #D9D9E2) !important;background-image: -ms-linear-gradient(top, #FAFAFB, #D9D9E2) !important;background-image: linear-gradient(top, #FAFAFB, #D9D9E2) !important; }\\n\\n    .indeed-apply-button:active .indeed-apply-button-inner { filter:progid:DXImageTransform.Microsoft.gradient(startColorstr='#E8E8E9', endColorstr='#CBCBD3', GradientType=0);background-image: -webkit-gradient(linear, center top, center bottom, from(#E8E8E9), to(#CBCBD3)) !important;background-image: -webkit-linear-gradient(top, #E8E8E9, #CBCBD3) !important;background-image: -moz-linear-gradient(top, #E8E8E9, #CBCBD3) !important;background-image: -o-linear-gradient(top, #E8E8E9, #CBCBD3) !important;background-image: -ms-linear-gradient(top, #E8E8E9, #CBCBD3) !important;background-image: linear-gradient(top, #E8E8E9, #CBCBD3) !important; }\\n\\n    .indeed-apply-button-label {cursor: pointer; text-align : center !important; border:0; background: transparent;font-size: 12px; font-family: Arial, sans-serif; padding:3px 14px 2px 12px; margin:0; line-height: 26px; }\\n\\n    .indeed-apply-button:active .indeed-apply-button-label,\\n    .indeed-apply-state-clicked .indeed-apply-button-label { -ms-filter: \"progid:DXImageTransform.Microsoft.Alpha(Opacity=0.75)\" !important;filter: alpha(opacity=75) !important;-moz-opacity: 0.75 !important;-khtml-opacity: 0.75 !important;opacity: 0.75 !important; }\\n\\n    #talertemail, #balertemail {  height: 27px; line-height: 24px; padding-left: 6px; padding-right: 6px; font-size: 14px; font-family: Arial, sans-serif; }\\n</style><label for=\"brecjobalert\" id=\"brecjobalertlabel\">\\n<input checked=\"\" id=\"brecjobalert\" name=\"recjobalert\" type=\"checkbox\"/>\\n<span>Also get an email with jobs recommended just for me</span>\\n</label>\\n</form>\\n<span class=\"caption\">\\nYou can cancel email alerts at any time.</span>\\n</div>\\n</div>\\n</div>\\n</div>\\n<script type=\"text/javascript\">\\nfunction ptk(st,p) {\\ndocument.cookie = 'PTK=\"tk=1aajc9uqub9h3aac&type=jobsearch&subtype=' + st + (p ? '&' + p : '')\\n + (st == 'pagination' ? '&fp=1' : '')\\n+'\"; path=/';\\n}\\n</script>\\n<script type=\"text/javascript\">\\nfunction pclk(event) {\\nvar evt = event || window.event;\\nvar target = evt.target || evt.srcElement;\\nvar el = target.nodeType == 1 ? target : target.parentNode;\\nvar tag = el.tagName.toLowerCase();\\nif (tag == 'span' || tag == 'a') {\\nptk('pagination');\\n}\\nreturn true;\\n}\\n</script>\\n<div class=\"pagination\" onmousedown=\"pclk(event);\">Results\\xa0Page:\\xa0\\xa0<b>1</b>\\xa0\\xa0<a href=\"/jobs?q=data+scientist&amp;start=10\" rel=\"nofollow\"><span class=\"pn\">2</span></a>\\xa0\\xa0<a href=\"/jobs?q=data+scientist&amp;start=20\" rel=\"nofollow\"><span class=\"pn\">3</span></a>\\xa0\\xa0<a href=\"/jobs?q=data+scientist&amp;start=30\" rel=\"nofollow\"><span class=\"pn\">4</span></a>\\xa0\\xa0<a href=\"/jobs?q=data+scientist&amp;start=40\" rel=\"nofollow\"><span class=\"pn\">5</span></a>\\xa0\\xa0 <a href=\"/jobs?q=data+scientist&amp;start=10\" rel=\"nofollow\"><span class=\"pn\"><span class=\"np\">Next\\xa0\\xbb</span></span></a></div>\\n<div class=\"related_searches\">\\n<div class=\"related_searches_list\">\\n<b class=\"related_searches_title\">Companies Currently Hiring:</b>\\n<a href=\"/cmp/Prudential?from=SERP&amp;campaignid=bottomhiring\">Prudential</a>\\n - <a href=\"/cmp/Comscore?from=SERP&amp;campaignid=bottomhiring\">Comscore</a>\\n - <a href=\"/cmp/Boeing?from=SERP&amp;campaignid=bottomhiring\">Boeing</a>\\n - <a href=\"/cmp/Pinnacle-Technical-Resources-Inc?from=SERP&amp;campaignid=bottomhiring\">Pinnacle Technical Resources Inc</a>\\n - <a href=\"/cmp/Greensky?from=SERP&amp;campaignid=bottomhiring\">Greensky</a>\\n</div>\\n</div>\\n</td>\\n<td id=\"auxCol\">\\n<div id=\"tjobalertswrapper\">\\n<div class=\"open jaui \" id=\"tjobalerts\">\\n<div class=\"jobalertlabel\">\\n<span class=\"jobalerts_title\" id=\"tjobalertlabel\"><span aria-label=\"alert icon\" class=\"ico\" role=\"img\"></span>Get new jobs for this search by email</span>\\n</div>\\n<div class=\"jaform\" id=\"tjobalertform\">\\n<span id=\"tjobalerttext\"></span><span id=\"tjobalertsending\"></span>\\n<div id=\"tjobalertmessage\">\\n<form action=\"/alert\" method=\"POST\" onsubmit=\"return addalert('data+scientist','','t','',this.email.value,'1aajc9uqub9h3aac', this.verified.value, false, '', true, '661982', 'US', '02facb46dad2cc21bcfcf05b3785a38f', this.recjobalert.checked);\">\\n<input name=\"a\" type=\"hidden\" value=\"add\"/>\\n<input name=\"q\" type=\"hidden\" value=\"data scientist\"/>\\n<input name=\"l\" type=\"hidden\" value=\"\"/>\\n<input name=\"radius\" type=\"hidden\" value=\"25\"/>\\n<input name=\"noscript\" type=\"hidden\" value=\"1\"/>\\n<input name=\"fr\" type=\"hidden\" value=\"t\"/>\\n<input name=\"tk\" type=\"hidden\" value=\"1aajc9uqub9h3aac\"/>\\n<input id=\"talertverified\" name=\"verified\" type=\"hidden\" value=\"0\"/>\\n<input name=\"alertparams\" type=\"hidden\" value=\"\"/>\\n<label for=\"talertemail\">My email:</label> <input id=\"talertemail\" maxlength=\"100\" name=\"email\" size=\"25\" type=\"text\" value=\"\"/>\\n<label for=\"trecjobalert\" id=\"trecjobalertlabel\">\\n<input checked=\"\" id=\"trecjobalert\" name=\"recjobalert\" type=\"checkbox\"/>\\n<span>Also get an email with jobs recommended just for me</span>\\n</label>\\n<span class=\"indeed-apply-button\"><span class=\"indeed-apply-button-inner\"><input class=\"indeed-apply-button-label\" id=\"talertsubmit\" type=\"submit\" value=\"Activate\"/></span></span>\\n<style type=\"text/css\">\\n    .indeed-apply-button { cursor : pointer !important; display : inline-block !important; padding : 1px !important; height : 31px !important; -moz-border-radius : 7px !important; border-radius : 7px !important; position : relative !important; text-decoration : none !important;background-color:#79788B; filter:progid:DXImageTransform.Microsoft.gradient(startColorstr='#BCBBCD', endColorstr='#79788B', GradientType=0);background-image: -webkit-gradient(linear, center top, center bottom, from(#BCBBCD), to(#79788B)) !important;background-image: -webkit-linear-gradient(top, #BCBBCD, #79788B) !important;background-image: -moz-linear-gradient(top, #BCBBCD, #79788B) !important;background-image: -o-linear-gradient(top, #BCBBCD, #79788B) !important;background-image: -ms-linear-gradient(top, #BCBBCD, #79788B) !important;background-image: linear-gradient(top, #BCBBCD, #79788B) !important;-webkit-box-shadow: 0 1px 2px rgba(0,0,0,0.2) !important;-moz-box-shadow: 0 1px 2px rgba(0,0,0,0.2) !important;box-shadow: 0 1px 2px rgba(0,0,0,0.2) !important; } #indeed-ia-1329175190441-0:link, #indeed-ia-1329175190441-0:visited, #indeed-ia-1329175190441-0:hover, #indeed-ia-1329175190441-0:active { border : 0 !important; text-decoration : none !important; }\\n\\n    .indeed-apply-button:hover { filter:progid:DXImageTransform.Microsoft.gradient(startColorstr='#6D99F6', endColorstr='#1B45A3', GradientType=0);background-image: -webkit-gradient(linear, center top, center bottom, from(#6D99F6), to(#1B45A3)) !important;background-image: -webkit-linear-gradient(top, #6D99F6, #1B45A3) !important;background-image: -moz-linear-gradient(top, #6D99F6, #1B45A3) !important;background-image: -o-linear-gradient(top, #6D99F6, #1B45A3) !important;background-image: -ms-linear-gradient(top, #6D99F6, #1B45A3) !important;background-image: linear-gradient(top, #6D99F6, #1B45A3) !important; }\\n\\n    .indeed-apply-state-clicked .indeed-apply-button,\\n    .indeed-apply-button:active { filter:progid:DXImageTransform.Microsoft.gradient(startColorstr='#B3BACA', endColorstr='#7C8493', GradientType=0);background-image: -webkit-gradient(linear, center top, center bottom, from(#B3BACA), to(#7C8493)) !important;background-image: -webkit-linear-gradient(top, #B3BACA, #7C8493) !important;background-image: -moz-linear-gradient(top, #B3BACA, #7C8493) !important;background-image: -o-linear-gradient(top, #B3BACA, #7C8493) !important;background-image: -ms-linear-gradient(top, #B3BACA, #7C8493) !important;background-image: linear-gradient(top, #B3BACA, #7C8493) !important;-webkit-box-shadow: none !important;-moz-box-shadow: none !important;box-shadow: none !important; }\\n\\n    .indeed-apply-button-inner { display : inline-block !important; height : 31px !important; -moz-border-radius : 6px !important; border-radius : 6px !important; font : 18px 'Helvetica Neue','Helvetica',Arial !important; font-weight : 200 !important; text-decoration : none !important; text-shadow : 0px 1px #F1F1F4 !important;background-color:#D9D9E2;  color: #FF6703;filter:progid:DXImageTransform.Microsoft.gradient(startColorstr='#FAFAFB', endColorstr='#D9D9E2', GradientType=0);background-image: -webkit-gradient(linear, center top, center bottom, from(#FAFAFB), to(#D9D9E2)) !important;background-image: -webkit-linear-gradient(top, #FAFAFB, #D9D9E2) !important;background-image: -moz-linear-gradient(top, #FAFAFB, #D9D9E2) !important;background-image: -o-linear-gradient(top, #FAFAFB, #D9D9E2) !important;background-image: -ms-linear-gradient(top, #FAFAFB, #D9D9E2) !important;background-image: linear-gradient(top, #FAFAFB, #D9D9E2) !important; }\\n\\n    .indeed-apply-button:active .indeed-apply-button-inner { filter:progid:DXImageTransform.Microsoft.gradient(startColorstr='#E8E8E9', endColorstr='#CBCBD3', GradientType=0);background-image: -webkit-gradient(linear, center top, center bottom, from(#E8E8E9), to(#CBCBD3)) !important;background-image: -webkit-linear-gradient(top, #E8E8E9, #CBCBD3) !important;background-image: -moz-linear-gradient(top, #E8E8E9, #CBCBD3) !important;background-image: -o-linear-gradient(top, #E8E8E9, #CBCBD3) !important;background-image: -ms-linear-gradient(top, #E8E8E9, #CBCBD3) !important;background-image: linear-gradient(top, #E8E8E9, #CBCBD3) !important; }\\n\\n    .indeed-apply-button-label {cursor: pointer; text-align : center !important; border:0; background: transparent;font-size: 12px; font-family: Arial, sans-serif; padding:3px 14px 2px 12px; margin:0; line-height: 26px; }\\n\\n    .indeed-apply-button:active .indeed-apply-button-label,\\n    .indeed-apply-state-clicked .indeed-apply-button-label { -ms-filter: \"progid:DXImageTransform.Microsoft.Alpha(Opacity=0.75)\" !important;filter: alpha(opacity=75) !important;-moz-opacity: 0.75 !important;-khtml-opacity: 0.75 !important;opacity: 0.75 !important; }\\n\\n    #talertemail, #balertemail {  height: 27px; line-height: 24px; padding-left: 6px; padding-right: 6px; font-size: 14px; font-family: Arial, sans-serif; }\\n</style></form>\\n<span class=\"caption\">\\nYou can cancel email alerts at any time.</span>\\n</div>\\n</div>\\n</div>\\n</div>\\n</td></tr>\\n</table>\\n<div class=\"prime-popover\" id=\"prime-popover-background\">\\n</div>\\n<div class=\"prime-popover\" id=\"prime-popover-div\">\\n<div id=\"prime-popover-x\">\\n<span id=\"prime-popover-close-button\">\\xd7</span>\\n</div>\\n<style type=\"text/css\">\\n    #prime_promo_logos {\\n        width: 620px;\\n        height: 436px;\\n    }\\n\\n    #prime_promo_logos .heading_logo_div {\\n        margin: 30px 0 24px 0;\\n        text-align: center;\\n    }\\n\\n    #prime_promo_logos .heading_logo_div .heading_logo {\\n        max-height: 50px;\\n        vertical-align: middle;\\n    }\\n\\n    #prime_promo_logos .heading {\\n        font-size: 24px;\\n        color: #ff6600;\\n        text-align: center;\\n        line-height: 26px;\\n    }\\n\\n    #prime_promo_logos .subheading {\\n        font-size: 15px;\\n        color: #666666;\\n        text-align: center;\\n        margin-top: 15px;\\n        margin-bottom: 25px;\\n    }\\n\\n    #prime_promo_logos .content {\\n        background: #F8F8F8;\\n    }\\n\\n    #prime_promo_logos .content .legal {\\n        font-size: 11px;\\n        color: #666666;\\n        padding-top: 15px;\\n        padding-bottom: 20px;\\n        text-align: center;\\n    }\\n\\n    #prime_promo_logos .apply_div {\\n        margin-top: 22px;\\n        margin-bottom: 31px;\\n    }\\n\\n    #prime_promo_logos .apply_div a {\\n        color: #FFFFFF;\\n        margin-left: 220px;\\n        text-decoration: none !important;\\n        font-size: 18px;\\n        font-weight: bold;\\n    }\\n\\n    #prime_promo_logos .apply_div a:hover {\\n        text-decoration: none !important;\\n    }\\n\\n    #prime_promo_logos .logo_div div {\\n        display: inline-block;\\n        width: 144px;\\n        height: 35px;\\n        text-align: center;\\n    }\\n\\n    #prime_promo_logos .logo {\\n        padding: 0 22.5px 0 22.5px;\\n        max-width: 576px;\\n        max-height: 94px;\\n    }\\n\\n    #prime_promo_logos .logo_center_helper {\\n        display: inline-block;\\n        height: 100%;\\n        vertical-align: middle;\\n    }\\n</style>\\n<div id=\"prime_promo_logos\">\\n<div class=\"heading_logo_div\">\\n<span class=\"logo_center_helper\"></span>\\n<img class=\"heading_logo\" src=\"/images/prime/indeed_prime_logo.png\"/>\\n</div>\\n<div class=\"heading\"><b>3 minutes</b> could get you</div>\\n<div class=\"heading\"><b>10 offers</b> from top tech companies</div>\\n<div class=\"subheading\">Receive a $5,000 Prime bonus if you get hired on Indeed Prime</div>\\n<div class=\"apply_div\">\\n<a class=\"roundedCorner indeedblue\" href=\"/promo/prime\" onmousedown=\"this.href = appendParamsOnce( this.href, '?from=primepopover&amp;subfrom=primepopover&amp;trk.origin=jobsearch&amp;trk.variant=primepopover&amp;trk.tk=1aajc9uqtb9h3cga&amp;vertical=TECH&amp;x_isid=primepopover&amp;x_ikw=data+scientist')\">Learn More</a>\\n</div>\\n<div class=\"content\">\\n<div class=\"logo_div\">\\n<div>\\n<span class=\"logo_center_helper\"></span>\\n<img class=\"logo\" src=\"/images/prime/cmp-logos.png\"/>\\n</div>\\n</div>\\n<div class=\"legal\">Representative Companies Using Indeed Prime</div>\\n</div>\\n</div>\\n</div>\\n<style type=\"text/css\">\\n    #prime-popover-background {\\n        z-index: 2;\\n        background: #000000;\\n        width: 100%;\\n        height: 100%;\\n        opacity: .30;\\n        filter: alpha(opacity=30);\\n        top: 0;\\n    }\\n    #prime-popover-x {\\n        float: right;\\n        margin: 0 7px 0 0;\\n        cursor: pointer;\\n        font-weight: bold;\\n        font-size: 18px;\\n        color: #666;\\n    }\\n    .prime-popover {\\n        position: fixed;\\n        display: none;\\n    }\\n    #prime-popover-div {\\n        z-index: 3;\\n        height: auto;\\n        width: auto;\\n        background: #ffffff;\\n        display: none; /*hide before the cookie check*/\\n        max-width: 620px;\\n    }\\n    \\n    #prime_promo {\\n        background:#ffffff\\n    }\\n</style>\\n<script type=\"text/javascript\">\\n            window['primePopoverShown'] = 'popover';\\n        </script>\\n<script>\\nvar focusHandlers = [];\\nvar linkHighlighter = new LinkHighlighter();\\nfocusHandlers.push(googBind(linkHighlighter.fadeToOriginalColor, linkHighlighter));\\nvar lostFocusHandlers = [];\\n\\nlostFocusHandlers.push(googBind(linkHighlighter.clickedAway, linkHighlighter, \"#551a8b\"));\\n\\nvar didYouApplyPrompt = new DidYouApplyPrompt('1aajc9uqub9h3aac',\\n60, 'serp', false);\\nfocusHandlers.push(googBind(didYouApplyPrompt.returnedToPage, didYouApplyPrompt));\\nlostFocusHandlers.push(googBind(didYouApplyPrompt.leftPage, didYouApplyPrompt));\\ndidYouApplyPrompt.dyaChangeFromCookie();\\n\\nvar clickTime = new ClickTime(window.tk, 'serp', 'jobtitle', focusHandlers, lostFocusHandlers);\\n</script>\\n<script>enableAdometry();</script>\\n<style type=\"text/css\">\\n#secondary_nav a,#secondary_nav a:link,#secondary_nav a:visited{color:#77c;text-decoration:none}#secondary_nav a:hover{text-decoration:underline}</style>\\n<!-- jobs -->\\n<div id=\"footerWrapper\" style=\"text-align:center;\">\\n<div id=\"footer\" style=\"text-align:left;\">\\n<div class=\"separator_bottom\"></div>\\n<div id=\"secondary_nav\">\\n<div style=\"margin: 1em;\"><span class=\"gaj_heading\">Indeed helps people get jobs:</span> <a class=\"sl\" href=\"/promo/gotajob\" onmousedown=\"this.href = appendParamsOnce( this.href, '?trk.origin=jobsearch&amp;trk.tk=1aajc9uqub9h3aac')\">Over 2.8 million stories shared</a></div><div style=\"text-align:center; padding:1em;\">For India jobs, visit <a href=\"http://www.indeed.co.in/\">Indeed India</a></div><a href=\"/\" id=\"jobs_product_link\" title=\"Jobs\">Jobs</a> - <a href=\"/salary\" id=\"salaries_product_link\" title=\"Salary Search\">Salaries</a> - <a href=\"/jobtrends\" id=\"trends_product_link\" title=\"Career Trends\">Trends</a> - <a href=\"/forum\" id=\"forums_product_link\" title=\"Employment Forums\">Forums</a> - <script type=\"text/javascript\">\\nvar jobsProductLink = document.getElementById('jobs_product_link');\\ndocument.getElementById('salaries_product_link').onclick = function() { if ( !document.js ) { return; } var q = document.js.q.value; var l = document.js.l.value; if ( q || l ) { window.location = '/salary?q1=' + urlencode( q ) + '&l1=' + urlencode( l ); return false; } };document.getElementById('trends_product_link').onclick = function() { if ( !document.js ) { return; } var q = document.js.q.value; if ( q ) { window.location = '/jobtrends?q=' + urlencode( q ) + '&l=' + urlencode( document.js.l.value ); return false; } };document.getElementById('forums_product_link').onclick = function() { if ( !document.js ) { return; } var q = document.js.q.value; if ( q ) { window.location = '/forum/?q=' + urlencode( q ) + '&l=' + urlencode( document.js.l.value ); return false; } };</script>\\n<a href=\"/find-jobs.jsp\">Browse Jobs</a> - <a href=\"/tools/jobseeker/\">Tools</a> - <a href=\"/publisher\">API</a> - <a href=\"/intl/en/about.html\"><nobr>About</nobr></a> - <a href=\"https://indeed.zendesk.com/hc/en-us\">Help Center</a>\\n<style type=\"text/css\">\\n#footer-legal {\\nmargin-top: 10px;\\nfont-size: 9pt;\\n}\\n</style>\\n<div id=\"footer-legal\">\\n<div class=\"legal-footer\">\\xa92016 Indeed - <a href=\"/legal\">Cookies, Privacy and Terms</a></div></div>\\n</div>\\n</div>\\n</div>\\n</td></tr></table>\\n<script type=\"text/javascript\">\\n        function sm_cv_tag(activityId) {\\n            var ebRand = Math.random()+'';\\n            ebRand = ebRand * 1000000;\\n\\n            var tagContainer = document.body.appendChild(document.createElement(\"div\"));\\n            tagContainer.style.position=\"absolute\";\\n            tagContainer.style.top=\"0\";\\n            tagContainer.style.left=\"0\";\\n            tagContainer.style.width=\"1px\";\\n            tagContainer.style.height=\"1px\";\\n            tagContainer.style.display=\"none\";\\n\\n            var jsTag = document.createElement('script');\\n            jsTag.src = 'HTTPS://bs.serving-sys.com/Serving/ActivityServer.bs?cn=as&amp;ActivityID=' + activityId + '&rnd=' + ebRand;\\n            jsTag.style.width=\"1px\";\\n            jsTag.style.height=\"1px\";\\n            jsTag.style.border=\"0\";\\n\\n            var noScript = document.createElement(\"noscript\");\\n            var noScriptText = '<img width=\"1\" height=\"1\" style=\"border:0\" src=\"HTTPS://bs.serving-sys.com/Serving/ActivityServer.bs?cn=as&amp;ActivityID=' + activityId + '&amp;ns=1\"/>';\\n\\n            // IE less than 9 and RCs do not support innerHTML on some DOM elements, but supports .text for it\\n            if (((typeof noScript.canHaveHTML) === \"boolean\") && (noScript.canHaveHTML === false)) { // canHaveHTML only exists for IE\\n                noScript.text = noScriptText;\\n            } else {\\n                noScript.innerHTML = noScriptText;\\n            }\\n\\n            tagContainer.appendChild(jsTag);\\n            tagContainer.appendChild(noScript);\\n        }\\n    </script>\\n<script type=\"text/javascript\">\\n<!--\\n(function ( tk ) { if ( tk && document.images ) { var s=\"/\", q=\"?\", a=\"&\", e=\"=\"; rpc(s+\"rpc\"+s+\"log\"+q+\"a\"+e+\"jsv\"+a+\"tk\"+e+tk); } })('1aajc9uqub9h3aac');\\nfunction jsall_loaded() {\\ninitProcessLeftoverDwellEntries();\\n\\nattachSjBlock('1aajc9uqub9h3aac');\\nattachJaBlock('1aajc9uqub9h3aac');\\n}\\nif (window['closureReady'] === true) {\\njsall_loaded();\\n}\\n//-->\\n</script>\\n<script type=\"text/javascript\">\\nPENDING_ANALYTICS_VARS = window.PENDING_ANALYTICS_VARS || [];\\nPENDING_ANALYTICS_VARS[PENDING_ANALYTICS_VARS.length] = ['_setCustomVar', 5, 'loggedIn', 'false', 3];\\n</script>\\n<script type=\"text/javascript\">\\n        var ga_domains = [];\\n        ga_domains.push('indeed.com.pe');ga_domains.push('indeed.com.br');ga_domains.push('indeed.es');ga_domains.push('indeed.com.ph');ga_domains.push('indeed.com');ga_domains.push('indeed.cl');ga_domains.push('indeed.ie');ga_domains.push('indeed.ch');ga_domains.push('indeed.ae');ga_domains.push('indeed.com.pk');ga_domains.push('indeed.ca');ga_domains.push('indeed.co.ve');ga_domains.push('indeed.co.za');ga_domains.push('indeed.fr');ga_domains.push('indeed.com.sg');ga_domains.push('indeed.pt');ga_domains.push('indeed.com.au');ga_domains.push('indeed.lu');ga_domains.push('indeed.com.co');ga_domains.push('indeed.co.in');ga_domains.push('indeed.com.my');ga_domains.push('indeed.de');ga_domains.push('indeed.com.mx');ga_domains.push('indeed.hk');ga_domains.push('indeed.fi');ga_domains.push('indeed.jp');ga_domains.push('indeed.nl');ga_domains.push('indeed.co.uk');\\n\\n        (function (i, s, o, g, r, a, m) {\\n            i['GoogleAnalyticsObject'] = r;\\n            i[r] = i[r] || function () {\\n                (i[r].q = i[r].q || []).push(arguments)\\n            }, i[r].l = 1 * new Date();\\n            a = s.createElement(o),\\n                    m = s.getElementsByTagName(o)[0];\\n            a.async = 1;\\n            a.src = g;\\n            m.parentNode.insertBefore(a, m)\\n        })(window, document, 'script', '//www.google-analytics.com/analytics.js', 'ga');\\n\\n        var ga = ga || [];\\n        ga('create', 'UA-90780-1', 'auto', {\\n            'allowLinker': true\\n        });\\n        ga('require', 'linkid');\\n        ga('require', 'linker');\\n        ga('linker:autoLink', ga_domains, false, true);\\n        ga('require', 'displayfeatures');\\n        ga('send', 'pageview');\\n\\n        \\n        (function () {\\n            if (window.PENDING_ANALYTICS_VARS && window.PENDING_ANALYTICS_VARS.length > 0) {\\n                for (var i in PENDING_ANALYTICS_VARS) {\\n                    ga('set', PENDING_ANALYTICS_VARS[i][2], PENDING_ANALYTICS_VARS[i][3]);\\n                }\\n            }\\n        })();\\n    </script>\\n<script>\\nvar _comscore = _comscore || [];\\n_comscore.push({ c1: \"2\", c2: \"6486505\", c4:\"www.indeed.com/q-data-scientist-jobs.html\", c15:\"1aajc9uqtb9h3cga\"});\\n(function() { var s = document.createElement(\"script\"), el = document.getElementsByTagName(\"script\")[0]; s.async = true; s.src = (document.location.protocol == \"https:\" ? \"https://sb\" : \"http://b\") + \".scorecardresearch.com/beacon.js\"; el.parentNode.insertBefore(s, el); })();\\n</script>\\n<noscript>\\n<img alt=\"\" height=\"0\" src=\"http://b.scorecardresearch.com/p?c1=2&amp;c2=6486505&amp;c4=www.indeed.com%2Fq-data-scientist-jobs.html&amp;c15=1aajc9uqtb9h3cga&amp;cv=2.0&amp;cj=1\" style=\"display:none\" width=\"0\"/>\\n</noscript>\\n<script type=\"text/javascript\">\\n    /* <![CDATA[ */\\n    var google_conversion_id = 1049100955;\\n    var google_conversion_label = \"GXkhCM2YtwMQm4Wg9AM\";\\n    var google_custom_params = window.google_tag_params;\\n    var google_remarketing_only = true;\\n    /* ]]> */\\n</script>\\n<script src=\"//www.googleadservices.com/pagead/conversion.js\" type=\"text/javascript\">\\n</script>\\n<noscript>\\n<div style=\"display:inline;\">\\n<img alt=\"\" height=\"1\" src=\"//googleads.g.doubleclick.net/pagead/viewthroughconversion/1049100955/?value=0&amp;label=GXkhCM2YtwMQm4Wg9AM&amp;guid=ON&amp;script=0\" style=\"border-style:none;\" width=\"1\"/>\\n</div>\\n</noscript>\\n</body>\\n</html>\\n"
      ]
     },
     "execution_count": 209,
     "metadata": {},
     "output_type": "execute_result"
    }
   ],
   "source": [
    "# Fixed url for job postings containing data scientist\n",
    "url = 'http://www.indeed.com/jobs?q=data+scientist&l='\n",
    "# read the website\n",
    "source = urllib2.urlopen(url).read()\n",
    "# parse html code\n",
    "bs_tree = bs4.BeautifulSoup(source)\n",
    "bs_tree"
   ]
  },
  {
   "cell_type": "code",
   "execution_count": 211,
   "metadata": {
    "collapsed": false,
    "slideshow": {
     "slide_type": "slide"
    }
   },
   "outputs": [
    {
     "name": "stdout",
     "output_type": "stream",
     "text": [
      "Search yielded 21,557 hits.\n",
      "21557\n"
     ]
    }
   ],
   "source": [
    "# see how many job postings we found\n",
    "job_count_string = bs_tree.find(id = 'searchCount').contents[0]\n",
    "job_count_string = job_count_string.split()[-1]\n",
    "print(\"Search yielded %s hits.\" % (job_count_string))\n",
    "\n",
    "# not that job_count so far is still a string, \n",
    "# not an integer, and the , separator prevents \n",
    "# us from just casting it to int\n",
    "\n",
    "job_count_digits = [int(d) for d in job_count_string if d.isdigit()]\n",
    "job_count = np.sum([digit*(10**exponent) for digit, exponent in \n",
    "                    zip(job_count_digits[::-1], range(len(job_count_digits)))])\n",
    "\n",
    "print job_count"
   ]
  },
  {
   "cell_type": "code",
   "execution_count": 214,
   "metadata": {
    "collapsed": false,
    "slideshow": {
     "slide_type": "slide"
    }
   },
   "outputs": [
    {
     "name": "stdout",
     "output_type": "stream",
     "text": [
      "2156\n",
      "We found a lot of jobs:  9\n"
     ]
    },
    {
     "data": {
      "text/plain": [
       "['http://www.indeed.com/rc/clk?jk=d6e8c1d7c9d3e44b',\n",
       " 'http://www.indeed.com/rc/clk?jk=f7472c275cecf7e5',\n",
       " 'http://www.indeed.com/rc/clk?jk=704b0c495f64421f',\n",
       " 'http://www.indeed.com/rc/clk?jk=e448c9725df8a2d4',\n",
       " 'http://www.indeed.com/rc/clk?jk=dac7a67b02b3597e',\n",
       " 'http://www.indeed.com/rc/clk?jk=ba49021c6cce3317',\n",
       " 'http://www.indeed.com/rc/clk?jk=d65713b2802c42d0',\n",
       " 'http://www.indeed.com/rc/clk?jk=5ed481859418cc82',\n",
       " 'http://www.indeed.com/rc/clk?jk=167f0bba5f99d8c0']"
      ]
     },
     "execution_count": 214,
     "metadata": {},
     "output_type": "execute_result"
    }
   ],
   "source": [
    "# The website is only listing 10 results per page, \n",
    "# so we need to scrape them page after page\n",
    "num_pages = int(np.ceil(job_count/10.0))\n",
    "\n",
    "base_url = 'http://www.indeed.com'\n",
    "job_links = []\n",
    "for i in range(1): #do range(num_pages) if you want them all\n",
    "    if i%10==0:\n",
    "        print num_pages-i\n",
    "    url = 'http://www.indeed.com/jobs?q=data+scientist&start=' + str(i*10)\n",
    "    html_page = urllib2.urlopen(url).read() \n",
    "    bs_tree = bs4.BeautifulSoup(html_page)\n",
    "    job_link_area = bs_tree.find(id = 'resultsCol')\n",
    "    job_postings = job_link_area.findAll(\"div\")\n",
    "    job_postings = [jp for jp in job_postings if not jp.get('class') is None \n",
    "                    and ''.join(jp.get('class')) ==\"rowresult\"]\n",
    "    job_ids = [jp.get('data-jk') for jp in job_postings]\n",
    "    \n",
    "    # go after each link\n",
    "    for id in job_ids:\n",
    "        job_links.append(base_url + '/rc/clk?jk=' + id)\n",
    "\n",
    "    time.sleep(1)\n",
    "\n",
    "print \"We found a lot of jobs: \", len(job_links)\n",
    "job_links"
   ]
  },
  {
   "cell_type": "markdown",
   "metadata": {
    "slideshow": {
     "slide_type": "slide"
    }
   },
   "source": [
    "Some precautions to enable us to restart our search\n",
    "========================="
   ]
  },
  {
   "cell_type": "code",
   "execution_count": 215,
   "metadata": {
    "collapsed": true,
    "slideshow": {
     "slide_type": "-"
    }
   },
   "outputs": [],
   "source": [
    "# Save the scraped links\n",
    "#with open('data/scraped_links.pkl', 'wb') as f:\n",
    "#    cPickle.dump(job_links, f)\n",
    "    \n",
    "# Read canned scraped links\n",
    "with open('data/scraped_links.pkl', 'r') as f:\n",
    "    job_links = cPickle.load(f)    "
   ]
  },
  {
   "cell_type": "code",
   "execution_count": 216,
   "metadata": {
    "collapsed": true,
    "slideshow": {
     "slide_type": "slide"
    }
   },
   "outputs": [],
   "source": [
    "skill_set = {'mapreduce': 0, 'spark': 0}\n",
    "\n",
    "## write initialization into a file, so we can restart later\n",
    "#with open('scraped_links_restart.pkl', 'wb') as f:\n",
    "#    cPickle.dump((skill_set, 0),f)    "
   ]
  },
  {
   "cell_type": "markdown",
   "metadata": {
    "slideshow": {
     "slide_type": "slide"
    }
   },
   "source": [
    "Python Dictonaries\n",
    "==================\n",
    "\n",
    "* build in data type\n",
    "* uses key: value pairs"
   ]
  },
  {
   "cell_type": "code",
   "execution_count": 217,
   "metadata": {
    "collapsed": false,
    "slideshow": {
     "slide_type": "slide"
    }
   },
   "outputs": [
    {
     "name": "stdout",
     "output_type": "stream",
     "text": [
      "{'a': 1, 'b': 2}\n",
      "['a', 'b']\n",
      "[1, 2]\n",
      "a 1\n",
      "b 2\n",
      "a 1\n",
      "b 2\n"
     ]
    }
   ],
   "source": [
    "a = {'a': 1, 'b':2}\n",
    "print a\n",
    "\n",
    "#show keys\n",
    "print a.keys()\n",
    "\n",
    "#show values\n",
    "print a.values()\n",
    "\n",
    "#show for loop over all entries\n",
    "# option 1 using zip\n",
    "# this works also for iterating over any\n",
    "# other two lists\n",
    "for k,v in zip(a.keys(), a.values()):\n",
    "    print k,v\n",
    "\n",
    "# option 2 using the dictionary `iteritems()` function\n",
    "for k,v in a.iteritems():\n",
    "    print k,v"
   ]
  },
  {
   "cell_type": "code",
   "execution_count": 218,
   "metadata": {
    "collapsed": false,
    "slideshow": {
     "slide_type": "slide"
    }
   },
   "outputs": [
    {
     "name": "stdout",
     "output_type": "stream",
     "text": [
      "How many websites still to go?  0\n"
     ]
    }
   ],
   "source": [
    "# This code below does the trick, but could be optimized for speed if necessary\n",
    "# e.g. skills are typically listed at the end of the webpage\n",
    "# might not need to split/join the whole webpage, as we already know\n",
    "# which words we are looking for \n",
    "# and could stop after the first occurance of each word\n",
    "\n",
    "with open('data/scraped_links_restart.pkl', 'r') as f:\n",
    "    skill_set, index = cPickle.load(f)\n",
    "    print \"How many websites still to go? \", len(job_links) - index\n",
    "    \n",
    "    "
   ]
  },
  {
   "cell_type": "code",
   "execution_count": 219,
   "metadata": {
    "collapsed": false,
    "slideshow": {
     "slide_type": "slide"
    }
   },
   "outputs": [],
   "source": [
    "counter = 0\n",
    "\n",
    "for link in job_links[index:]:\n",
    "    counter +=1  \n",
    "    \n",
    "    try:\n",
    "        html_page = urllib2.urlopen(link).read()\n",
    "    except urllib2.HTTPError:\n",
    "        print \"HTTPError:\"\n",
    "        continue\n",
    "    except urllib2.URLError:\n",
    "        print \"URLError:\"\n",
    "        continue\n",
    "    except socket.error as error:\n",
    "        print \"Connection closed\"\n",
    "        continue\n",
    "\n",
    "    html_text = re.sub(\"[^a-z.+3]\",\" \", html_page.lower()) # replace all but the listed characters\n",
    "        \n",
    "    for key in skill_set.keys():\n",
    "        if key in html_text:  \n",
    "            skill_set[key] +=1\n",
    "            \n",
    "    if counter % 5 == 0:\n",
    "        print len(job_links) - counter - index\n",
    "        print skill_set\n",
    "        with open('scraped_links_restart.pkl','wb') as f:\n",
    "            cPickle.dump((skill_set, index+counter),f)"
   ]
  },
  {
   "cell_type": "code",
   "execution_count": 220,
   "metadata": {
    "collapsed": false,
    "slideshow": {
     "slide_type": "slide"
    }
   },
   "outputs": [
    {
     "name": "stdout",
     "output_type": "stream",
     "text": [
      "{'spark': 31, 'mapreduce': 16}\n"
     ]
    }
   ],
   "source": [
    "print skill_set"
   ]
  },
  {
   "cell_type": "code",
   "execution_count": 221,
   "metadata": {
    "collapsed": false,
    "slideshow": {
     "slide_type": "slide"
    }
   },
   "outputs": [
    {
     "name": "stderr",
     "output_type": "stream",
     "text": [
      "/anaconda/lib/python2.7/site-packages/ipykernel/__main__.py:2: FutureWarning: sort is deprecated, use sort_values(inplace=True) for for INPLACE sorting\n",
      "  from ipykernel import kernelapp as app\n"
     ]
    },
    {
     "data": {
      "image/png": "[encoded data removed]",
      "text/plain": [
       "<matplotlib.figure.Figure at 0x101baa850>"
      ]
     },
     "metadata": {},
     "output_type": "display_data"
    }
   ],
   "source": [
    "pseries = pd.Series(skill_set)\n",
    "pseries.sort(ascending=False)\n",
    "\n",
    "pseries.plot(kind = 'bar')\n",
    "## set the title to Score Comparison\n",
    "plt.title('Data Science Skills')\n",
    "## set the x label\n",
    "plt.xlabel('Skills')\n",
    "## set the y label\n",
    "plt.ylabel('Count')\n",
    "## show the plot\n",
    "plt.show()"
   ]
  },
  {
   "cell_type": "markdown",
   "metadata": {
    "slideshow": {
     "slide_type": "slide"
    }
   },
   "source": [
    "Another Example\n",
    "================\n",
    "\n",
    "Designed by Katharine Jarmul\n",
    "----------------------------\n",
    "\n",
    "https://github.com/kjam/python-web-scraping-tutorial\n",
    "\n",
    "\n"
   ]
  },
  {
   "cell_type": "markdown",
   "metadata": {
    "slideshow": {
     "slide_type": "slide"
    }
   },
   "source": [
    "Scraping Happy Hours\n",
    "====================\n",
    "\n",
    "Scrape the happy hour list of LA for personal preferences\n",
    "\n",
    "http://www.downtownla.com/3_10_happyHours.asp?action=ALL\n",
    "\n",
    "This example is part of her talk about data scraping at PyCon2014. She is a really good speaker and I enjoyed watching her talk. Check it out: http://www.youtube.com/watch?v=p1iX0uxM1w8"
   ]
  },
  {
   "cell_type": "code",
   "execution_count": null,
   "metadata": {
    "collapsed": false,
    "slideshow": {
     "slide_type": "slide"
    }
   },
   "outputs": [],
   "source": [
    "stuff_i_like = ['burger', 'sushi', 'sweet potato fries', 'BBQ','beer']\n",
    "found_happy_hours = []\n",
    "my_happy_hours = []\n",
    "# First, I'm going to identify the areas of the page I want to look at\n",
    "url = 'http://www.downtownla.com/3_10_happyHours.asp?action=ALL'\n",
    "source = urllib2.urlopen(url).read()\n",
    "tables = bs4.BeautifulSoup(source)"
   ]
  },
  {
   "cell_type": "code",
   "execution_count": null,
   "metadata": {
    "collapsed": false,
    "slideshow": {
     "slide_type": "slide"
    }
   },
   "outputs": [],
   "source": [
    "# Then, I'm going to sort out the *exact* parts of the page\n",
    "# that match what I'm looking for...\n",
    "for t in tables.findAll('p', {'class': 'calendar_EventTitle'}):\n",
    "    text = t.text\n",
    "    for s in t.findNextSiblings():\n",
    "        text += '\\n' + s.text\n",
    "    found_happy_hours.append(text)\n",
    "\n",
    "print \"The scraper found %d happy hours!\" % len(found_happy_hours)"
   ]
  },
  {
   "cell_type": "code",
   "execution_count": null,
   "metadata": {
    "collapsed": false,
    "slideshow": {
     "slide_type": "slide"
    }
   },
   "outputs": [],
   "source": [
    "# Now I'm going to loop through the food I like\n",
    "# and see if any of the happy hour descriptions match\n",
    "for food in stuff_i_like:\n",
    "    for hh in found_happy_hours:\n",
    "        # checking for text AND making sure I don't have duplicates\n",
    "        if food in hh and hh not in my_happy_hours:\n",
    "            print \"YAY! I found some %s!\" % food\n",
    "            my_happy_hours.append(hh)\n",
    "\n",
    "print \"I think you might like %d of them, yipeeeee!\" % len(my_happy_hours)"
   ]
  },
  {
   "cell_type": "code",
   "execution_count": null,
   "metadata": {
    "collapsed": false,
    "slideshow": {
     "slide_type": "slide"
    }
   },
   "outputs": [],
   "source": [
    "# Now, let's make a mail message we can read:\n",
    "message = 'Hey Katharine,\\n\\n\\n'\n",
    "message += 'OMG, I found some stuff for you in Downtown, take a look.\\n\\n'\n",
    "message += '==============================\\n'.join(my_happy_hours)\n",
    "message = message.encode('utf-8')\n",
    "# To read more about encoding:\n",
    "# http://diveintopython.org/xml_processing/unicode.html\n",
    "message = message.replace('\\t', '').replace('\\r', '')\n",
    "message += '\\n\\nXOXO,\\n Your Py Script'\n",
    "\n",
    "#print message"
   ]
  },
  {
   "cell_type": "markdown",
   "metadata": {
    "slideshow": {
     "slide_type": "slide"
    }
   },
   "source": [
    "Getting Data with an API\n",
    "=========================\n",
    "\n",
    "* API: application programming interface\n",
    "* some sites try to make your life easier\n",
    "* Twitter, New York Times, ImDB, rotten Tomatoes, Yelp, ..."
   ]
  },
  {
   "cell_type": "markdown",
   "metadata": {
    "slideshow": {
     "slide_type": "slide"
    }
   },
   "source": [
    "Rotten Tomatoes\n",
    "===============\n",
    "\n",
    "![The Wizard of Oz](images/wiz_oz.png \"The wizard of Oz\")\n",
    "\n",
    "http://www.rottentomatoes.com/top/\n"
   ]
  },
  {
   "cell_type": "markdown",
   "metadata": {
    "slideshow": {
     "slide_type": "slide"
    }
   },
   "source": [
    "API keys\n",
    "=========\n",
    "\n",
    "* required for data access\n",
    "* identifies application (you)\n",
    "* monitors usage\n",
    "* limits rates"
   ]
  },
  {
   "cell_type": "markdown",
   "metadata": {
    "slideshow": {
     "slide_type": "slide"
    }
   },
   "source": [
    "Rotten Tomatoes Key\n",
    "===================\n",
    "\n",
    "http://developer.rottentomatoes.com/member/register"
   ]
  },
  {
   "cell_type": "code",
   "execution_count": 175,
   "metadata": {
    "collapsed": false
   },
   "outputs": [
    {
     "ename": "NameError",
     "evalue": "name 'rottenTomatoes_key' is not defined",
     "output_type": "error",
     "traceback": [
      "\u001b[0;31m---------------------------------------------------------------------------\u001b[0m",
      "\u001b[0;31mNameError\u001b[0m                                 Traceback (most recent call last)",
      "\u001b[0;32m<ipython-input-175-36e1c8f1ad4d>\u001b[0m in \u001b[0;36m<module>\u001b[0;34m()\u001b[0m\n\u001b[1;32m      2\u001b[0m \u001b[0;32mimport\u001b[0m \u001b[0mrequests\u001b[0m\u001b[0;34m\u001b[0m\u001b[0m\n\u001b[1;32m      3\u001b[0m \u001b[0;34m\u001b[0m\u001b[0m\n\u001b[0;32m----> 4\u001b[0;31m \u001b[0mapi_key\u001b[0m \u001b[0;34m=\u001b[0m \u001b[0mrottenTomatoes_key\u001b[0m\u001b[0;34m(\u001b[0m\u001b[0;34m)\u001b[0m\u001b[0;34m\u001b[0m\u001b[0m\n\u001b[0m\u001b[1;32m      5\u001b[0m \u001b[0;34m\u001b[0m\u001b[0m\n\u001b[1;32m      6\u001b[0m \u001b[0murl\u001b[0m \u001b[0;34m=\u001b[0m \u001b[0;34m'http://api.rottentomatoes.com/api/public/v1.0/lists/dvds/top_rentals.json?apikey='\u001b[0m \u001b[0;34m+\u001b[0m \u001b[0mapi_key\u001b[0m\u001b[0;34m\u001b[0m\u001b[0m\n",
      "\u001b[0;31mNameError\u001b[0m: name 'rottenTomatoes_key' is not defined"
     ]
    }
   ],
   "source": [
    "import json\n",
    "import requests\n",
    "\n",
    "api_key = rottenTomatoes_key()\n",
    "\n",
    "url = 'http://api.rottentomatoes.com/api/public/v1.0/lists/dvds/top_rentals.json?apikey=' + api_key\n",
    "data = urllib2.urlopen(url).read()\n",
    "print data"
   ]
  },
  {
   "cell_type": "markdown",
   "metadata": {
    "slideshow": {
     "slide_type": "slide"
    }
   },
   "source": [
    "JSON\n",
    "======\n",
    "\n",
    "* JavaScript Object Notation\n",
    "* human readable\n",
    "* transmit attribute-value pairs"
   ]
  },
  {
   "cell_type": "code",
   "execution_count": null,
   "metadata": {
    "collapsed": false,
    "slideshow": {
     "slide_type": "slide"
    }
   },
   "outputs": [],
   "source": [
    "a = {'a': 1, 'b':2}\n",
    "s = json.dumps(a)\n",
    "a2 = json.loads(s)\n",
    "\n",
    "## a is a dictionary\n",
    "print a\n",
    "## vs s is a string containing a in JSON encoding\n",
    "print s\n",
    "## reading back the keys are now in unicode\n",
    "print a2"
   ]
  },
  {
   "cell_type": "code",
   "execution_count": null,
   "metadata": {
    "collapsed": false,
    "slideshow": {
     "slide_type": "slide"
    }
   },
   "outputs": [],
   "source": [
    "## create dictionary from JSON \n",
    "dataDict = json.loads(data)\n",
    "\n",
    "## expore dictionary\n",
    "print dataDict.keys()\n",
    "\n",
    "## there is a key named `movies` containing a list of movies as a value\n",
    "movies = dataDict['movies']\n",
    "\n",
    "## each element of the list `movies` is a dictionary\n",
    "print movies[0].keys()\n",
    "\n",
    "## one of the keys is called `ratings`\n",
    "## the value is yet another dictionary\n",
    "print movies[0]['ratings'].keys()\n",
    "\n",
    "## so we made it all the way to find the critics score\n",
    "print movies[0]['ratings']['critics_score']\n"
   ]
  },
  {
   "cell_type": "markdown",
   "metadata": {
    "slideshow": {
     "slide_type": "slide"
    }
   },
   "source": [
    "Quiz\n",
    "=====\n",
    "\n",
    "* build a list with critics scores\n",
    "* build a list with audience scores"
   ]
  },
  {
   "cell_type": "code",
   "execution_count": null,
   "metadata": {
    "collapsed": false,
    "slideshow": {
     "slide_type": "slide"
    }
   },
   "outputs": [],
   "source": [
    "# critics scores list\n",
    "\n",
    "\n",
    "# audience scores list\n"
   ]
  },
  {
   "cell_type": "markdown",
   "metadata": {
    "slideshow": {
     "slide_type": "skip"
    }
   },
   "source": [
    "The following code shows how to create a pandas data frame with the data we gathered from the webpage.\n",
    "Beware of the `set_index()` function in pandas. Per default it does not change the actual data frame! You need to either reassign the output or set the `inplace` argument to `True`."
   ]
  },
  {
   "cell_type": "code",
   "execution_count": null,
   "metadata": {
    "collapsed": false,
    "slideshow": {
     "slide_type": "slide"
    }
   },
   "outputs": [],
   "source": [
    "## create pandas data frame with critics and audience score\n",
    "scores = pd.DataFrame(data=[critics_scores, audience_scores]).transpose()\n",
    "scores.columns = ['critics', 'audience']\n",
    "\n",
    "## also create a list with all movie titles\n",
    "movie_titles = [m['title'] for m in movies]\n",
    "\n",
    "## set index of dataFrame BEWARE of inplace!\n",
    "scores.set_index([movie_titles])\n",
    "\n",
    "## the line above does not changes scores!\n",
    "## You need to either reassign\n",
    "\n",
    "scores = scores.set_index([movie_titles])\n",
    "\n",
    "## or set the inplace argument to True\n",
    "scores.set_index([movie_titles], inplace=True)\n",
    "scores.head(3)"
   ]
  },
  {
   "cell_type": "code",
   "execution_count": null,
   "metadata": {
    "collapsed": false,
    "slideshow": {
     "slide_type": "slide"
    }
   },
   "outputs": [],
   "source": [
    "## create a bar plot with the data\n",
    "## notice that we are using the data frame itself and call its plot function\n",
    "scores.plot(kind = 'bar')\n",
    "\n",
    "## set the title to Score Comparison\n",
    "plt.title('Score Comparison')\n",
    "\n",
    "## set the x label\n",
    "plt.xlabel('Movies')\n",
    "\n",
    "## set the y label\n",
    "plt.ylabel('Scores')"
   ]
  },
  {
   "cell_type": "code",
   "execution_count": null,
   "metadata": {
    "collapsed": false,
    "slideshow": {
     "slide_type": "slide"
    }
   },
   "outputs": [],
   "source": [
    "## show the plot\n",
    "plt.show()"
   ]
  },
  {
   "cell_type": "markdown",
   "metadata": {
    "slideshow": {
     "slide_type": "slide"
    }
   },
   "source": [
    "Twitter Example:\n",
    "================\n",
    "\n",
    "* API a bit more complicated\n",
    "* libraries make life easier\n",
    "* python-twitter\n",
    "\n",
    "https://github.com/bear/python-twitter\n",
    "\n",
    "What we are going to do is scrape Joe's twitter account, and then filter it for the interesting tweets. Defining interesting as tweets that have be re-tweeted at least 10 times. \n"
   ]
  },
  {
   "cell_type": "code",
   "execution_count": null,
   "metadata": {
    "collapsed": false,
    "slideshow": {
     "slide_type": "slide"
    }
   },
   "outputs": [],
   "source": [
    "import twitter\n",
    "\n",
    "## define the necessary keys\n",
    "cKey = twitterAPI_key()\n",
    "cSecret = twitterAPI_secret()\n",
    "aKey = twitterAPI_access_token_key()\n",
    "aSecret = twitterAPI_access_token_secret()\n",
    "\n",
    "## create the api object with the twitter-python library\n",
    "api = twitter.Api(consumer_key=cKey, consumer_secret=cSecret, access_token_key=aKey, access_token_secret=aSecret)\n"
   ]
  },
  {
   "cell_type": "code",
   "execution_count": null,
   "metadata": {
    "collapsed": false,
    "slideshow": {
     "slide_type": "slide"
    }
   },
   "outputs": [],
   "source": [
    "## get the user timeline with screen_name = 'stat110'\n",
    "twitter_statuses = api.GetUserTimeline(screen_name = 'stat110')\n",
    "\n",
    "## create a data frame\n",
    "## first get a list of panda Series or dict\n",
    "pdSeriesList = [pd.Series(t.AsDict()) for t in twitter_statuses]\n",
    "\n",
    "## then create the data frame\n",
    "data = pd.DataFrame(pdSeriesList)\n",
    "\n",
    "data.head(2)"
   ]
  },
  {
   "cell_type": "code",
   "execution_count": null,
   "metadata": {
    "collapsed": false,
    "slideshow": {
     "slide_type": "slide"
    }
   },
   "outputs": [],
   "source": [
    "## filter tweets with enough retweet_count\n",
    "maybe_interesting = data[data.retweet_count>20]\n",
    "\n",
    "## get the text of these tweets\n",
    "tweet_text = maybe_interesting.text\n",
    "\n",
    "## print them out\n",
    "text = tweet_text.values\n",
    "\n",
    "for t in text:\n",
    "    print '######'\n",
    "    print t"
   ]
  },
  {
   "cell_type": "markdown",
   "metadata": {
    "slideshow": {
     "slide_type": "skip"
    }
   },
   "source": [
    "Extracting columns:\n",
    "===================\n",
    "\n",
    "__Warning:__ The returned column `tweet_text` is a `view` on the data\n",
    "    \n",
    "* it is not a copy\n",
    "* you change the Series => you change the DataFrame\n",
    "\n",
    "Below is another example of such a view:"
   ]
  },
  {
   "cell_type": "code",
   "execution_count": null,
   "metadata": {
    "collapsed": false,
    "slideshow": {
     "slide_type": "skip"
    }
   },
   "outputs": [],
   "source": [
    "## create a view for favorite_count on maybe_interesting\n",
    "view = maybe_interesting['favorite_count']\n",
    "print '-----------------'\n",
    "print \"This is view:\"\n",
    "print view\n",
    "## change a value\n",
    "view[8] = 9999\n",
    "\n",
    "## look at original frame\n",
    "print '-----------------'\n",
    "print \"This is view after changing view[8]\"\n",
    "print view\n",
    "\n",
    "print '-----------------'\n",
    "print \"This is maybe_interesting after changing view[8]\"\n",
    "print \"It changed too!\"\n",
    "print maybe_interesting['favorite_count']\n",
    "\n",
    "## to avoid this you can use copy\n",
    "independent_data = maybe_interesting['favorite_count'].copy()\n",
    "independent_data[10] = 999\n",
    "print '-----------------'\n",
    "print \"This is independent_data after changed at 10:\"\n",
    "print independent_data\n",
    "print '-----------------'\n",
    "print \"This is maybe_interesting after changing independent_data:\"\n",
    "print \"It did not change because we only changed a copy of it\"\n",
    "print maybe_interesting['favorite_count']"
   ]
  },
  {
   "cell_type": "markdown",
   "metadata": {
    "collapsed": true,
    "slideshow": {
     "slide_type": "slide"
    }
   },
   "source": [
    "What we covered today:\n",
    "============\n",
    "\n",
    "* Pandas data frames\n",
    "* Guidelines for friendly scraping\n",
    "* Scraping html sites\n",
    "* Scraping with Api's\n",
    "* Basic data cleanup\n"
   ]
  },
  {
   "cell_type": "markdown",
   "metadata": {
    "slideshow": {
     "slide_type": "slide"
    }
   },
   "source": [
    "Further material [what is this](http://www.google.com)\n",
    "================\n",
    "\n",
    "* I highly recommend Katharine Jarmul's scraping tutorials\n",
    "* For example [this one](https://www.youtube.com/watch?v=p1iX0uxM1w8)\n",
    "* Pandas has extensive [documentation](http://pandas.pydata.org/pandas-docs/stable/)\n",
    "* Especially the [ten minutes to pandas chapter](http://pandas.pydata.org/pandas-docs/stable/10min.html)\n",
    "\n",
    "* [Greg Reda](http://www.gregreda.com/2013/10/26/using-pandas-on-the-movielens-dataset/) did a lot more pandas examples for the movie lens data set"
   ]
  },
  {
   "cell_type": "code",
   "execution_count": null,
   "metadata": {
    "collapsed": true
   },
   "outputs": [],
   "source": []
  }
 ],
 "metadata": {
  "celltoolbar": "Slideshow",
  "kernelspec": {
   "display_name": "Python 2",
   "language": "python",
   "name": "python2"
  },
  "language_info": {
   "codemirror_mode": {
    "name": "ipython",
    "version": 2
   },
   "file_extension": ".py",
   "mimetype": "text/x-python",
   "name": "python",
   "nbconvert_exporter": "python",
   "pygments_lexer": "ipython2",
   "version": "2.7.11"
  }
 },
 "nbformat": 4,
 "nbformat_minor": 0
}
